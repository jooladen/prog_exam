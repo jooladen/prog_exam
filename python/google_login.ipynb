{
 "cells": [
  {
   "cell_type": "code",
   "execution_count": null,
   "id": "429f49af-831f-4711-9125-d3840130d0b1",
   "metadata": {},
   "outputs": [],
   "source": [
    "from selenium.webdriver.common.by import By\n",
    "from selenium.webdriver.support.ui import WebDriverWait\n",
    "from selenium.webdriver.support import expected_conditions as EC\n",
    "import undetected_chromedriver as uc\n",
    "\n",
    "\n",
    "\n",
    "def init_driver():\n",
    "    driver = uc.Chrome()\n",
    "    driver.get('https://velog.io')\n",
    "    return driver\n",
    "# 로그인 버튼을 눌러주고 로그인이 되서 다시 velog로 돌아올때까지 60초를 기다린다.\n",
    "def do_login(driver):\n",
    "    driver.find_element(By.XPATH,'//button[text()=\"로그인\"]').click()\n",
    "    WebDriverWait(driver, 60).until(\n",
    "        EC.presence_of_element_located(\n",
    "            (By.XPATH, '//button[text()=\"새 글 작성\"]')\n",
    "        )\n",
    "    )\n",
    "# main에서 실행하지 않으면 오류가 남\n",
    "# https://github.com/ultrafunkamsterdam/undetected-chromedriver/issues/486#issuecomment-1032009193 참조\n",
    "if  __name__  ==  \"__main__\" :\n",
    "    driver = init_driver()\n",
    "    do_login(driver)\n",
    "    # 당신의 코드를 아래에 적으세요."
   ]
  }
 ],
 "metadata": {
  "kernelspec": {
   "display_name": "Python 3 (ipykernel)",
   "language": "python",
   "name": "python3"
  },
  "language_info": {
   "codemirror_mode": {
    "name": "ipython",
    "version": 3
   },
   "file_extension": ".py",
   "mimetype": "text/x-python",
   "name": "python",
   "nbconvert_exporter": "python",
   "pygments_lexer": "ipython3",
   "version": "3.12.7"
  }
 },
 "nbformat": 4,
 "nbformat_minor": 5
}
