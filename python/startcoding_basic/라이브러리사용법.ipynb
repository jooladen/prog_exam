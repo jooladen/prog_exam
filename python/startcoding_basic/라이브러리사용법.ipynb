{
 "cells": [
  {
   "cell_type": "code",
   "execution_count": null,
   "metadata": {},
   "outputs": [],
   "source": [
    "!pip install requests"
   ]
  },
  {
   "cell_type": "code",
   "execution_count": 11,
   "metadata": {},
   "outputs": [
    {
     "name": "stdout",
     "output_type": "stream",
     "text": [
      "Requirement already satisfied: bs4 in c:\\users\\jooladen\\miniconda3\\lib\\site-packages (0.0.2)\n",
      "Requirement already satisfied: beautifulsoup4 in c:\\users\\jooladen\\miniconda3\\lib\\site-packages (from bs4) (4.12.3)\n",
      "Requirement already satisfied: soupsieve>1.2 in c:\\users\\jooladen\\miniconda3\\lib\\site-packages (from beautifulsoup4->bs4) (2.6)\n"
     ]
    }
   ],
   "source": [
    "!pip install bs4\n",
    "\n"
   ]
  },
  {
   "cell_type": "code",
   "execution_count": 2,
   "metadata": {},
   "outputs": [
    {
     "data": {
      "text/plain": [
       "<Response [200]>"
      ]
     },
     "execution_count": 2,
     "metadata": {},
     "output_type": "execute_result"
    }
   ],
   "source": [
    "import requests\n",
    "from bs4 import BeautifulSoup\n",
    "\n",
    "response = requests.get(\"https://startcoding.pythonanywhere.com/basic\")\n",
    "#print(response)\n",
    "response"
   ]
  },
  {
   "cell_type": "code",
   "execution_count": 7,
   "metadata": {},
   "outputs": [
    {
     "name": "stdout",
     "output_type": "stream",
     "text": [
      "<a class=\"brand-name\" href=\"https://www.youtube.com/channel/UCHwhZ7HPBhUh2IscPSL0pHA\" target=\"_blank\"><i class=\"fa fa-youtube\"></i>스타트코딩</a>\n",
      "--\n",
      "스타트코딩\n"
     ]
    }
   ],
   "source": [
    "#print(response.text)\n",
    "htm = response.text\n",
    "soup = BeautifulSoup(htm, \"html.parser\")\n",
    "print(soup.select_one(\".brand-name\"))\n",
    "print(\"--\")\n",
    "print(soup.select_one(\".brand-name\").text)"
   ]
  },
  {
   "cell_type": "code",
   "execution_count": null,
   "metadata": {},
   "outputs": [],
   "source": []
  }
 ],
 "metadata": {
  "kernelspec": {
   "display_name": "base",
   "language": "python",
   "name": "python3"
  },
  "language_info": {
   "codemirror_mode": {
    "name": "ipython",
    "version": 3
   },
   "file_extension": ".py",
   "mimetype": "text/x-python",
   "name": "python",
   "nbconvert_exporter": "python",
   "pygments_lexer": "ipython3",
   "version": "3.12.7"
  }
 },
 "nbformat": 4,
 "nbformat_minor": 2
}
