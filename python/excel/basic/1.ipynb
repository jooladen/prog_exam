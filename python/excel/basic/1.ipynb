{
 "cells": [
  {
   "cell_type": "code",
   "execution_count": 2,
   "id": "5a6d5646",
   "metadata": {},
   "outputs": [
    {
     "name": "stdout",
     "output_type": "stream",
     "text": [
      "<Worksheet \"Sheet\">\n",
      " \n",
      "<Worksheet \"Sheet\">\n"
     ]
    }
   ],
   "source": [
    "from openpyxl import Workbook\n",
    "\n",
    "wb = Workbook()\n",
    "ws = wb.active\n",
    "print(ws)\n",
    "print(' ')\n",
    "print(wb.active)\n",
    "ws.title = \"첫번째 시트\"\n",
    "\n",
    "ws['A1'] = \"Hello\"\n",
    "ws['B1'] = \"World\"\n",
    "\n",
    "wb.save(\"sample.xlsx\")\n"
   ]
  },
  {
   "cell_type": "code",
   "execution_count": 20,
   "id": "327a37d0",
   "metadata": {},
   "outputs": [
    {
     "name": "stdout",
     "output_type": "stream",
     "text": [
      "<Worksheet \"첫번째 시트\">\n",
      " \n",
      "<Worksheet \"첫번째 시트\">\n",
      "Hello\n"
     ]
    }
   ],
   "source": [
    "from openpyxl import load_workbook\n",
    "\n",
    "wb = load_workbook(\"sample.xlsx\")\n",
    "ws = wb.active\n",
    "print(ws)\n",
    "print(' ')\n",
    "print(wb.active)\n",
    "\n",
    "print(ws['A1'].value)  # Hello"
   ]
  },
  {
   "cell_type": "code",
   "execution_count": 21,
   "id": "0b04c79b",
   "metadata": {},
   "outputs": [
    {
     "name": "stdout",
     "output_type": "stream",
     "text": [
      "데이터 1\n",
      "10\n",
      "데이터 2\n",
      "20\n",
      "데이터 3\n",
      "30\n",
      "데이터 4\n",
      "40\n",
      "데이터 5\n",
      "50\n"
     ]
    }
   ],
   "source": [
    "for i in range(1, 6):\n",
    "    ws[f\"A{i}\"] = f\"데이터 {i}\"\n",
    "    ws[f\"B{i}\"] = i * 10\n",
    "\n",
    "for row in ws.iter_rows(min_row=1, max_row=5, max_col=2):\n",
    "    for cell in row:\n",
    "        print(cell.value)\n",
    "\n",
    "wb.save(\"sample2.xlsx\")\n",
    "\n"
   ]
  },
  {
   "cell_type": "code",
   "execution_count": 16,
   "id": "ae77a8e2",
   "metadata": {},
   "outputs": [
    {
     "name": "stdout",
     "output_type": "stream",
     "text": [
      "['첫번째 시트']\n"
     ]
    }
   ],
   "source": [
    "print(wb.sheetnames)"
   ]
  },
  {
   "cell_type": "code",
   "execution_count": 17,
   "id": "e8f47fd8",
   "metadata": {},
   "outputs": [],
   "source": [
    "ws2 = wb.create_sheet(\"새시트\")\n",
    "del wb['첫번째 시트']"
   ]
  },
  {
   "cell_type": "code",
   "execution_count": 18,
   "id": "2e810b06",
   "metadata": {},
   "outputs": [],
   "source": [
    "from openpyxl.styles import Font, Alignment\n",
    "\n",
    "ws[\"A1\"] = \"굵은 글씨\"\n",
    "ws[\"A1\"].font = Font(bold=True, color=\"FF0000\")\n",
    "ws[\"A1\"].alignment = Alignment(horizontal=\"center\")"
   ]
  },
  {
   "cell_type": "code",
   "execution_count": 19,
   "id": "2f76ee34",
   "metadata": {},
   "outputs": [],
   "source": [
    "copied_sheet = wb.copy_worksheet(wb.active)\n",
    "copied_sheet.title = \"복사된 시트\"\n",
    "wb.save(\"copied_sample.xlsx\")"
   ]
  },
  {
   "cell_type": "code",
   "execution_count": null,
   "id": "e8724064",
   "metadata": {},
   "outputs": [],
   "source": []
  }
 ],
 "metadata": {
  "kernelspec": {
   "display_name": "base",
   "language": "python",
   "name": "python3"
  },
  "language_info": {
   "codemirror_mode": {
    "name": "ipython",
    "version": 3
   },
   "file_extension": ".py",
   "mimetype": "text/x-python",
   "name": "python",
   "nbconvert_exporter": "python",
   "pygments_lexer": "ipython3",
   "version": "3.12.7"
  }
 },
 "nbformat": 4,
 "nbformat_minor": 5
}
