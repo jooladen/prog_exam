{
 "cells": [
  {
   "cell_type": "code",
   "execution_count": 9,
   "metadata": {},
   "outputs": [
    {
     "name": "stdout",
     "output_type": "stream",
     "text": [
      "1페이지 크롤링중입니다 =================\n",
      "2페이지 크롤링중입니다 =================\n",
      "3페이지 크롤링중입니다 =================\n",
      "엑셀 저장 완료: 04_일반뉴스_암_기사_20250326~20250425.xlsx\n"
     ]
    }
   ],
   "source": [
    "import requests\n",
    "from bs4 import BeautifulSoup\n",
    "import time\n",
    "from openpyxl import Workbook, load_workbook\n",
    "import os\n",
    "\n",
    "file_name = f\"04_일반뉴스_암_기사_20250326~20250425.xlsx\"\n",
    "keyword = '크롤링'\n",
    "lastpage = 3  # 원하시는 페이지 수 입력\n",
    "\n",
    "if os.path.exists(file_name):\n",
    "    wb = load_workbook(file_name)\n",
    "    ws = wb.active\n",
    "else:\n",
    "    wb = Workbook()\n",
    "    ws = wb.active\n",
    "    ws.title = '일반뉴스기사'\n",
    "    ws.append(['제목', '날짜', 'URL', '내용'])\n",
    "\n",
    "ws.column_dimensions['A'].width = 60\n",
    "ws.column_dimensions['B'].width = 30\n",
    "ws.column_dimensions['C'].width = 60\n",
    "ws.column_dimensions['D'].width = 150\n",
    "\n",
    "pageNum = 1\n",
    "for i in range(1, lastpage * 10, 10):\n",
    "    print(f\"{pageNum}페이지 크롤링중입니다 =================\")\n",
    "\n",
    "    url = f\"https://search.naver.com/search.naver?where=news&query={keyword}&sm=tab_opt&sort=2&photo=0&field=0&pd=3&ds=2025.04.14&de=2025.04.20&start={i}\"\n",
    "    response = requests.get(url, headers={'User-agent': 'Mozilla/5.0'})\n",
    "    soup = BeautifulSoup(response.text, 'html.parser')\n",
    "\n",
    "    articles = soup.select(\"div.news_wrap.api_ani_send\")\n",
    "\n",
    "    for article in articles:\n",
    "        link_tag = article.select_one(\"a.news_tit\")\n",
    "        if not link_tag:\n",
    "            continue\n",
    "\n",
    "        url = link_tag.get('href')\n",
    "        title = link_tag.get('title')\n",
    "\n",
    "        response = requests.get(url, headers={'User-agent': 'Mozilla/5.0'})\n",
    "        soup_sub = BeautifulSoup(response.text, 'html.parser')\n",
    "\n",
    "        date = '날짜 없음'\n",
    "        time_tags = soup_sub.find_all('time')\n",
    "        for tag in time_tags:\n",
    "            if '발행일' in tag.text:\n",
    "                date = tag.text.replace('발행일 :', '').strip()\n",
    "                break\n",
    "\n",
    "        content = '내용 없음'\n",
    "        article_body = soup_sub.find('div', id='articleBody')\n",
    "        if article_body:\n",
    "            paragraphs = article_body.find_all('p')\n",
    "            content = '\\n\\n'.join(p.get_text(separator=' ', strip=True) for p in paragraphs)\n",
    "\n",
    "        ws.append([title or '제목 없음', date, url, content])\n",
    "        time.sleep(0.6)\n",
    "\n",
    "    pageNum += 1\n",
    "\n",
    "wb.save(file_name)\n",
    "print(f\"엑셀 저장 완료: {file_name}\")\n"
   ]
  },
  {
   "cell_type": "code",
   "execution_count": null,
   "metadata": {},
   "outputs": [],
   "source": []
  }
 ],
 "metadata": {
  "kernelspec": {
   "display_name": "base",
   "language": "python",
   "name": "python3"
  },
  "language_info": {
   "codemirror_mode": {
    "name": "ipython",
    "version": 3
   },
   "file_extension": ".py",
   "mimetype": "text/x-python",
   "name": "python",
   "nbconvert_exporter": "python",
   "pygments_lexer": "ipython3",
   "version": "3.12.7"
  }
 },
 "nbformat": 4,
 "nbformat_minor": 2
}
