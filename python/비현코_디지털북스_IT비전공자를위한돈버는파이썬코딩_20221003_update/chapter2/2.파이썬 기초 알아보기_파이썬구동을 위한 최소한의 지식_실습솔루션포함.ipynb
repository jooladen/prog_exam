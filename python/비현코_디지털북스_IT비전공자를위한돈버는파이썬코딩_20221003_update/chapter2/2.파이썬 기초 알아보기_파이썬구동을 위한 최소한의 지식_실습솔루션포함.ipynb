{
 "cells": [
  {
   "cell_type": "markdown",
   "metadata": {
    "colab_type": "text",
    "id": "pQBr3UyIBm3M"
   },
   "source": [
    "# Python\n",
    "\n",
    "# A.파이썬 기본지식"
   ]
  },
  {
   "cell_type": "markdown",
   "metadata": {},
   "source": [
    "#### 파이썬 관련된 지식이 잘 정리되어있는 site https://wikidocs.net/5\n",
    "##### -하지만 우리는 단시간에 코드에 필요한 부분만 학습하고 바로 현업실습에 들어갈 예정\n",
    "##### -우리가 공부에 사용할  Tool은 Jupyter Notebook"
   ]
  },
  {
   "cell_type": "markdown",
   "metadata": {},
   "source": [
    "### 우리는 왜 jupyter Notebook 을 사용할까?"
   ]
  },
  {
   "cell_type": "markdown",
   "metadata": {},
   "source": [
    "### 파이썬 개발툴의 종류?\n",
    "\n",
    "#### IDLE (Integrated Development and Learning Environment)\n",
    "- 파이썬 설치 시 기본 제공되는 툴\n",
    "    - Shell mode\n",
    "        - 실행 결과를 바로 확인할 수 있도록 코드를 한 줄 씩 입력하는 모드\n",
    "    - Editor mode\n",
    "        - 파일로 실행할 수 있도록 여러 코드를 입력하여 저장 가능한 모드\n",
    "\n",
    "#### DE (Integrated Development Environment)\n",
    "- 프로그램 개발 편의성 향상을 위해 다양한 기능이 제공되는 통합 개발 환경\n",
    "    - MS Visual Studio Code\n",
    "    - JetBrains PyCharm\n",
    "\n",
    "\n",
    "### Interactive Python Notebook\n",
    "#### - 웹 기반 대화형 문서 형태의 편리한 개발 환경\n",
    "#### - 프로그램 코드를 부분적으로 실행하고 결과를 확인\n",
    "#### - 코드, 코드 실행 결과, 설명을 함께 관리 \n",
    "#### - IPython Notebook의 종류\n",
    "    - 로컬 설치 버전 : Anaconda Jupyter Notebook\n",
    "    - 클라우드 버전 : Google Colab"
   ]
  },
  {
   "cell_type": "markdown",
   "metadata": {},
   "source": [
    "# 쥬피터노트북 사용법\n",
    "\n",
    "주피터 노트북 사용 방법\n",
    "\n",
    "- 주피터 노트북 기본 경로\n",
    "    - 노트북 파일이 저장되는 위치\n",
    "    - `C:\\Users\\<사용자계정>`\n",
    "\n",
    "\n",
    "- 노트북 생성\n",
    "    - 우측 상단 `New` 버튼 클릭\n",
    "    - `Python 3` 클릭\n",
    "\n",
    "- 노트북 제목 변경\n",
    "    - 좌측 상단 `Untitled` 클릭\n",
    "    - 변경할 제목 입력 후 `Rename` 버튼 클릭\n",
    "\n",
    "\n",
    "- 설명 셀 입력\n",
    "    - 메뉴 바 중앙 드랍다운 메뉴 `Markdown` 선택\n",
    "    - 입력 창 왼쪽에 아무 것도 없으면 설명 셀 (파란색)\n",
    "    - 셀 클릭 후 내용 입력\n",
    "    - 제목은 `#` 을 붙여 입력\n",
    "    - `#` 이 늘어나면 하위 제목\n",
    "   \n",
    "- 실행 및 코드 셀 입력\n",
    "    - Run 버튼을 클릭하면 현재 셀이 실행되고 다음 셀이 생성됨\n",
    "    - 입력 창 왼쪽에 `In [ ]:` 이 있으면 코드 셀 (초록색)\n",
    "    - 코드 입력\n",
    "\n",
    "\n",
    "\n",
    "- 실행 순번 및 결과 확인\n",
    "    - Run 버튼을 클릭하면 코드 셀이 실행되어 왼쪽에 실행 순번이 매겨지고 아래에 실행 결과가 출력됨\n",
    "    - 코드 셀은 실행 상태가 순번대로 연결됨 (셀 위치가 바뀌어도 실행 순서는 순번을 따름)\n",
    "\n",
    "\n",
    "- 셀 관리\n",
    "    - 셀 추가, 셀 잘라내기, 셀 복사하기, 셀 붙여넣기, 현재 셀을 위로 밀기, 현재 셀을 아래로 밀기 등 여러 기능\n",
    "\n",
    "- 주요 단축키\n",
    "    - `[Esc]` : 셀 선택 모드 (또는 `[Ctrl]+[m]`)\n",
    "        - `[m]` : 설명 셀로 변경\n",
    "        - `[y]` : 코드 셀로 변경\n",
    "        - `[a]` : 현재 셀 위에 셀 추가\n",
    "        - `[b]` : 현재 셀 아래에 셀 추가\n",
    "        - `[x]` : 현재 셀 잘라내기\n",
    "        - `[c]` : 현재 셀 복사하기\n",
    "        - `[v]` : 현재 셀 아래에 붙여넣기\n",
    "        - `[d][d]` : 현재 셀 삭제\n",
    "    - `[Enter]` : 셀 입력 모드\n",
    "        - `[Ctrl]+[Enter]` : 현재 셀 실행\n",
    "        - `[Shift]+[Enter]` : 현재 셀 실행 후 다음 셀 생성\n",
    "\n",
    "- `[Ctrl]+[s]` : 저장\n",
    "- `[Ctrl]+[z]` : 저장\n",
    "- `[Ctrl]+[shift]+[z]` : 저장"
   ]
  },
  {
   "cell_type": "code",
   "execution_count": 1,
   "metadata": {},
   "outputs": [
    {
     "data": {
      "text/plain": [
       "1"
      ]
     },
     "execution_count": 1,
     "metadata": {},
     "output_type": "execute_result"
    }
   ],
   "source": [
    "1"
   ]
  },
  {
   "cell_type": "code",
   "execution_count": null,
   "metadata": {},
   "outputs": [],
   "source": []
  },
  {
   "cell_type": "code",
   "execution_count": null,
   "metadata": {},
   "outputs": [],
   "source": []
  },
  {
   "cell_type": "markdown",
   "metadata": {},
   "source": [
    "# B.기본연산"
   ]
  },
  {
   "cell_type": "markdown",
   "metadata": {},
   "source": [
    "### -출력하기"
   ]
  },
  {
   "cell_type": "code",
   "execution_count": 2,
   "metadata": {},
   "outputs": [
    {
     "name": "stdout",
     "output_type": "stream",
     "text": [
      "1\n",
      "Hello, World!\n"
     ]
    }
   ],
   "source": [
    "#예제B-1\n",
    "print(1)\n",
    "print(\"Hello, World!\")"
   ]
  },
  {
   "cell_type": "code",
   "execution_count": 3,
   "metadata": {},
   "outputs": [],
   "source": [
    "#write your code (100견이 불여일타)"
   ]
  },
  {
   "cell_type": "markdown",
   "metadata": {},
   "source": [
    "### -비교하기"
   ]
  },
  {
   "cell_type": "markdown",
   "metadata": {},
   "source": [
    "- 두 피연산자를 비교\n",
    "- 연산 결과는 참 또는 거짓"
   ]
  },
  {
   "cell_type": "code",
   "execution_count": 4,
   "metadata": {},
   "outputs": [
    {
     "data": {
      "text/plain": [
       "True"
      ]
     },
     "execution_count": 4,
     "metadata": {},
     "output_type": "execute_result"
    }
   ],
   "source": [
    "1 < 2"
   ]
  },
  {
   "cell_type": "code",
   "execution_count": 5,
   "metadata": {},
   "outputs": [
    {
     "data": {
      "text/plain": [
       "False"
      ]
     },
     "execution_count": 5,
     "metadata": {},
     "output_type": "execute_result"
    }
   ],
   "source": [
    "1 > 2"
   ]
  },
  {
   "cell_type": "code",
   "execution_count": 6,
   "metadata": {},
   "outputs": [
    {
     "data": {
      "text/plain": [
       "False"
      ]
     },
     "execution_count": 6,
     "metadata": {},
     "output_type": "execute_result"
    }
   ],
   "source": [
    "1 == 2"
   ]
  },
  {
   "cell_type": "code",
   "execution_count": 7,
   "metadata": {},
   "outputs": [
    {
     "data": {
      "text/plain": [
       "False"
      ]
     },
     "execution_count": 7,
     "metadata": {},
     "output_type": "execute_result"
    }
   ],
   "source": [
    "1 >= 2"
   ]
  },
  {
   "cell_type": "markdown",
   "metadata": {},
   "source": [
    "### -계산하기"
   ]
  },
  {
   "cell_type": "code",
   "execution_count": 8,
   "metadata": {},
   "outputs": [
    {
     "name": "stdout",
     "output_type": "stream",
     "text": [
      "8\n",
      "15\n",
      "1.6666666666666667\n",
      "2\n",
      "1\n"
     ]
    }
   ],
   "source": [
    "#예제B-2\n",
    "print(5+3)\n",
    "print(5*3)\n",
    "print(5/3)\n",
    "print(5%3) #나머지\n",
    "print(5//3) # 몫"
   ]
  },
  {
   "cell_type": "code",
   "execution_count": 9,
   "metadata": {},
   "outputs": [],
   "source": [
    "#write your code (100견이 불여일타)"
   ]
  },
  {
   "cell_type": "markdown",
   "metadata": {},
   "source": [
    "### -주석처리"
   ]
  },
  {
   "cell_type": "code",
   "execution_count": 10,
   "metadata": {},
   "outputs": [
    {
     "name": "stdout",
     "output_type": "stream",
     "text": [
      "8\n",
      "1.6666666666666667\n",
      "1\n"
     ]
    }
   ],
   "source": [
    "#예제B-3\n",
    "print(5+3)\n",
    "# print(5*3)\n",
    "print(5/3)\n",
    "# print(5%3)\n",
    "print(5//3)\n",
    "# 주석처리하고 싶은 코드에 만 앞에 # 놔두기"
   ]
  },
  {
   "cell_type": "code",
   "execution_count": 11,
   "metadata": {},
   "outputs": [],
   "source": [
    "#write your code (100견이 불여일타)"
   ]
  },
  {
   "cell_type": "markdown",
   "metadata": {},
   "source": [
    "### -들여쓰기\n",
    "\n",
    "- 코드 블록 : 특정한 동작을 수행하기 위한 코드의 묶음\n",
    "- 파이썬은 들여쓰기로 코드의 블록을 정의\n",
    "- if, for, 함수 등에서 반드시 들여쓰기를 해야 함\n",
    "- 코딩 스타일 가이드에는 공백 4칸을 권장함"
   ]
  },
  {
   "cell_type": "code",
   "execution_count": 12,
   "metadata": {},
   "outputs": [
    {
     "ename": "IndentationError",
     "evalue": "expected an indented block (<ipython-input-12-e57c84bbf231>, line 4)",
     "output_type": "error",
     "traceback": [
      "\u001b[1;36m  File \u001b[1;32m\"<ipython-input-12-e57c84bbf231>\"\u001b[1;36m, line \u001b[1;32m4\u001b[0m\n\u001b[1;33m    print(\"3 is less than 7\")\u001b[0m\n\u001b[1;37m    ^\u001b[0m\n\u001b[1;31mIndentationError\u001b[0m\u001b[1;31m:\u001b[0m expected an indented block\n"
     ]
    }
   ],
   "source": [
    "#예제B-4\n",
    "# 들여쓰기 없음\n",
    "if 3 < 7:\n",
    "print(\"3 is less than 7\")"
   ]
  },
  {
   "cell_type": "code",
   "execution_count": 63,
   "metadata": {},
   "outputs": [],
   "source": [
    "#write your code (100견이 불여일타)\n"
   ]
  },
  {
   "cell_type": "code",
   "execution_count": 64,
   "metadata": {},
   "outputs": [
    {
     "name": "stdout",
     "output_type": "stream",
     "text": [
      "3 is less than 7\n"
     ]
    }
   ],
   "source": [
    "#예제B-5\n",
    "# 들여쓰기 있음\n",
    "if 3 < 7:\n",
    "    print(\"3 is less than 7\")"
   ]
  },
  {
   "cell_type": "code",
   "execution_count": 65,
   "metadata": {},
   "outputs": [],
   "source": [
    "#write your code (100견이 불여일타)\n"
   ]
  },
  {
   "cell_type": "markdown",
   "metadata": {},
   "source": [
    "### -입력\n",
    "\n",
    "- input()\n",
    "\n",
    "\n",
    "- 함수가 실행되는 지점에서 사용자의 입력을 받음"
   ]
  },
  {
   "cell_type": "code",
   "execution_count": 66,
   "metadata": {},
   "outputs": [],
   "source": [
    "#변수란?\n",
    "a = 1"
   ]
  },
  {
   "cell_type": "code",
   "execution_count": 67,
   "metadata": {},
   "outputs": [
    {
     "name": "stdout",
     "output_type": "stream",
     "text": [
      "1\n"
     ]
    }
   ],
   "source": [
    "print(a)"
   ]
  },
  {
   "cell_type": "code",
   "execution_count": 68,
   "metadata": {},
   "outputs": [
    {
     "name": "stdout",
     "output_type": "stream",
     "text": [
      "123\n"
     ]
    },
    {
     "data": {
      "text/plain": [
       "'123'"
      ]
     },
     "execution_count": 68,
     "metadata": {},
     "output_type": "execute_result"
    }
   ],
   "source": [
    "# 인풋이란 무엇인가? - 좀더 상세하게 한다. 네이버 아이디입력등을 포함한 예시를 설명한다.\n",
    "input()"
   ]
  },
  {
   "cell_type": "code",
   "execution_count": 69,
   "metadata": {
    "scrolled": true
   },
   "outputs": [
    {
     "name": "stdout",
     "output_type": "stream",
     "text": [
      "당신의 이름은 무엇입니까? :\n",
      "123\n",
      "123!!!\n"
     ]
    }
   ],
   "source": [
    "#예제B-6\n",
    "# 문자열 출력\n",
    "print(\"당신의 이름은 무엇입니까? :\")\n",
    "# 입력 값을 my_name 변수에 저장\n",
    "my_name = input()\n",
    "# 문자열과 변수 값을 출력\n",
    "print(my_name + \"!!!\")"
   ]
  },
  {
   "cell_type": "code",
   "execution_count": 70,
   "metadata": {},
   "outputs": [],
   "source": [
    "#write your code (100견이 불여일타)\n"
   ]
  },
  {
   "cell_type": "markdown",
   "metadata": {},
   "source": [
    "### 실습 \n",
    "\n"
   ]
  },
  {
   "cell_type": "markdown",
   "metadata": {},
   "source": [
    "#### 실습 - 당신의 이름을 출력하세요"
   ]
  },
  {
   "cell_type": "code",
   "execution_count": 71,
   "metadata": {},
   "outputs": [],
   "source": [
    "#write your code (100견이 불여일타)\n"
   ]
  },
  {
   "cell_type": "code",
   "execution_count": 72,
   "metadata": {},
   "outputs": [
    {
     "name": "stdout",
     "output_type": "stream",
     "text": [
      "비현코\n"
     ]
    }
   ],
   "source": [
    "#sollution\n",
    "print(\"비현코\")"
   ]
  },
  {
   "cell_type": "markdown",
   "metadata": {},
   "source": [
    "#### 실습 - '1004' 를 출력하세요"
   ]
  },
  {
   "cell_type": "code",
   "execution_count": 73,
   "metadata": {},
   "outputs": [],
   "source": [
    "#write your code (100견이 불여일타)\n"
   ]
  },
  {
   "cell_type": "code",
   "execution_count": 74,
   "metadata": {},
   "outputs": [
    {
     "name": "stdout",
     "output_type": "stream",
     "text": [
      "1004\n"
     ]
    }
   ],
   "source": [
    "#sollution\n",
    "print(1004)"
   ]
  },
  {
   "cell_type": "markdown",
   "metadata": {},
   "source": [
    "#### 실습 - 위 두개의 코드를 주석을 달아주세요"
   ]
  },
  {
   "cell_type": "code",
   "execution_count": 75,
   "metadata": {},
   "outputs": [],
   "source": [
    "#write your code (100견이 불여일타)\n"
   ]
  },
  {
   "cell_type": "code",
   "execution_count": 76,
   "metadata": {},
   "outputs": [],
   "source": [
    "#sollution\n",
    "# print(\"비현코\")\n",
    "# print(1004)"
   ]
  },
  {
   "cell_type": "markdown",
   "metadata": {},
   "source": [
    "#### 실습 - \"나의 생년월일을 입력하세요\" 라는 문자 출력 후  생년월일을 입력받는 프로그램을 만들어주세요 (풀이진행)"
   ]
  },
  {
   "cell_type": "code",
   "execution_count": 77,
   "metadata": {},
   "outputs": [],
   "source": [
    "#write your code (100견이 불여일타)\n"
   ]
  },
  {
   "cell_type": "code",
   "execution_count": 78,
   "metadata": {},
   "outputs": [
    {
     "name": "stdout",
     "output_type": "stream",
     "text": [
      "나의 생년월일을 입력하세요\n",
      "19900101\n",
      "19900101\n"
     ]
    }
   ],
   "source": [
    "#sollution\n",
    "print(\"나의 생년월일을 입력하세요\")\n",
    "birthday = input()\n",
    "print(birthday)"
   ]
  },
  {
   "cell_type": "markdown",
   "metadata": {},
   "source": [
    "# C.변수와 자료형\n"
   ]
  },
  {
   "cell_type": "markdown",
   "metadata": {},
   "source": [
    "### 변수의 사용\n",
    "\n",
    "- 변수는 숫자, 문자 등의 값을 담는 공간\n",
    "\n",
    "\n",
    "- [변수명] = [값]\n",
    "\n",
    "\n",
    "- ' = ' 은 할당 연산자"
   ]
  },
  {
   "cell_type": "markdown",
   "metadata": {},
   "source": [
    "\n",
    "##### 예제 C-1"
   ]
  },
  {
   "cell_type": "code",
   "execution_count": 79,
   "metadata": {},
   "outputs": [
    {
     "name": "stdout",
     "output_type": "stream",
     "text": [
      "language\n"
     ]
    }
   ],
   "source": [
    "print(\"language\")"
   ]
  },
  {
   "cell_type": "code",
   "execution_count": 80,
   "metadata": {},
   "outputs": [
    {
     "name": "stdout",
     "output_type": "stream",
     "text": [
      "python\n"
     ]
    }
   ],
   "source": [
    "language = \"python\" \n",
    "print(language)"
   ]
  },
  {
   "cell_type": "code",
   "execution_count": 81,
   "metadata": {},
   "outputs": [],
   "source": [
    "#write your code (100견이 불여일타)\n"
   ]
  },
  {
   "cell_type": "markdown",
   "metadata": {},
   "source": [
    "\n",
    "##### 예제 C-2"
   ]
  },
  {
   "cell_type": "code",
   "execution_count": 82,
   "metadata": {},
   "outputs": [
    {
     "name": "stdout",
     "output_type": "stream",
     "text": [
      "Tom\n",
      "Paul\n",
      "Ben\n"
     ]
    }
   ],
   "source": [
    "#대문자 소문자 구분 필수\n",
    "\n",
    "Name = \"Tom\"\n",
    "nAme = \"Paul\"\n",
    "NAME = \"Ben\"\n",
    "\n",
    "print(Name)\n",
    "print(nAme)\n",
    "print(NAME)"
   ]
  },
  {
   "cell_type": "code",
   "execution_count": 83,
   "metadata": {},
   "outputs": [],
   "source": [
    "#write your code (100견이 불여일타)\n"
   ]
  },
  {
   "cell_type": "markdown",
   "metadata": {},
   "source": [
    "### 기본 자료형\n",
    "- 숫자형 (Number) : int, float, complex (숫자)\n",
    "- 문자열 (String) : str (문자)\n",
    "- 불린형 (Boolean) : bool ( 참/거짓)"
   ]
  },
  {
   "cell_type": "markdown",
   "metadata": {},
   "source": [
    "자료형 관련 함수\n",
    "\n",
    "- 자료형 확인 함수\n",
    "    - type()"
   ]
  },
  {
   "cell_type": "markdown",
   "metadata": {},
   "source": [
    "\n",
    "##### 예제 C-3"
   ]
  },
  {
   "cell_type": "code",
   "execution_count": 84,
   "metadata": {},
   "outputs": [
    {
     "data": {
      "text/plain": [
       "str"
      ]
     },
     "execution_count": 84,
     "metadata": {},
     "output_type": "execute_result"
    }
   ],
   "source": [
    "#type을 써야 하는 이유\n",
    "a = 'tom'\n",
    "type(a)"
   ]
  },
  {
   "cell_type": "code",
   "execution_count": 85,
   "metadata": {},
   "outputs": [
    {
     "data": {
      "text/plain": [
       "int"
      ]
     },
     "execution_count": 85,
     "metadata": {},
     "output_type": "execute_result"
    }
   ],
   "source": [
    "b = 1\n",
    "type(b)#정수"
   ]
  },
  {
   "cell_type": "code",
   "execution_count": 86,
   "metadata": {},
   "outputs": [
    {
     "name": "stdout",
     "output_type": "stream",
     "text": [
      "10.123\n",
      "<class 'float'>\n",
      "10\n",
      "<class 'int'>\n",
      "Tom\n",
      "<class 'str'>\n",
      "True\n",
      "<class 'bool'>\n"
     ]
    }
   ],
   "source": [
    "my_num = 10.123 #실수\n",
    "print(my_num)\n",
    "print(type(my_num))\n",
    "\n",
    "my_num = 10\n",
    "print(my_num)\n",
    "print(type(my_num))\n",
    "\n",
    "my_name = \"Tom\"\n",
    "print(my_name)\n",
    "print(type(my_name))\n",
    "\n",
    "my_bool = True\n",
    "print(my_bool)\n",
    "print(type(my_bool))\n",
    "\n",
    "# type에 대한 설명 한번해주기\n",
    "# "
   ]
  },
  {
   "cell_type": "code",
   "execution_count": 87,
   "metadata": {},
   "outputs": [],
   "source": [
    "#write your code (100견이 불여일타)\n"
   ]
  },
  {
   "cell_type": "markdown",
   "metadata": {
    "colab_type": "text",
    "id": "bJD3sjMwyog8"
   },
   "source": [
    "#### 문자열\n",
    "\n",
    "- 문자가 나열된 형태의 데이터\n",
    "\n",
    "\n",
    "- 가장 많이 사용되는 자료형 중 하나\n",
    "\n",
    "\n",
    "- 큰 따옴표 ( \" \" ) 또는 작은 따옴표 ( ' ' ) 를 사용"
   ]
  },
  {
   "cell_type": "markdown",
   "metadata": {},
   "source": [
    "\n",
    "##### 예제 C-4"
   ]
  },
  {
   "cell_type": "code",
   "execution_count": 88,
   "metadata": {
    "scrolled": true
   },
   "outputs": [
    {
     "name": "stdout",
     "output_type": "stream",
     "text": [
      "This is also a name.\n",
      "This is also a \"name\".\n",
      "This is also a 'name'.\n"
     ]
    }
   ],
   "source": [
    "# 문자는 따옴표로 감싸줘야한다.이거를 미리 공지한다.\n",
    "##### 예제 C-3print(\"This is a name.\")\n",
    "print('This is also a name.')\n",
    "print('This is also a \"name\".')\n",
    "print(\"This is also a 'name'.\")\n",
    "\n"
   ]
  },
  {
   "cell_type": "code",
   "execution_count": 89,
   "metadata": {},
   "outputs": [],
   "source": [
    "#write your code (100견이 불여일타)\n",
    "\n"
   ]
  },
  {
   "cell_type": "markdown",
   "metadata": {
    "colab_type": "text",
    "id": "bJD3sjMwyog8"
   },
   "source": [
    "### 인덱싱 (Indexing) 과 슬라이싱 (Slicing)\n",
    "\n",
    "- 인덱싱과 슬라이싱을 하는 이유? - 다양하고 많은 자료속에서 우리가 원하는 것을 얻어내기 위해서\n",
    "- 문자열 및 시퀀스 자료형에서 활용할 수 있는 기능\n",
    "\n",
    "#### 인덱싱\n",
    "\n",
    "- 인덱스 (Index)\n",
    "    - 자료형의 각 요소에 접근하기 위한 상대적인 주소 (offset)\n",
    "    - 첫 번째 값의 주소가 0 일 때 각 값들이 첫 번째 값과 얼마나 떨어져 있는지를 의미\n",
    "\n",
    "\n",
    "- 문자열은 문자 하나하나가 모인 자료형 : 인덱스로 각 문자에 접근 가능"
   ]
  },
  {
   "cell_type": "code",
   "execution_count": 90,
   "metadata": {},
   "outputs": [],
   "source": [
    "#  EX)  \"abcdefghijklnmopqrstuvwxyz\" 순서를 알 수 있다.\n",
    "#  EX)  \"abcdefghijkln mopqrstuvwxyz\" 나눌 수 있는 것을 슬라이싱이라고 합니다."
   ]
  },
  {
   "cell_type": "code",
   "execution_count": null,
   "metadata": {},
   "outputs": [],
   "source": []
  },
  {
   "cell_type": "markdown",
   "metadata": {},
   "source": [
    "\n",
    "##### 예제 C-5"
   ]
  },
  {
   "cell_type": "code",
   "execution_count": 91,
   "metadata": {},
   "outputs": [
    {
     "name": "stdout",
     "output_type": "stream",
     "text": [
      "y\n",
      "p\n",
      "h\n",
      "h\n",
      "y\n"
     ]
    }
   ],
   "source": [
    "language = \"python\"\n",
    "print(language[1])\n",
    "print(language[0])\n",
    "print(language[3])\n",
    "print(language[-3])\n",
    "print(language[-5])"
   ]
  },
  {
   "cell_type": "code",
   "execution_count": 92,
   "metadata": {},
   "outputs": [],
   "source": [
    "#write your code (100견이 불여일타)\n"
   ]
  },
  {
   "cell_type": "markdown",
   "metadata": {},
   "source": [
    "####  슬라이싱 (Slicing)\n",
    "\n",
    "- 인덱스를 사용하여 일부를 잘라내기\n",
    "\n",
    "\n",
    "- 시작 인덱스 요소는 포함, 끝 인덱스 요소는 제외 (start inclusive, end exclusive)\n",
    "   "
   ]
  },
  {
   "cell_type": "markdown",
   "metadata": {},
   "source": [
    "[ 시작 : 끝 : 한번에 얼마나 올릴것인가]"
   ]
  },
  {
   "cell_type": "markdown",
   "metadata": {},
   "source": [
    "\n",
    "##### 예제 C-6\n"
   ]
  },
  {
   "cell_type": "code",
   "execution_count": 93,
   "metadata": {},
   "outputs": [
    {
     "name": "stdout",
     "output_type": "stream",
     "text": [
      "ho\n",
      "python\n",
      "pto\n",
      "yh\n",
      "nohtyp\n"
     ]
    }
   ],
   "source": [
    "language = \"python\"\n",
    "\n",
    "print(language[3:5:])\n",
    "print(language[::]) #설명을 위해씁니다.안씁니다 평소에는\n",
    "print(language[::2])\n",
    "\n",
    "print(language[1:4:2])\n",
    "print(language[::-1])#### 실습"
   ]
  },
  {
   "cell_type": "code",
   "execution_count": 94,
   "metadata": {},
   "outputs": [],
   "source": [
    "#write your code (100견이 불여일타)\n",
    " "
   ]
  },
  {
   "cell_type": "markdown",
   "metadata": {},
   "source": [
    "#### **[실습]**\n",
    "\n",
    "language 변수에 'python' 문자열 값을 할당하고 문자열 슬라이싱을 사용하여 'tho' 를 출력하세요. (인덱스 및 리버스 인덱스 활용)"
   ]
  },
  {
   "cell_type": "code",
   "execution_count": 95,
   "metadata": {},
   "outputs": [],
   "source": [
    "#write your code (100견이 불여일타)\n"
   ]
  },
  {
   "cell_type": "code",
   "execution_count": 96,
   "metadata": {},
   "outputs": [
    {
     "name": "stdout",
     "output_type": "stream",
     "text": [
      "tho\n"
     ]
    }
   ],
   "source": [
    "#sollution\n",
    "language = 'python'\n",
    "print(language[-4:-1:])"
   ]
  },
  {
   "cell_type": "markdown",
   "metadata": {},
   "source": [
    "#### **[실습]**\n",
    "\n",
    "\n",
    "- 자동차 번호가 다음과 같을 때 뒤 4자리만 출력하세요.\n",
    "\n",
    "  12나 6939"
   ]
  },
  {
   "cell_type": "code",
   "execution_count": 97,
   "metadata": {},
   "outputs": [],
   "source": [
    "#write your code (100견이 불여일타)\n"
   ]
  },
  {
   "cell_type": "code",
   "execution_count": 98,
   "metadata": {},
   "outputs": [
    {
     "name": "stdout",
     "output_type": "stream",
     "text": [
      "6939\n"
     ]
    }
   ],
   "source": [
    "#sollution\n",
    "car_number = '12나 6939'\n",
    "print(car_number[-4::])"
   ]
  },
  {
   "cell_type": "markdown",
   "metadata": {},
   "source": [
    "# D.\t데이터구조"
   ]
  },
  {
   "cell_type": "markdown",
   "metadata": {},
   "source": [
    "### 데이터구조란?\n",
    "\n",
    "엑셀을 예로 들어보면, 행/열로 우리가 원하는 데이터를 저장하고 우리가 원할때 그 데이터를 가져올 수 있는 데이터구조\n",
    "\n",
    "우리가 알고 있는 표와 같다.\n",
    "\n",
    "그런데, 코딩에서는 단순 2차원인 표뿐만 아니라 3차,4차 N차원까지 자료를 저장할 수 있다.\n",
    "\n",
    "그래서 데이터 구조를 이해하면 새로운 환경으로 진입할 수 있다."
   ]
  },
  {
   "cell_type": "markdown",
   "metadata": {},
   "source": [
    "#### 데이터 구조의 종류\n",
    "#### 리스트 / 튜플 / 딕셔너리 / 세트 / Range  등이 있다.\n",
    "\n",
    "#### 우리는 리스트,딕셔너리,Range 이 3개만 간단히 알아볼 것이다."
   ]
  },
  {
   "cell_type": "markdown",
   "metadata": {},
   "source": [
    "주머니를 상상해보자 우리가 나중에 필요한 것을 뽑아낼 수 있다. 도서관 책장 예시\n",
    "\n",
    "![title](도서관.jpg)"
   ]
  },
  {
   "cell_type": "markdown",
   "metadata": {},
   "source": [
    "# 리스트의 개념 \n",
    "\n",
    "- 왜 필요한가?\n",
    "    - 100명의 사원 이름을 저장하려면 100개의 변수가 필요\n",
    "        - employee1 = 'bhyunco'\n",
    "        - employee2 = 'bhyunsoon'\n",
    "        - ...\n",
    "    - 하나의 변수에 할당할 수 없을까?\n",
    "        - employee = ['bhyunco', 'bhyunsoon', ...]\n",
    "\n",
    "\n",
    "- 여러 데이터가 순서대로 들어있는 시퀀스 자료형\n",
    "    - 요소 (element) : 리스트에 들어 있는 각각의 값\n",
    "    - 시퀀스 자료형의 종류 : List, Tuple, Range\n",
    "    \n",
    "\n",
    "- \\[ \\] (대괄호) 기호를 이용하여 생성"
   ]
  },
  {
   "cell_type": "markdown",
   "metadata": {},
   "source": [
    "\n",
    "##### 예제 D-1\n"
   ]
  },
  {
   "cell_type": "code",
   "execution_count": 99,
   "metadata": {},
   "outputs": [
    {
     "name": "stdout",
     "output_type": "stream",
     "text": [
      "['my', 'list', 'is', 'nice', 'list']\n"
     ]
    }
   ],
   "source": [
    "word1 = \"is\"\n",
    "word2 = \"nice\"\n",
    "my_list = [\"my\", \"list\", word1, word2, 'list']\n",
    "print(my_list)"
   ]
  },
  {
   "cell_type": "code",
   "execution_count": 100,
   "metadata": {},
   "outputs": [],
   "source": [
    "#write your code (100견이 불여일타)"
   ]
  },
  {
   "cell_type": "markdown",
   "metadata": {},
   "source": [
    "\n",
    "##### 예제 D-2\n",
    "\n",
    "인덱싱 + 슬라이싱\n"
   ]
  },
  {
   "cell_type": "code",
   "execution_count": 101,
   "metadata": {
    "scrolled": true
   },
   "outputs": [
    {
     "name": "stdout",
     "output_type": "stream",
     "text": [
      "my\n",
      "list\n",
      "is\n",
      "list\n",
      "\n",
      "\n",
      "['my', 'list', 'is']\n",
      "['list', 'is', 'nice']\n",
      "['my', 'list', 'is', 'nice']\n",
      "['is', 'nice', 'list']\n",
      "\n",
      "\n",
      "['my', 'is', 'list']\n",
      "['my', 'nice']\n",
      "['my', 'list', 'is', 'nice', 'list']\n",
      "['list', 'nice', 'is', 'list', 'my']\n",
      "\n",
      "\n"
     ]
    }
   ],
   "source": [
    "my_list = ['my', 'list', 'is', 'nice', 'list']\n",
    "\n",
    "#인덱싱\n",
    "print(my_list[0])\n",
    "print(my_list[1])\n",
    "print(my_list[2])\n",
    "print(my_list[-1])\n",
    "print(\"\\n\")\n",
    "\n",
    "#슬라이싱1\n",
    "print(my_list[0:3:])\n",
    "print(my_list[1:4:])\n",
    "print(my_list[:4:])\n",
    "print(my_list[2::])\n",
    "print(\"\\n\")\n",
    "\n",
    "#슬라이싱2\n",
    "print(my_list[::2])\n",
    "print(my_list[::3])\n",
    "print(my_list[::1])\n",
    "print(my_list[::-1])\n",
    "print(\"\\n\")\n"
   ]
  },
  {
   "cell_type": "code",
   "execution_count": 102,
   "metadata": {},
   "outputs": [],
   "source": [
    "#write your code (100견이 불여일타)"
   ]
  },
  {
   "cell_type": "markdown",
   "metadata": {},
   "source": [
    "\n",
    "##### 예제 D-3\n",
    "요소 추가\n",
    "\n",
    "- 차례로 추가\n",
    "    - append() 함수"
   ]
  },
  {
   "cell_type": "code",
   "execution_count": 103,
   "metadata": {},
   "outputs": [
    {
     "name": "stdout",
     "output_type": "stream",
     "text": [
      "['kia', 'yamaha', 'suzuki']\n",
      "['kia', 'yamaha', 'suzuki', 'ducati']\n"
     ]
    }
   ],
   "source": [
    "motorcycles = ['kia', 'yamaha', 'suzuki']\n",
    "print(motorcycles)\n",
    "\n",
    "motorcycles.append('ducati')\n",
    "print(motorcycles)"
   ]
  },
  {
   "cell_type": "code",
   "execution_count": 104,
   "metadata": {},
   "outputs": [],
   "source": [
    "#write your code (100견이 불여일타)"
   ]
  },
  {
   "cell_type": "markdown",
   "metadata": {},
   "source": [
    "\n",
    "##### 예제 D-4\n",
    "- 인덱스로 특정 위치에 끼워넣기\n",
    "    - insert() 함수"
   ]
  },
  {
   "cell_type": "code",
   "execution_count": 105,
   "metadata": {},
   "outputs": [
    {
     "name": "stdout",
     "output_type": "stream",
     "text": [
      "['ducati', 'honda', 'kia', 'suzuki']\n",
      "['ducati', 'honda', 'bmw', 'kia', 'suzuki']\n"
     ]
    }
   ],
   "source": [
    "motorcycles = ['honda', 'kia', 'suzuki']\n",
    "\n",
    "motorcycles.insert(0, 'ducati')\n",
    "print(motorcycles)\n",
    "motorcycles.insert(2, 'bmw')\n",
    "print(motorcycles)"
   ]
  },
  {
   "cell_type": "code",
   "execution_count": 106,
   "metadata": {},
   "outputs": [],
   "source": [
    "#write your code (100견이 불여일타)"
   ]
  },
  {
   "cell_type": "markdown",
   "metadata": {},
   "source": [
    "\n",
    "##### 예제 D-5\n",
    "요소 제거\n",
    "\n",
    "- del 키워드\n",
    "    - 인덱스로 특정 위치의 요소 제거"
   ]
  },
  {
   "cell_type": "code",
   "execution_count": 107,
   "metadata": {},
   "outputs": [
    {
     "name": "stdout",
     "output_type": "stream",
     "text": [
      "['honda', 'yamaha', 'suzuki']\n",
      "['yamaha', 'suzuki']\n"
     ]
    }
   ],
   "source": [
    "motorcycles = ['honda', 'yamaha', 'suzuki']\n",
    "print(motorcycles)\n",
    "del motorcycles[0]\n",
    "print(motorcycles)"
   ]
  },
  {
   "cell_type": "code",
   "execution_count": 108,
   "metadata": {},
   "outputs": [],
   "source": [
    "#write your code (100견이 불여일타)"
   ]
  },
  {
   "cell_type": "markdown",
   "metadata": {},
   "source": [
    "\n",
    "##### 예제 D-6\n",
    "- 길이 계산"
   ]
  },
  {
   "cell_type": "code",
   "execution_count": 109,
   "metadata": {},
   "outputs": [
    {
     "name": "stdout",
     "output_type": "stream",
     "text": [
      "4\n"
     ]
    }
   ],
   "source": [
    "cars = ['bmw', 'audi', 'toyota', 'hyundai']\n",
    "print(len(cars))"
   ]
  },
  {
   "cell_type": "code",
   "execution_count": 110,
   "metadata": {},
   "outputs": [],
   "source": [
    "#write your code (100견이 불여일타)"
   ]
  },
  {
   "cell_type": "markdown",
   "metadata": {},
   "source": [
    "#### **[실습]**\n",
    "\n",
    "\n",
    "- 'apple', 'banana', 'grape' 문자열이 들어있는 리스트를 생성하여 fruit_list 변수에 할당 및 출력\n",
    "\n",
    "- fruit_list 에서 인덱싱을 활용하여 'grape' 를 출력\n",
    "\n",
    "- fruit_list 를 언패킹하여 fruit1, fruit2, fruit3 변수에 담아 각 변수들을 출력"
   ]
  },
  {
   "cell_type": "code",
   "execution_count": 111,
   "metadata": {},
   "outputs": [],
   "source": [
    "#write your code (100견이 불여일타)"
   ]
  },
  {
   "cell_type": "code",
   "execution_count": 112,
   "metadata": {},
   "outputs": [
    {
     "name": "stdout",
     "output_type": "stream",
     "text": [
      "grape\n",
      "apple\n",
      "banana\n",
      "grape\n"
     ]
    }
   ],
   "source": [
    "#sollution\n",
    "fruit_list = ['apple','banana','grape']\n",
    "print(fruit_list[2])\n",
    "\n",
    "fruit1=fruit_list[0]\n",
    "fruit2=fruit_list[1]\n",
    "fruit3=fruit_list[2]\n",
    "print(fruit1)\n",
    "print(fruit2)\n",
    "print(fruit3)"
   ]
  },
  {
   "cell_type": "markdown",
   "metadata": {},
   "source": [
    "# 딕셔너리의 개념\n",
    "- Key-Value 형태의 자료구조\n",
    "\n",
    "\n",
    "- 왜 딕셔너리를 사용하는가?\n",
    "    - 학생정보 리스트\n",
    "        - ['A001', '홍길동', '85', 'B']\n",
    "        - 리스트는 각 데이터의 의미를 알기 어려움\n",
    "    - 딕셔너리는 각 데이터에 이름을 붙여줌\n",
    "        - 학번: 'A001', 이름: '홍길동', 점수: '85', 성적: 'B'\n",
    "\n",
    "\n",
    "- { } 기호를 사용하여 생성\n",
    "\n",
    "\n",
    "`{ Key1: Value1, \n",
    "   Key2: Value2, \n",
    "   ... }`\n",
    "\n",
    "\n",
    "- Key 값으로 Value를 조회"
   ]
  },
  {
   "cell_type": "markdown",
   "metadata": {},
   "source": [
    "\n",
    "##### 예제 D-7"
   ]
  },
  {
   "cell_type": "code",
   "execution_count": 113,
   "metadata": {},
   "outputs": [
    {
     "name": "stdout",
     "output_type": "stream",
     "text": [
      "green\n",
      "5\n"
     ]
    }
   ],
   "source": [
    "alien = {\n",
    "    'color': 'green',\n",
    "    'points': 5,\n",
    "}\n",
    "print(alien['color'])\n",
    "print(alien['points'])"
   ]
  },
  {
   "cell_type": "code",
   "execution_count": 114,
   "metadata": {},
   "outputs": [],
   "source": [
    "#write your code (100견이 불여일타)"
   ]
  },
  {
   "cell_type": "code",
   "execution_count": null,
   "metadata": {},
   "outputs": [],
   "source": []
  },
  {
   "cell_type": "markdown",
   "metadata": {},
   "source": [
    "##### 예제 D-8 (요소추가)"
   ]
  },
  {
   "cell_type": "code",
   "execution_count": 115,
   "metadata": {},
   "outputs": [
    {
     "name": "stdout",
     "output_type": "stream",
     "text": [
      "<class 'dict'>\n",
      "{'color': 'green', 'points': 5}\n",
      "{'color': 'green', 'points': 5, 'x_position': 0, 'y_position': 25}\n"
     ]
    }
   ],
   "source": [
    "alien = {}\n",
    "print(type(alien))\n",
    "#딕셔너리의 요소를 추가하는 방법\n",
    "alien['color'] = 'green'\n",
    "alien['points'] = 5\n",
    "\n",
    "\n",
    "print(alien)\n",
    "\n",
    "alien['x_position'] = 0\n",
    "alien['y_position'] = 25\n",
    "\n",
    "print(alien)"
   ]
  },
  {
   "cell_type": "code",
   "execution_count": 116,
   "metadata": {},
   "outputs": [],
   "source": [
    "#write your code (100견이 불여일타)"
   ]
  },
  {
   "cell_type": "markdown",
   "metadata": {},
   "source": [
    "##### 예제 D-9 (요소수정)"
   ]
  },
  {
   "cell_type": "code",
   "execution_count": 117,
   "metadata": {},
   "outputs": [
    {
     "name": "stdout",
     "output_type": "stream",
     "text": [
      "The alien is green.\n",
      "The alien is yellow.\n"
     ]
    }
   ],
   "source": [
    "alien = {'color': 'green'}\n",
    "print(\"The alien is \" + alien['color'] + \".\")\n",
    "\n",
    "##### 예제 D-8\n",
    "alien['color'] = 'yellow'\n",
    "print(\"The alien is \" + alien['color'] + \".\")"
   ]
  },
  {
   "cell_type": "code",
   "execution_count": 118,
   "metadata": {},
   "outputs": [],
   "source": [
    "#write your code (100견이 불여일타)"
   ]
  },
  {
   "cell_type": "markdown",
   "metadata": {},
   "source": [
    "##### 예제 D-10 (요소삭제)"
   ]
  },
  {
   "cell_type": "code",
   "execution_count": 119,
   "metadata": {},
   "outputs": [
    {
     "name": "stdout",
     "output_type": "stream",
     "text": [
      "{'color': 'green', 'points': 5}\n",
      "{'color': 'green'}\n"
     ]
    }
   ],
   "source": [
    "alien = {'color': 'green', 'points': 5}\n",
    "print(alien)\n",
    "\n",
    "del alien['points']\n",
    "print(alien)"
   ]
  },
  {
   "cell_type": "code",
   "execution_count": 120,
   "metadata": {},
   "outputs": [],
   "source": [
    "#write your code (100견이 불여일타)"
   ]
  },
  {
   "cell_type": "markdown",
   "metadata": {},
   "source": [
    "\n",
    "##### 예제 D-11 ( key, value 값을 뽑아내는 방법)"
   ]
  },
  {
   "cell_type": "code",
   "execution_count": 121,
   "metadata": {},
   "outputs": [
    {
     "name": "stdout",
     "output_type": "stream",
     "text": [
      "dict_keys(['color', 'points'])\n",
      "['green', 5]\n",
      "[('color', 'green'), ('points', 5)]\n"
     ]
    }
   ],
   "source": [
    "alien = {'color': 'green', 'points': 5}\n",
    "\n",
    "alien_keys = alien.keys()\n",
    "print(alien_keys)\n",
    "\n",
    "alien_values = list(alien.values())\n",
    "print(alien_values)\n",
    "\n",
    "alien_items = list(alien.items())\n",
    "print(alien_items)"
   ]
  },
  {
   "cell_type": "code",
   "execution_count": 122,
   "metadata": {},
   "outputs": [],
   "source": [
    "#write your code (100견이 불여일타)"
   ]
  },
  {
   "cell_type": "markdown",
   "metadata": {},
   "source": [
    "\n",
    "##### 예제 D-12"
   ]
  },
  {
   "cell_type": "code",
   "execution_count": 123,
   "metadata": {
    "scrolled": true
   },
   "outputs": [
    {
     "name": "stdout",
     "output_type": "stream",
     "text": [
      "{'key_1': 'first_value', 'key_2': 2, 'key_3': 3.14, 'key_4': True, 'key_5': [4, 2, 1], 'key_6': {'inner_key': 6}}\n"
     ]
    }
   ],
   "source": [
    "my_dict1 = {\n",
    "    'key_1': 'first_value', \n",
    "    'key_2': 2,\n",
    "    'key_3': 3.14,\n",
    "    'key_4': True,\n",
    "    'key_5': [4, 2, 1],\n",
    "    'key_6': {'inner_key': 6}\n",
    "}\n",
    "\n",
    "print(my_dict1)"
   ]
  },
  {
   "cell_type": "code",
   "execution_count": 124,
   "metadata": {},
   "outputs": [],
   "source": [
    "#write your code (100견이 불여일타)"
   ]
  },
  {
   "cell_type": "markdown",
   "metadata": {},
   "source": [
    "\n",
    "##### 예제 D-13"
   ]
  },
  {
   "cell_type": "code",
   "execution_count": 125,
   "metadata": {},
   "outputs": [],
   "source": [
    "#리스트나 딕셔너리는 키값이 될 수 없다."
   ]
  },
  {
   "cell_type": "code",
   "execution_count": 126,
   "metadata": {},
   "outputs": [
    {
     "name": "stdout",
     "output_type": "stream",
     "text": [
      "{4: 'four', 1.5: 'one point five', 'string_key': 'string_value', True: 'True'}\n"
     ]
    }
   ],
   "source": [
    "my_dict2 = {\n",
    "    4: 'four',\n",
    "    1.5: 'one point five',\n",
    "    'string_key': 'string_value',\n",
    "    True: 'True',\n",
    "#     [1, 2, 3]: 'a list',\n",
    "#     {10: 'ten'}: 'a dictionary'\n",
    "}\n",
    "\n",
    "print(my_dict2)"
   ]
  },
  {
   "cell_type": "code",
   "execution_count": 127,
   "metadata": {},
   "outputs": [],
   "source": [
    "#write your code (100견이 불여일타)"
   ]
  },
  {
   "cell_type": "code",
   "execution_count": null,
   "metadata": {},
   "outputs": [],
   "source": []
  },
  {
   "cell_type": "markdown",
   "metadata": {},
   "source": [
    "#### **[실습]**\n",
    "\n",
    "- 빈 딕셔너리에 데이터 추가하기\n",
    "    - 빈 딕셔너리 생성하여 class_score 라는 변수에 할당\n",
    "    - dictionary_name[index] = value 문법으로 아래 데이터 생성\n",
    "        - {'Mike': 83, 'Alice': 92, 'Tina': 79, 'Ron': 88}.\n",
    "    - Alice의 점수를 출력"
   ]
  },
  {
   "cell_type": "code",
   "execution_count": 128,
   "metadata": {},
   "outputs": [],
   "source": [
    "#write your code (100견이 불여일타)\n"
   ]
  },
  {
   "cell_type": "code",
   "execution_count": 129,
   "metadata": {},
   "outputs": [
    {
     "name": "stdout",
     "output_type": "stream",
     "text": [
      "{'Mike': 83, 'Alice': 92, 'Tina': 79, 'Ron': 88}\n",
      "92\n"
     ]
    }
   ],
   "source": [
    "#sollution\n",
    "class_score = {}\n",
    "class_score['Mike'] = 83\n",
    "class_score['Alice'] = 92\n",
    "class_score['Tina'] = 79\n",
    "class_score['Ron'] = 88\n",
    "\n",
    "print(class_score)\n",
    "\n",
    "print(class_score['Alice'])"
   ]
  },
  {
   "cell_type": "markdown",
   "metadata": {},
   "source": [
    "# Range 의 개념\n",
    "- 시퀀스 자료형\n",
    "\n",
    "\n",
    "- 시작, 끝, 증가폭 지정\n",
    "\n",
    "\n",
    "- 시작 포함, 끝 제외\n",
    "\n",
    "\n",
    "- 시작과 증가폭은 생략 가능\n",
    "\n",
    "\n",
    "- 음수 증가폭 가능"
   ]
  },
  {
   "cell_type": "markdown",
   "metadata": {},
   "source": [
    "\n",
    "##### 예제 D-14"
   ]
  },
  {
   "cell_type": "code",
   "execution_count": 130,
   "metadata": {},
   "outputs": [
    {
     "name": "stdout",
     "output_type": "stream",
     "text": [
      "range(0, 5)\n",
      "[0, 1, 2, 3, 4]\n"
     ]
    }
   ],
   "source": [
    "my_range = range(5)\n",
    "print(my_range)\n",
    "print(list(my_range))"
   ]
  },
  {
   "cell_type": "code",
   "execution_count": 131,
   "metadata": {},
   "outputs": [],
   "source": [
    "#write your code (100견이 불여일타)"
   ]
  },
  {
   "cell_type": "markdown",
   "metadata": {},
   "source": [
    "\n",
    "##### 예제 D-15"
   ]
  },
  {
   "cell_type": "code",
   "execution_count": 132,
   "metadata": {},
   "outputs": [
    {
     "name": "stdout",
     "output_type": "stream",
     "text": [
      "[2, 3, 4]\n"
     ]
    }
   ],
   "source": [
    "my_range = range(2, 5)\n",
    "print(list(my_range))"
   ]
  },
  {
   "cell_type": "code",
   "execution_count": 133,
   "metadata": {},
   "outputs": [],
   "source": [
    "#write your code (100견이 불여일타)"
   ]
  },
  {
   "cell_type": "markdown",
   "metadata": {},
   "source": [
    "\n",
    "##### 예제 D-16"
   ]
  },
  {
   "cell_type": "code",
   "execution_count": 134,
   "metadata": {},
   "outputs": [
    {
     "name": "stdout",
     "output_type": "stream",
     "text": [
      "[1, 3, 5]\n"
     ]
    }
   ],
   "source": [
    "my_range = range(1, 7, 2)\n",
    "print(list(my_range))\n",
    "##### 예제 D-14"
   ]
  },
  {
   "cell_type": "code",
   "execution_count": null,
   "metadata": {},
   "outputs": [],
   "source": []
  },
  {
   "cell_type": "markdown",
   "metadata": {},
   "source": [
    "# E.\tIf 문 (조건문)\n",
    "\n",
    "- 조건에 따라 다른 동작을 수행하여 프로그램을 분기\n",
    "\n",
    "\n",
    "- 조건문이 필요한 프로그램의 예\n",
    "    - 아이디와 비밀번호 정보가 틀리면 로그인 실패 메시지를 출력"
   ]
  },
  {
   "cell_type": "code",
   "execution_count": 135,
   "metadata": {},
   "outputs": [],
   "source": [
    "#저녁을 먹었나? 안먹었나? -> 저녁을 먹는다."
   ]
  },
  {
   "cell_type": "markdown",
   "metadata": {},
   "source": [
    "\n",
    "##### 예제 E-1"
   ]
  },
  {
   "cell_type": "code",
   "execution_count": 136,
   "metadata": {},
   "outputs": [
    {
     "name": "stdout",
     "output_type": "stream",
     "text": [
      "a is not greater than b and not less than b\n"
     ]
    }
   ],
   "source": [
    "a = 33\n",
    "b = 33\n",
    "##### 예제 E-1\n",
    "\n",
    "if a > b:\n",
    "    print(\"a is greater than b\")\n",
    "elif a < b:\n",
    "    print(\"a is less than b\")\n",
    "else:\n",
    "    print(\"a is not greater than b and not less than b\")"
   ]
  },
  {
   "cell_type": "code",
   "execution_count": 137,
   "metadata": {},
   "outputs": [],
   "source": [
    "#write your code (100견이 불여일타)"
   ]
  },
  {
   "cell_type": "code",
   "execution_count": null,
   "metadata": {},
   "outputs": [],
   "source": []
  },
  {
   "cell_type": "markdown",
   "metadata": {},
   "source": [
    "# F.\tFor 문 (반복문)"
   ]
  },
  {
   "cell_type": "markdown",
   "metadata": {},
   "source": [
    "\n",
    "##### 예제 E-2"
   ]
  },
  {
   "cell_type": "code",
   "execution_count": 138,
   "metadata": {},
   "outputs": [
    {
     "name": "stdout",
     "output_type": "stream",
     "text": [
      "0\n",
      "1\n",
      "2\n",
      "3\n",
      "4\n"
     ]
    }
   ],
   "source": [
    "numbers = [0,1,2,3,4]\n",
    "\n",
    "for a in numbers:\n",
    "    print(a)"
   ]
  },
  {
   "cell_type": "code",
   "execution_count": 139,
   "metadata": {},
   "outputs": [],
   "source": [
    "#write your code (100견이 불여일타)"
   ]
  },
  {
   "cell_type": "markdown",
   "metadata": {},
   "source": [
    "\n",
    "##### 예제 E-3"
   ]
  },
  {
   "cell_type": "code",
   "execution_count": 140,
   "metadata": {},
   "outputs": [
    {
     "name": "stdout",
     "output_type": "stream",
     "text": [
      "0\n",
      "1\n",
      "2\n",
      "3\n",
      "4\n",
      "5\n",
      "6\n",
      "7\n",
      "8\n",
      "9\n"
     ]
    }
   ],
   "source": [
    "for a in range(10):\n",
    "    print(a)"
   ]
  },
  {
   "cell_type": "code",
   "execution_count": 141,
   "metadata": {},
   "outputs": [],
   "source": [
    "#write your code (100견이 불여일타)"
   ]
  },
  {
   "cell_type": "markdown",
   "metadata": {},
   "source": [
    "\n",
    "##### 예제 E-4"
   ]
  },
  {
   "cell_type": "code",
   "execution_count": 142,
   "metadata": {
    "scrolled": true
   },
   "outputs": [
    {
     "name": "stdout",
     "output_type": "stream",
     "text": [
      "I like lemon.\n",
      "I like kiwi.\n",
      "I like orange.\n",
      "I ate orange today.\n",
      "\n"
     ]
    }
   ],
   "source": [
    "fruits = ['lemon', 'kiwi', 'orange']\n",
    "\n",
    "for a in fruits:\n",
    "    print(\"I like \" + a + \".\")\n",
    "print(\"I ate \" + a + \" today.\\n\")\n"
   ]
  },
  {
   "cell_type": "code",
   "execution_count": 143,
   "metadata": {},
   "outputs": [],
   "source": [
    "#write your code (100견이 불여일타)"
   ]
  },
  {
   "cell_type": "markdown",
   "metadata": {},
   "source": [
    "\n",
    "##### 예제 E-5"
   ]
  },
  {
   "cell_type": "code",
   "execution_count": 144,
   "metadata": {},
   "outputs": [
    {
     "name": "stdout",
     "output_type": "stream",
     "text": [
      "[0, 1, 4, 9, 16]\n"
     ]
    }
   ],
   "source": [
    "squares = []\n",
    "\n",
    "for value in range(5):\n",
    "    a = value**2\n",
    "    #**란 제곱을 의미한다.\n",
    "    squares.append(a)\n",
    "    \n",
    "print(squares)\n"
   ]
  },
  {
   "cell_type": "code",
   "execution_count": 145,
   "metadata": {},
   "outputs": [],
   "source": [
    "#write your code (100견이 불여일타)"
   ]
  },
  {
   "cell_type": "markdown",
   "metadata": {},
   "source": [
    "\n",
    "##### 예제 E-6"
   ]
  },
  {
   "cell_type": "code",
   "execution_count": 146,
   "metadata": {
    "scrolled": true
   },
   "outputs": [
    {
     "name": "stdout",
     "output_type": "stream",
     "text": [
      "a\n",
      "b\n",
      "g\n",
      "k\n",
      "o\n"
     ]
    }
   ],
   "source": [
    "my_dict = {\"a\": \"apple\", \"b\": \"banana\", \"g\": \"grape\", \"k\": \"kiwi\", \"o\": \"orange\"}\n",
    "\n",
    "for a in my_dict:\n",
    "    print(a)\n"
   ]
  },
  {
   "cell_type": "code",
   "execution_count": 147,
   "metadata": {},
   "outputs": [
    {
     "name": "stdout",
     "output_type": "stream",
     "text": [
      "('a', 'apple')\n",
      "('b', 'banana')\n",
      "('g', 'grape')\n",
      "('k', 'kiwi')\n",
      "('o', 'orange')\n"
     ]
    }
   ],
   "source": [
    "my_dict = {\"a\": \"apple\", \"b\": \"banana\", \"g\": \"grape\", \"k\": \"kiwi\", \"o\": \"orange\"}\n",
    "\n",
    "for a in my_dict.items():\n",
    "    print(a)\n"
   ]
  },
  {
   "cell_type": "code",
   "execution_count": 148,
   "metadata": {},
   "outputs": [],
   "source": [
    "#write your code (100견이 불여일타)"
   ]
  },
  {
   "cell_type": "markdown",
   "metadata": {},
   "source": [
    "\n",
    "##### 예제 E-7"
   ]
  },
  {
   "cell_type": "code",
   "execution_count": 149,
   "metadata": {
    "scrolled": true
   },
   "outputs": [
    {
     "name": "stdout",
     "output_type": "stream",
     "text": [
      "0 0\n",
      "0 1\n",
      "0 2\n",
      "1 0\n",
      "1 1\n",
      "1 2\n"
     ]
    }
   ],
   "source": [
    "for i in range(2): # i : 0, 1\n",
    "    for j in range(3): # j : 0, 1, 2\n",
    "        print(i, j)"
   ]
  },
  {
   "cell_type": "code",
   "execution_count": 150,
   "metadata": {},
   "outputs": [],
   "source": [
    "#write your code (100견이 불여일타)"
   ]
  },
  {
   "cell_type": "markdown",
   "metadata": {},
   "source": [
    "\n",
    "##### 예제 E-8"
   ]
  },
  {
   "cell_type": "code",
   "execution_count": 151,
   "metadata": {},
   "outputs": [
    {
     "name": "stdout",
     "output_type": "stream",
     "text": [
      "1\n",
      "2\n",
      "3\n",
      "4\n",
      "5\n",
      "6\n",
      "7\n",
      "8\n",
      "9\n"
     ]
    }
   ],
   "source": [
    "number = 1\n",
    "while number < 10:\n",
    "    print(number)\n",
    "    number += 1 # 동일한 방식 number = number + 1"
   ]
  },
  {
   "cell_type": "code",
   "execution_count": 152,
   "metadata": {},
   "outputs": [],
   "source": [
    "#write your code (100견이 불여일타)"
   ]
  },
  {
   "cell_type": "markdown",
   "metadata": {},
   "source": [
    "\n",
    "##### 예제 E-9"
   ]
  },
  {
   "cell_type": "code",
   "execution_count": 153,
   "metadata": {},
   "outputs": [
    {
     "name": "stdout",
     "output_type": "stream",
     "text": [
      "1\n",
      "!\n",
      "2\n"
     ]
    }
   ],
   "source": [
    "i=1\n",
    "while i <6:\n",
    "    print(i)\n",
    "    i=i+1\n",
    "    if i ==3:\n",
    "        break\n",
    "    print(\"!\")"
   ]
  },
  {
   "cell_type": "code",
   "execution_count": 154,
   "metadata": {},
   "outputs": [],
   "source": [
    "#write your code (100견이 불여일타)"
   ]
  },
  {
   "cell_type": "markdown",
   "metadata": {},
   "source": [
    "\n",
    "##### 예제 E-10"
   ]
  },
  {
   "cell_type": "code",
   "execution_count": 155,
   "metadata": {},
   "outputs": [
    {
     "name": "stdout",
     "output_type": "stream",
     "text": [
      "1\n",
      "!\n",
      "2\n",
      "3\n",
      "!\n",
      "4\n",
      "!\n",
      "5\n",
      "!\n"
     ]
    }
   ],
   "source": [
    "i=1\n",
    "while i <6:\n",
    "    print(i)\n",
    "    i=i+1\n",
    "    if i ==3:\n",
    "        continue\n",
    "    print(\"!\")"
   ]
  },
  {
   "cell_type": "code",
   "execution_count": 156,
   "metadata": {},
   "outputs": [],
   "source": [
    "#write your code (100견이 불여일타)"
   ]
  },
  {
   "cell_type": "markdown",
   "metadata": {},
   "source": [
    "#### **[실습]**\n",
    "range를 활용한 for문으로 다음을 출력하세요.\n",
    "\n",
    "2  \n",
    "3  \n",
    "4"
   ]
  },
  {
   "cell_type": "code",
   "execution_count": 157,
   "metadata": {},
   "outputs": [],
   "source": [
    "#write your code (100견이 불여일타)"
   ]
  },
  {
   "cell_type": "code",
   "execution_count": 158,
   "metadata": {},
   "outputs": [
    {
     "name": "stdout",
     "output_type": "stream",
     "text": [
      "2\n",
      "3\n",
      "4\n"
     ]
    }
   ],
   "source": [
    "#sollution\n",
    "for a in range(2,5):\n",
    "    print(a)"
   ]
  },
  {
   "cell_type": "markdown",
   "metadata": {},
   "source": [
    "#### **[실습]**\n",
    "\n",
    "\n",
    "다음을 코드로 구현하세요.\n",
    "\n",
    "\n",
    "- 리스트 [1, 2, 3, 4, 3, 5] 를 nums 변수에 할당\n",
    "\n",
    "\n",
    "- 3을 제외한 값들의 합을 출력"
   ]
  },
  {
   "cell_type": "code",
   "execution_count": 159,
   "metadata": {},
   "outputs": [],
   "source": [
    "#write your code (100견이 불여일타)"
   ]
  },
  {
   "cell_type": "code",
   "execution_count": 160,
   "metadata": {},
   "outputs": [
    {
     "name": "stdout",
     "output_type": "stream",
     "text": [
      "12\n"
     ]
    }
   ],
   "source": [
    "#sollution\n",
    "\n",
    "nums = [1, 2, 3, 4, 3, 5]\n",
    "\n",
    "nums_sum = 0\n",
    "for a in nums:\n",
    "    if a != 3:\n",
    "        nums_sum = nums_sum + a\n",
    "print(nums_sum)"
   ]
  },
  {
   "cell_type": "markdown",
   "metadata": {},
   "source": [
    "\n",
    "##### 예제 E-11"
   ]
  },
  {
   "cell_type": "code",
   "execution_count": 161,
   "metadata": {},
   "outputs": [
    {
     "data": {
      "text/plain": [
       "11"
      ]
     },
     "execution_count": 161,
     "metadata": {},
     "output_type": "execute_result"
    }
   ],
   "source": [
    "def function(a):\n",
    "    a = a+3\n",
    "    return a+3\n",
    "function(5)"
   ]
  },
  {
   "cell_type": "code",
   "execution_count": 162,
   "metadata": {},
   "outputs": [],
   "source": [
    "#write your code (100견이 불여일타)"
   ]
  },
  {
   "cell_type": "markdown",
   "metadata": {},
   "source": [
    "\n",
    "#####  기타 자주쓰이는 구문"
   ]
  },
  {
   "cell_type": "code",
   "execution_count": 163,
   "metadata": {},
   "outputs": [
    {
     "name": "stdout",
     "output_type": "stream",
     "text": [
      "비현코의 파이썬 강의는 실용적이다.\n"
     ]
    }
   ],
   "source": [
    "# 문자열 안에 변수치환\n",
    "abc = '비현코'\n",
    "efg = f'{abc}의 파이썬 강의는 실용적이다.'\n",
    "print(efg)"
   ]
  },
  {
   "cell_type": "code",
   "execution_count": 164,
   "metadata": {},
   "outputs": [],
   "source": [
    "#write your code (100견이 불여일타)"
   ]
  },
  {
   "cell_type": "code",
   "execution_count": 165,
   "metadata": {},
   "outputs": [
    {
     "ename": "ZeroDivisionError",
     "evalue": "division by zero",
     "output_type": "error",
     "traceback": [
      "\u001b[1;31m---------------------------------------------------------------------------\u001b[0m",
      "\u001b[1;31mZeroDivisionError\u001b[0m                         Traceback (most recent call last)",
      "\u001b[1;32m<ipython-input-165-2a405dbb347e>\u001b[0m in \u001b[0;36m<module>\u001b[1;34m\u001b[0m\n\u001b[0;32m      1\u001b[0m \u001b[1;31m# try except 구문(예외처리)\u001b[0m\u001b[1;33m\u001b[0m\u001b[1;33m\u001b[0m\u001b[1;33m\u001b[0m\u001b[0m\n\u001b[1;32m----> 2\u001b[1;33m \u001b[0mabc\u001b[0m \u001b[1;33m=\u001b[0m \u001b[1;36m1\u001b[0m\u001b[1;33m/\u001b[0m\u001b[1;36m0\u001b[0m\u001b[1;33m\u001b[0m\u001b[1;33m\u001b[0m\u001b[0m\n\u001b[0m",
      "\u001b[1;31mZeroDivisionError\u001b[0m: division by zero"
     ]
    }
   ],
   "source": [
    "# try except 구문(예외처리)\n",
    "abc = 1/0"
   ]
  },
  {
   "cell_type": "code",
   "execution_count": null,
   "metadata": {},
   "outputs": [],
   "source": [
    "try:\n",
    "    abc = 1/0\n",
    "except:\n",
    "    print(\"오류발생\")"
   ]
  },
  {
   "cell_type": "code",
   "execution_count": null,
   "metadata": {},
   "outputs": [],
   "source": [
    "#write your code (100견이 불여일타)"
   ]
  }
 ],
 "metadata": {
  "colab": {
   "name": "Python_1장_파이썬언어의특성및개발환경.ipynb",
   "provenance": []
  },
  "kernelspec": {
   "display_name": "Python 3 (ipykernel)",
   "language": "python",
   "name": "python3"
  },
  "language_info": {
   "codemirror_mode": {
    "name": "ipython",
    "version": 3
   },
   "file_extension": ".py",
   "mimetype": "text/x-python",
   "name": "python",
   "nbconvert_exporter": "python",
   "pygments_lexer": "ipython3",
   "version": "3.12.7"
  }
 },
 "nbformat": 4,
 "nbformat_minor": 4
}
