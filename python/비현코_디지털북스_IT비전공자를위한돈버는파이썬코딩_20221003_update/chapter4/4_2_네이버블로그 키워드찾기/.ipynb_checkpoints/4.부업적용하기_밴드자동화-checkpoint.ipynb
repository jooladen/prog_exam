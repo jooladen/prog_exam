{
 "cells": [
  {
   "cell_type": "markdown",
   "metadata": {},
   "source": [
    "# 상황설정\n",
    "\n",
    "1. 인터넷창을 킨다.\n",
    "2. 네이버 로그인을 진행한다. (수동 - capcha)\n",
    "3. \n",
    "4. 5. ONECODE 로 만든다.\n",
    "\n",
    "* 주의 - 인스타그램을 자동화하는 것을 남용하게 되면 아이디에 악영향을 끼칠 수 있습니다. 이 강의에서 해보는 것은 인스타그램을 통해서 우리가 직접 자동프로그램을 만드는 기술을 익히는 것에 의의를 두겠습니다. 이렇게 만든다고 해서 인스타그램을 비약적으로 키울수있다고 생각치 마시고, 하나의 무기정도로만 생각하고 접근해주시길 바립니다."
   ]
  },
  {
   "cell_type": "markdown",
   "metadata": {},
   "source": [
    "1. 인스타그램에 접속 후 로그인을 한다."
   ]
  },
  {
   "cell_type": "code",
   "execution_count": 13,
   "metadata": {},
   "outputs": [
    {
     "name": "stdout",
     "output_type": "stream",
     "text": [
      "Requirement already satisfied: selenium in c:\\users\\asus\\anaconda3\\lib\\site-packages (3.141.0)\n",
      "Requirement already satisfied: urllib3 in c:\\users\\asus\\anaconda3\\lib\\site-packages (from selenium) (1.25.9)\n"
     ]
    }
   ],
   "source": [
    "!pip install selenium\n",
    "from selenium import webdriver\n",
    "driver = webdriver.Chrome(\"chromedriver.exe\")\n",
    "driver.get(\"https://www.instagram.com\")\n",
    "idname = \"hottest.new.items@gmail.com\"\n",
    "password = \"bhyunco123\"\n",
    "import time\n",
    "#write your code (100문이 일여불타)\n",
    "time.sleep(1)\n",
    "driver.find_element_by_xpath(\"/html/body/div[1]/section/main/article/div[2]/div[1]/div/form/div/div[1]/div/label/input\").send_keys(idname)\n",
    "#패스워드 넣기\n",
    "time.sleep(1)\n",
    "\n",
    "driver.find_element_by_xpath(\"/html/body/div[1]/section/main/article/div[2]/div[1]/div/form/div/div[2]/div/label/input\").send_keys(password)\n",
    "#2초쉬기\n",
    "time.sleep(2)\n",
    "#로그인버튼 찾기\n",
    "instagram_login_button = driver.find_element_by_class_name('sqdOP.L3NKy.y3zKF')\n",
    "#로그인버튼 클릭\n",
    "instagram_login_button.send_keys(\"\\n\") "
   ]
  },
  {
   "cell_type": "code",
   "execution_count": 172,
   "metadata": {},
   "outputs": [],
   "source": [
    "#write your code (100문이 일여불타)\n"
   ]
  },
  {
   "cell_type": "markdown",
   "metadata": {},
   "source": [
    "2. 내가 관심있는 태그로 검색을 하고 올라온 피드를 가져온다."
   ]
  },
  {
   "cell_type": "code",
   "execution_count": 14,
   "metadata": {},
   "outputs": [
    {
     "name": "stdout",
     "output_type": "stream",
     "text": [
      "검색하고자 하는 해시태그를 입력하세요 :취미생활\n"
     ]
    }
   ],
   "source": [
    "#인친의 피드를 보기위해 이동한다.\n",
    "hashtag = str(input(\"검색하고자 하는 해시태그를 입력하세요 :\"))\n",
    "driver.get(f\"https://www.instagram.com/explore/tags/{hashtag}/\")\n",
    "time.sleep(2)\n",
    "feed_lists = driver.find_elements_by_class_name(\"v1Nh3.kIKUG._bz0w\")"
   ]
  },
  {
   "cell_type": "code",
   "execution_count": 173,
   "metadata": {},
   "outputs": [],
   "source": [
    "#write your code (100문이 일여불타)\n"
   ]
  },
  {
   "cell_type": "markdown",
   "metadata": {},
   "source": [
    "3. 가져온 리스트에 접속할 수 있는 URL을 확보한다.(10개만)"
   ]
  },
  {
   "cell_type": "code",
   "execution_count": 15,
   "metadata": {},
   "outputs": [],
   "source": [
    "from selenium.webdriver.common.keys import Keys\n",
    "\n",
    "driver.find_element_by_tag_name('body').send_keys(Keys.PAGE_DOWN)\n",
    "time.sleep(3)\n",
    "driver.find_element_by_tag_name('body').send_keys(Keys.PAGE_DOWN)\n",
    "time.sleep(3)\n",
    "driver.find_element_by_tag_name('body').send_keys(Keys.END)\n",
    "\n",
    "feed_urls = []\n",
    "\n",
    "for a in feed_lists[:10]:\n",
    "    feed_url = str(a.get_attribute('innerHTML').split('href=\"')[1].split('\"')[0])\n",
    "    feed_url = \"https://www.instagram.com\"+feed_url\n",
    "    feed_urls.append(feed_url)"
   ]
  },
  {
   "cell_type": "code",
   "execution_count": 151,
   "metadata": {},
   "outputs": [],
   "source": [
    "#write your code (100문이 일여불타)\n"
   ]
  },
  {
   "cell_type": "markdown",
   "metadata": {},
   "source": [
    "4. 가져온 list를 하나하나 하트표를 누르게 한다.(10개만)"
   ]
  },
  {
   "cell_type": "code",
   "execution_count": 85,
   "metadata": {},
   "outputs": [],
   "source": [
    "for a in feed_urls:\n",
    "    driver.get(a)\n",
    "    time.sleep(3)\n",
    "    #좋아요를 이미 눌렀는지 누르지 않았는지.\n",
    "    like_or_not = driver.find_element_by_xpath(\"/html/body/div[1]/section/main/div/div[1]/article/div[3]/section[1]/span[1]/button/div/span\").get_attribute('innerHTML')\n",
    "    like_or_not = like_or_not.split('label=\"')[1].split('\"')[0]\n",
    "    time.sleep(3)\n",
    "    if like_or_not =='좋아요':        \n",
    "        driver.find_element_by_xpath(\"/html/body/div[1]/section/main/div/div[1]/article/div[3]/section[1]/span[1]/button/div/span\").click()\n",
    "        time.sleep(3)\n",
    "        \n",
    "driver.close()"
   ]
  },
  {
   "cell_type": "code",
   "execution_count": 86,
   "metadata": {},
   "outputs": [],
   "source": [
    "#write your code (100문이 일여불타)\n"
   ]
  },
  {
   "cell_type": "markdown",
   "metadata": {},
   "source": [
    "5. onecode로 만든다."
   ]
  },
  {
   "cell_type": "code",
   "execution_count": 174,
   "metadata": {},
   "outputs": [
    {
     "name": "stdout",
     "output_type": "stream",
     "text": [
      "Requirement already satisfied: selenium in c:\\users\\asus\\anaconda3\\lib\\site-packages (3.141.0)\n",
      "Requirement already satisfied: urllib3 in c:\\users\\asus\\anaconda3\\lib\\site-packages (from selenium) (1.25.9)\n",
      "내가 검색하고자 하는 해시태그를 입력하세요:재테크\n",
      "좋아요를 눌러주세요\n",
      "좋아요를 눌러주세요\n",
      "좋아요를 눌러주세요\n",
      "좋아요를 눌러주세요\n",
      "좋아요를 눌러주세요\n",
      "좋아요를 눌러주세요\n",
      "좋아요를 눌러주세요\n",
      "좋아요를 눌러주세요\n",
      "좋아요를 눌러주세요\n",
      "좋아요를 눌러주세요\n"
     ]
    }
   ],
   "source": [
    "#write your code (100문이 일여불타)\n",
    "\n",
    "#패키지&라이브러리설치\n",
    "!pip install selenium\n",
    "from selenium import webdriver\n",
    "\n",
    "#크롬드라이버 실행\n",
    "driver = webdriver.Chrome(\"chromedriver.exe\")\n",
    "#인스타그램 접속\n",
    "driver.get(\"https://www.instagram.com\")\n",
    "time.sleep(3)\n",
    "\n",
    "#로그인\n",
    "idname = \"hottest.new.items@gmail.com\"\n",
    "driver.find_element_by_xpath(\"/html/body/div[1]/section/main/article/div[2]/div[1]/div/form/div/div[1]/div/label/input\").send_keys(idname)\n",
    "password = \"bhyunco123\"\n",
    "driver.find_element_by_xpath(\"/html/body/div[1]/section/main/article/div[2]/div[1]/div/form/div/div[2]/div/label/input\").send_keys(password)\n",
    "driver.find_element_by_xpath(\"/html/body/div[1]/section/main/article/div[2]/div[1]/div/form/div/div[3]/button/div\").click()\n",
    "\n",
    "#원하는 검색어 입력 및 접속\n",
    "hashtag = str(input(\"내가 검색하고자 하는 해시태그를 입력하세요:\"))\n",
    "driver.get(f\"https://www.instagram.com/explore/tags/{hashtag}/\")\n",
    "time.sleep(5)\n",
    "\n",
    "#피드URL확보\n",
    "feed_lists = driver.find_elements_by_class_name(\"v1Nh3.kIKUG._bz0w\")\n",
    "\n",
    "feed_urls = []\n",
    "for a in feed_lists[:10]:\n",
    "    feed_url = a.get_attribute(\"innerHTML\").split('a href=\"')[1].split('\" tabindex')[0]\n",
    "    test_url = \"https://www.instagram.com\" + feed_url\n",
    "    feed_urls.append(test_url)\n",
    "    \n",
    "time.sleep(5)\n",
    "\n",
    "#좋아요 작업\n",
    "for a in feed_urls:\n",
    "    time.sleep(1)\n",
    "    driver.get(a)\n",
    "    sample_test = driver.find_element_by_xpath(\"/html/body/div[1]/section/main/div/div[1]/article/div[3]/section[1]/span[1]/button/div/span\")\n",
    "    like_or_not = sample_test.get_attribute('innerHTML').split('aria-label=\"')[1].split('\" class=')[0]\n",
    "    if like_or_not == '좋아요':\n",
    "        print(\"좋아요를 눌러주세요\")\n",
    "        driver.find_element_by_xpath(\"/html/body/div[1]/section/main/div/div[1]/article/div[3]/section[1]/span[1]/button/div/span\").click()"
   ]
  },
  {
   "cell_type": "code",
   "execution_count": null,
   "metadata": {},
   "outputs": [],
   "source": []
  }
 ],
 "metadata": {
  "kernelspec": {
   "display_name": "Python 3",
   "language": "python",
   "name": "python3"
  },
  "language_info": {
   "codemirror_mode": {
    "name": "ipython",
    "version": 3
   },
   "file_extension": ".py",
   "mimetype": "text/x-python",
   "name": "python",
   "nbconvert_exporter": "python",
   "pygments_lexer": "ipython3",
   "version": "3.8.3"
  }
 },
 "nbformat": 4,
 "nbformat_minor": 4
}
