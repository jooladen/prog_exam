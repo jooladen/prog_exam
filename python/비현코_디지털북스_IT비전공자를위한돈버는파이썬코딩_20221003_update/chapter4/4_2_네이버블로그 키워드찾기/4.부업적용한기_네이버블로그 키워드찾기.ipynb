{
 "cells": [
  {
   "cell_type": "markdown",
   "metadata": {},
   "source": [
    "# 상황설정 (update - 22-10-03)\n",
    "\n",
    "\n",
    "1. 원하는 키워드를 선정한다.\n",
    "2. 네이버 API 아이디/비번 발행 \n",
    "3. 네이버 검색 API를 해당키워드의 최근 100개의 발행개수를 확인한다.\n",
    "4. 해당 키워드의 포스팅일자와 총 발행량을 체크한다.\n",
    "5. 오늘 글을 올렸을 때의 경쟁률을 알아본다.\n",
    "6. 원코드로 만든다."
   ]
  },
  {
   "cell_type": "markdown",
   "metadata": {},
   "source": [
    "1. 원하는 키워드를 선정한다."
   ]
  },
  {
   "cell_type": "code",
   "execution_count": null,
   "metadata": {
    "scrolled": true
   },
   "outputs": [],
   "source": [
    "keyword = str(input(\"원하는 키워드를 선정하세요 : \"))"
   ]
  },
  {
   "cell_type": "code",
   "execution_count": null,
   "metadata": {
    "scrolled": true
   },
   "outputs": [],
   "source": [
    "#write your code (100문이 일여불타)"
   ]
  },
  {
   "cell_type": "markdown",
   "metadata": {},
   "source": [
    "2. 네이버 API 아이디/비번 발행 "
   ]
  },
  {
   "cell_type": "code",
   "execution_count": null,
   "metadata": {},
   "outputs": [],
   "source": [
    "# 네이버 검색 , 아이디/비번 발행\n",
    "client_id = \"\" #본인의 클라이언트 아이디를 넣어주세요\n",
    "import getpass\n",
    "client_secret = getpass.getpass(\"클라이언트 시크릿을 입력하세요 : \") "
   ]
  },
  {
   "cell_type": "code",
   "execution_count": null,
   "metadata": {
    "scrolled": true
   },
   "outputs": [],
   "source": []
  },
  {
   "cell_type": "code",
   "execution_count": null,
   "metadata": {
    "scrolled": true
   },
   "outputs": [],
   "source": [
    "#write your code (100문이 일여불타)"
   ]
  },
  {
   "cell_type": "markdown",
   "metadata": {},
   "source": [
    "3. 네이버 검색 API를 해당키워드의 최근 100개의 발행개수를 확인한다."
   ]
  },
  {
   "cell_type": "code",
   "execution_count": null,
   "metadata": {
    "scrolled": true
   },
   "outputs": [],
   "source": [
    "# 네이버 검색 API를 해당키워드의 최근 100개의 발행개수를 확인한다.\n",
    "import json\n",
    "import os\n",
    "import sys\n",
    "import urllib.request\n",
    "# client_id = \"YOUR_CLIENT_ID\"\n",
    "# client_secret = \"YOUR_CLIENT_SECRET\"\n",
    "encText = urllib.parse.quote(keyword)\n",
    "\n",
    "# url = \"https://openapi.naver.com/v1/search/blog?query=\" + encText # json 결과\n",
    "\n",
    "display = 100\n",
    "sort = 'date'\n",
    "\n",
    "url = \"https://openapi.naver.com/v1/search/blog?query=\" + encText + \"&display=\" + str(display) + \"&sort=\" + str(sort)\n",
    "\n",
    "# url = \"https://openapi.naver.com/v1/search/blog.xml?query=\" + encText # xml 결과\n",
    "request = urllib.request.Request(url)\n",
    "request.add_header(\"X-Naver-Client-Id\",client_id)\n",
    "request.add_header(\"X-Naver-Client-Secret\",client_secret)\n",
    "response = urllib.request.urlopen(request)\n",
    "rescode = response.getcode()\n",
    "if(rescode==200):\n",
    "    response_body = response.read()\n",
    "\n",
    "    #나오는 결과를 json 으로 변환해서 가져오는작업\n",
    "    response_dict = json.loads(response_body.decode('utf-8'))\n",
    "    print(response_body.decode('utf-8'))\n",
    "else:\n",
    "    print(\"Error Code:\" + rescode)\n"
   ]
  },
  {
   "cell_type": "code",
   "execution_count": null,
   "metadata": {
    "scrolled": true
   },
   "outputs": [],
   "source": [
    "#write your code (100문이 일여불타)"
   ]
  },
  {
   "cell_type": "markdown",
   "metadata": {},
   "source": [
    "4. 해당 키워드의 포스팅일자와 총 발행량을 체크한다."
   ]
  },
  {
   "cell_type": "code",
   "execution_count": null,
   "metadata": {
    "scrolled": true
   },
   "outputs": [],
   "source": [
    "response_dict.keys()\n",
    "# 총 발행량 확인\n",
    "posting_total = 100\n",
    "print(posting_total)\n",
    "# 마지막 포스팅 생성날짜 확인\n",
    "last_posting = response_dict[\"items\"][-1]\n",
    "print(last_posting[\"postdate\"])\n",
    "# 오늘 날짜 확인\n",
    "import datetime\n",
    "today = datetime.datetime.today()\n",
    "print(today)\n",
    "# 마지막 포스팅 생성날짜 datetime 변환\n",
    "last_year = int(last_posting[\"postdate\"][:4])\n",
    "print(last_year)\n",
    "last_month = int(last_posting[\"postdate\"][4:6])\n",
    "print(last_month)\n",
    "last_day = int(last_posting[\"postdate\"][6:])\n",
    "print(last_day)\n",
    "last = datetime.datetime(last_year,last_month,last_day)\n",
    "#마지막 포스팅일자 - 오늘 날짜 계산\n",
    "date_difference = today - last\n",
    "date_difference.days"
   ]
  },
  {
   "cell_type": "markdown",
   "metadata": {},
   "source": [
    "5. 오늘 글을 올렸을 때의 경쟁률을 알아본다."
   ]
  },
  {
   "cell_type": "code",
   "execution_count": null,
   "metadata": {},
   "outputs": [],
   "source": [
    "type(last)"
   ]
  },
  {
   "cell_type": "code",
   "execution_count": null,
   "metadata": {
    "scrolled": true
   },
   "outputs": [],
   "source": [
    "#하루평균 발행량 확인\n",
    "posting_total/date_difference.days"
   ]
  },
  {
   "cell_type": "code",
   "execution_count": null,
   "metadata": {
    "scrolled": true
   },
   "outputs": [],
   "source": [
    "#write your code (100문이 일여불타)"
   ]
  },
  {
   "cell_type": "markdown",
   "metadata": {},
   "source": [
    "6. 원코드로 만든다."
   ]
  },
  {
   "cell_type": "code",
   "execution_count": null,
   "metadata": {
    "scrolled": true
   },
   "outputs": [],
   "source": [
    "#직접만들어보세요."
   ]
  }
 ],
 "metadata": {
  "kernelspec": {
   "display_name": "Python 3",
   "language": "python",
   "name": "python3"
  },
  "language_info": {
   "codemirror_mode": {
    "name": "ipython",
    "version": 3
   },
   "file_extension": ".py",
   "mimetype": "text/x-python",
   "name": "python",
   "nbconvert_exporter": "python",
   "pygments_lexer": "ipython3",
   "version": "3.8.3"
  }
 },
 "nbformat": 4,
 "nbformat_minor": 4
}
