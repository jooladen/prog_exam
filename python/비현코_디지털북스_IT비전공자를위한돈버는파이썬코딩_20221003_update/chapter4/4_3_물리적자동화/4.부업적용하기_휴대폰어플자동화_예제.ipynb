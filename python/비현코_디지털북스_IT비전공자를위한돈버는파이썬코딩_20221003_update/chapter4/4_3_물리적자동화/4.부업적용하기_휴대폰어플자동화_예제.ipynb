{
 "cells": [
  {
   "cell_type": "code",
   "execution_count": 1,
   "metadata": {},
   "outputs": [
    {
     "name": "stdout",
     "output_type": "stream",
     "text": [
      "오늘 인사할 멘트를 적어주세요:  안녕하세요 비현코입니다. 잘부탁드립니다.\n",
      "Requirement already satisfied: pyperclip in c:\\users\\asus\\anaconda3\\lib\\site-packages (1.8.0)\n"
     ]
    }
   ],
   "source": [
    "today_ment = str(input(\"오늘 인사할 멘트를 적어주세요:  \"))\n",
    "\n",
    "a = 2\n",
    "#잠깐기다리기\n",
    "b = 5\n",
    "#오래기다리기\n",
    "import pyautogui as pag\n",
    "import time\n",
    "!pip install pyperclip\n",
    "import pyperclip\n",
    "pyperclip.copy(today_ment)"
   ]
  },
  {
   "cell_type": "code",
   "execution_count": 2,
   "metadata": {},
   "outputs": [
    {
     "name": "stdout",
     "output_type": "stream",
     "text": [
      "523\n",
      "0\n"
     ]
    }
   ],
   "source": [
    "# 창을 정상범위로 가져오기\n",
    "nox_x = int(str(pag.locateOnScreen('locate.png')).split(\"=\")[1].split(\",\")[0])\n",
    "nox_y = int(str(pag.locateOnScreen('locate.png')).split(\"=\")[2].split(\",\")[0])\n",
    "\n",
    "print(nox_x)\n",
    "print(nox_y)"
   ]
  },
  {
   "cell_type": "code",
   "execution_count": 3,
   "metadata": {},
   "outputs": [
    {
     "name": "stdout",
     "output_type": "stream",
     "text": [
      "1\n"
     ]
    }
   ],
   "source": [
    "# 2. 좌측 최상단을 클릭한다\n",
    "pag.moveTo(nox_x+7,nox_y+4)\n",
    "time.sleep(1)\n",
    "# 3. 0.0 으로 드래그한다.\n",
    "# pag.dragTo(0,0,3,button='left')\n",
    "try:\n",
    "    pag.dragTo(0,0,1,button = 'left')\n",
    "except:\n",
    "    print(1)\n",
    "pag.FAILSAFE = False \n",
    "pag.mouseUp()\n",
    "# 4. 프로그램을 시작한다."
   ]
  },
  {
   "cell_type": "code",
   "execution_count": 4,
   "metadata": {},
   "outputs": [],
   "source": [
    "#1-1앱클릭\n",
    "pag.click(491,340)\n",
    "time.sleep(b)\n",
    "#\"내 모임\" 클릭\n",
    "pag.click(x=349, y=979)\n",
    "time.sleep(a)\n",
    "#내 모임 클릭\n",
    "pag.click(x=121, y=427)\n",
    "time.sleep(a)"
   ]
  },
  {
   "cell_type": "code",
   "execution_count": 5,
   "metadata": {},
   "outputs": [],
   "source": [
    "# 1-2채팅창에 원하는 내용의 멘트 쓰기.\n",
    "pag.click(x=491, y=166)\n",
    "time.sleep(a)\n",
    "pag.click(x=31, y=987)\n",
    "time.sleep(a)\n",
    "# pag.click(x=95, y=989)\n",
    "# time.sleep(a)\n",
    "pyperclip.copy(today_ment)\n",
    "pag.hotkey(\"ctrl\", \"v\")\n",
    "time.sleep(1)\n",
    "time.sleep(a)\n",
    "pag.click(x=508, y=972)\n",
    "time.sleep(a)"
   ]
  },
  {
   "cell_type": "code",
   "execution_count": 6,
   "metadata": {},
   "outputs": [],
   "source": [
    "# 1-3 정보탭을 클릭\n",
    "pag.click(x=73, y=162)\n",
    "time.sleep(a)"
   ]
  },
  {
   "cell_type": "code",
   "execution_count": 7,
   "metadata": {},
   "outputs": [],
   "source": [
    "#     1-4.클래스/액티비티/살롱만들기 클릭\n",
    "pag.moveTo(x=508, y=775)\n",
    "time.sleep(a)\n",
    "pag.dragTo(508,600,1,button = 'left')\n",
    "time.sleep(a)\n",
    "pag.click(x=222, y=816)\n",
    "time.sleep(a)"
   ]
  },
  {
   "cell_type": "code",
   "execution_count": 8,
   "metadata": {},
   "outputs": [],
   "source": [
    "#     1-5.모임 정보 입력하기\n",
    "pag.click(x=47, y=170)\n",
    "time.sleep(a)\n",
    "program_name = str(\"IT비전공자를 위한 파이썬 기초\")\n",
    "pyperclip.copy(program_name)\n",
    "pag.hotkey(\"ctrl\", \"v\")\n",
    "# pag.typewrite(\"tmqrhks aksemfrl vmfhrmfoa\",interval=0.1)\n",
    "#습관 만들기 프로그램\n",
    "time.sleep(a)\n",
    "\n",
    "pag.click(x=97, y=370)\n",
    "time.sleep(a)\n",
    "program_location = str(\"강남역\")\n",
    "pyperclip.copy(program_location)\n",
    "pag.hotkey(\"ctrl\", \"v\")\n",
    "time.sleep(a)\n",
    "\n",
    "\n",
    "pag.click(x=94, y=509)\n",
    "time.sleep(a)\n",
    "program_fee = str(\"50000\")\n",
    "pyperclip.copy(program_fee)\n",
    "pag.hotkey(\"ctrl\", \"v\")\n",
    "time.sleep(a)"
   ]
  },
  {
   "cell_type": "code",
   "execution_count": 9,
   "metadata": {},
   "outputs": [],
   "source": [
    "#     1-6.모임시작시간 설정\n",
    "#날짜 입력클릭\n",
    "pag.click(x=98, y=246)\n",
    "time.sleep(a)\n",
    "#당일 날짜로 확인\n",
    "pag.click(x=468, y=826)\n",
    "time.sleep(a)\n",
    "\n",
    "#시간설정1\n",
    "pag.click(x=216, y=647)\n",
    "time.sleep(a)\n",
    "\n",
    "#시간설정2\n",
    "pag.click(x=274, y=664)\n",
    "time.sleep(a)\n",
    "\n",
    "#시간설정3\n",
    "pag.click(x=177, y=351)\n",
    "time.sleep(a)\n",
    "\n",
    "#시간설정4\n",
    "pag.click(x=465, y=769)\n",
    "time.sleep(a)"
   ]
  },
  {
   "cell_type": "code",
   "execution_count": 10,
   "metadata": {},
   "outputs": [],
   "source": [
    "# 1-7. 정모만들기\n",
    "pag.click(x=250, y=744)\n",
    "time.sleep(a)"
   ]
  },
  {
   "cell_type": "markdown",
   "metadata": {
    "scrolled": true
   },
   "source": [
    "\n"
   ]
  }
 ],
 "metadata": {
  "kernelspec": {
   "display_name": "Python 3",
   "language": "python",
   "name": "python3"
  },
  "language_info": {
   "codemirror_mode": {
    "name": "ipython",
    "version": 3
   },
   "file_extension": ".py",
   "mimetype": "text/x-python",
   "name": "python",
   "nbconvert_exporter": "python",
   "pygments_lexer": "ipython3",
   "version": "3.8.3"
  }
 },
 "nbformat": 4,
 "nbformat_minor": 4
}
