{
 "cells": [
  {
   "cell_type": "markdown",
   "metadata": {},
   "source": [
    "#### 상황설명\n",
    "\n",
    "어플리케이션 자동화를 위해서\n",
    "pyautogui 라이브러리를 활용해서\n",
    "이미지를 분석하고,  그 이미지의 상태에 따라 의사결정을 하는 프로그램제작\n",
    "\n",
    "#### 히스토리 설명\n",
    "\n",
    "저는 저의 실시간 강의를 홍보하려 준비중에 있습니다.\n",
    "여기에서 사용되는 여러 도구중 '소모임' 앱에서 반복적인 작업이 발생합니다.\n",
    "그것은 바로, 수업을 등록하거나 스터디모임을 공지하는 경우입니다.\n",
    "\n",
    "이때 비용,내용,시간 모두 같습니다. 날짜만 다를 뿐이죠.\n",
    "한분이 계셔도 저는 메일 강의를 진행하기 때문에 이렇게 매일매일 강의를 올리는 것이 매우 번거롭습니다.\n",
    "\n",
    "그래서 프로그램을 써서 한번에 올릴 수 있도록 진행해보겠습니다.\n",
    "\n",
    "\n",
    "\n",
    "#해당프로그램은 컴퓨터 환경에 따라 실습이 어려울 수있습니다. 기능에 집중해서 빠르게 리뷰해보도록 하겠습니다. 보고 넘어가주세요 "
   ]
  },
  {
   "cell_type": "code",
   "execution_count": null,
   "metadata": {},
   "outputs": [],
   "source": [
    "#사전학습1 - pyautogui\n",
    "\n",
    "# 키보드,마우스 화면 등을 자동으로 컨트롤 할 수 있는 라이브러리\n",
    "\n",
    "ㅑ\n"
   ]
  },
  {
   "cell_type": "code",
   "execution_count": null,
   "metadata": {},
   "outputs": [],
   "source": [
    "#사전학습2 - pytesseract"
   ]
  },
  {
   "cell_type": "code",
   "execution_count": 8,
   "metadata": {},
   "outputs": [
    {
     "data": {
      "text/plain": [
       "Point(x=2618, y=365)"
      ]
     },
     "execution_count": 8,
     "metadata": {},
     "output_type": "execute_result"
    }
   ],
   "source": [
    "pag.position()"
   ]
  },
  {
   "cell_type": "code",
   "execution_count": 2,
   "metadata": {},
   "outputs": [],
   "source": [
    "#1. 앱을 실행한다."
   ]
  },
  {
   "cell_type": "code",
   "execution_count": null,
   "metadata": {},
   "outputs": [],
   "source": [
    "#2. 내가 운영하는 모임을 찾아서 클릭한다."
   ]
  },
  {
   "cell_type": "code",
   "execution_count": null,
   "metadata": {},
   "outputs": [],
   "source": [
    "#3. 정보탭을 클릭한다.> 정모 만들기 클릭한다."
   ]
  },
  {
   "cell_type": "code",
   "execution_count": null,
   "metadata": {},
   "outputs": [],
   "source": [
    "#4. 정모에 대한 세세한 정보를 입력한다."
   ]
  },
  {
   "cell_type": "code",
   "execution_count": null,
   "metadata": {},
   "outputs": [],
   "source": [
    "#5. 똑같은 작업을 오늘/내일/모레 반복한다."
   ]
  }
 ],
 "metadata": {
  "kernelspec": {
   "display_name": "Python 3",
   "language": "python",
   "name": "python3"
  },
  "language_info": {
   "codemirror_mode": {
    "name": "ipython",
    "version": 3
   },
   "file_extension": ".py",
   "mimetype": "text/x-python",
   "name": "python",
   "nbconvert_exporter": "python",
   "pygments_lexer": "ipython3",
   "version": "3.8.3"
  }
 },
 "nbformat": 4,
 "nbformat_minor": 4
}
