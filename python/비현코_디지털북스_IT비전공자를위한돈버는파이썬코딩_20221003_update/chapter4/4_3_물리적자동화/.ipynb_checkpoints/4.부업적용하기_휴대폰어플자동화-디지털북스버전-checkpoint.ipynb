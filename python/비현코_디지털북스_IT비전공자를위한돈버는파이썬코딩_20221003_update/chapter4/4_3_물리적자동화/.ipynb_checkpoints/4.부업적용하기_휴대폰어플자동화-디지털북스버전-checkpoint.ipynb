{
 "cells": [
  {
   "cell_type": "markdown",
   "metadata": {},
   "source": [
    "#### 상황설명\n",
    "\n",
    "어플리케이션 자동화를 위해서\n",
    "pyautogui 라이브러리를 활용해서\n",
    "이미지를 분석하고,  그 이미지의 상태에 따라 의사결정을 하는 프로그램제작\n",
    "\n",
    "#### 히스토리 설명\n",
    "\n",
    "저는 저의 실시간 강의를 홍보하려 준비중에 있습니다.\n",
    "여기에서 사용되는 여러 도구중 '소모임' 앱에서 반복적인 작업이 발생합니다.\n",
    "그것은 바로, 수업을 등록하거나 스터디모임을 공지하는 경우입니다.\n",
    "\n",
    "이때 비용,내용,시간 모두 같습니다. 날짜만 다를 뿐이죠.\n",
    "한분이 계셔도 저는 메일 강의를 진행하기 때문에 이렇게 매일매일 강의를 올리는 것이 매우 번거롭습니다.\n",
    "\n",
    "그래서 프로그램을 써서 한번에 올릴 수 있도록 진행해보겠습니다.\n",
    "\n",
    "\n",
    "\n",
    "#해당프로그램은 컴퓨터 환경에 따라 실습이 어려울 수있습니다. 기능에 집중해서 빠르게 리뷰해보도록 하겠습니다. 보고 넘어가주세요 "
   ]
  },
  {
   "cell_type": "code",
   "execution_count": 12,
   "metadata": {},
   "outputs": [
    {
     "name": "stdout",
     "output_type": "stream",
     "text": [
      "Requirement already satisfied: pyautogui in c:\\users\\asus\\anaconda3\\lib\\site-packages (0.9.52)\n",
      "Requirement already satisfied: mouseinfo in c:\\users\\asus\\anaconda3\\lib\\site-packages (from pyautogui) (0.1.3)\n",
      "Requirement already satisfied: pymsgbox in c:\\users\\asus\\anaconda3\\lib\\site-packages (from pyautogui) (1.0.8)\n",
      "Requirement already satisfied: pygetwindow>=0.0.5 in c:\\users\\asus\\anaconda3\\lib\\site-packages (from pyautogui) (0.0.9)\n",
      "Requirement already satisfied: pyscreeze>=0.1.21 in c:\\users\\asus\\anaconda3\\lib\\site-packages (from pyautogui) (0.1.26)\n",
      "Requirement already satisfied: PyTweening>=1.0.1 in c:\\users\\asus\\anaconda3\\lib\\site-packages (from pyautogui) (1.0.3)\n",
      "Requirement already satisfied: pyrect in c:\\users\\asus\\anaconda3\\lib\\site-packages (from pygetwindow>=0.0.5->pyautogui) (0.1.4)\n",
      "Requirement already satisfied: Pillow>=6.2.1 in c:\\users\\asus\\anaconda3\\lib\\site-packages (from pyscreeze>=0.1.21->pyautogui) (7.2.0)\n",
      "Requirement already satisfied: pyperclip in c:\\users\\asus\\anaconda3\\lib\\site-packages (from mouseinfo->pyautogui) (1.8.0)\n"
     ]
    }
   ],
   "source": [
    "#사전학습1 - pyautogui\n",
    "\n",
    "#키보드, 마우스 , 화면 등을 자동으로 컨트롤 할 수 있는 라이브러리\n",
    "!pip install pyautogui\n",
    "import pyautogui as pag"
   ]
  },
  {
   "cell_type": "code",
   "execution_count": 15,
   "metadata": {},
   "outputs": [
    {
     "data": {
      "text/plain": [
       "Point(x=1919, y=1079)"
      ]
     },
     "execution_count": 15,
     "metadata": {},
     "output_type": "execute_result"
    }
   ],
   "source": [
    "#마우스 위치확인\n",
    "pag.position()"
   ]
  },
  {
   "cell_type": "code",
   "execution_count": null,
   "metadata": {},
   "outputs": [],
   "source": [
    "#마우스 이동 (강의후반부에 다시설명드립니다. 풀지말고 넘어가주세요)=\n",
    "pag.moveTo(x=160, y=346)"
   ]
  },
  {
   "cell_type": "code",
   "execution_count": null,
   "metadata": {},
   "outputs": [],
   "source": [
    "#마우스 드래그\n",
    "pag.dragTo(508,600,1,button = 'left')\n"
   ]
  },
  {
   "cell_type": "code",
   "execution_count": null,
   "metadata": {},
   "outputs": [],
   "source": [
    "#키보드 입력\n",
    "pag.click(x=249, y=51)\n",
    "pag.typewrite('hello my name is bhyunco', interval=0.1)"
   ]
  },
  {
   "cell_type": "code",
   "execution_count": null,
   "metadata": {},
   "outputs": [],
   "source": [
    "#키보드 여러키를 동시에 입력 (강의후반부에 다시설명드립니다. 풀지말고 넘어가주세요)\n",
    "pag.click(x=406,y=402)\n",
    "pag.hotkey(\"ctrl\", \"v\")"
   ]
  },
  {
   "cell_type": "code",
   "execution_count": 18,
   "metadata": {},
   "outputs": [
    {
     "data": {
      "image/png": "[encoded data removed]",
      "text/plain": [
       "<PIL.Image.Image image mode=RGB size=100x100 at 0x221CB32E100>"
      ]
     },
     "execution_count": 18,
     "metadata": {},
     "output_type": "execute_result"
    }
   ],
   "source": [
    "#스크린 샷\n",
    "pag.screenshot('test1.png',region=(1,20,100,100))"
   ]
  },
  {
   "cell_type": "code",
   "execution_count": 19,
   "metadata": {},
   "outputs": [
    {
     "data": {
      "text/plain": [
       "Box(left=1, top=20, width=100, height=100)"
      ]
     },
     "execution_count": 19,
     "metadata": {},
     "output_type": "execute_result"
    }
   ],
   "source": [
    "#이미지가 있는 위치 확인 \n",
    "pag.locateOnScreen('test1.png')"
   ]
  },
  {
   "cell_type": "code",
   "execution_count": null,
   "metadata": {},
   "outputs": [],
   "source": []
  },
  {
   "cell_type": "code",
   "execution_count": 1,
   "metadata": {},
   "outputs": [],
   "source": [
    "# 소리내기"
   ]
  },
  {
   "cell_type": "code",
   "execution_count": 3,
   "metadata": {},
   "outputs": [],
   "source": [
    "import winsound"
   ]
  },
  {
   "cell_type": "code",
   "execution_count": 22,
   "metadata": {},
   "outputs": [],
   "source": [
    "import winsound\n",
    "winsound.Beep(1000,5000)\n",
    "winsound.Beep(38,2)\n",
    "winsound.Beep(38,2)\n",
    "winsound.Beep(38,2)\n",
    "winsound.Beep(38,2)\n",
    "winsound.Beep(38,2)\n",
    "winsound.Beep(38,2)\n",
    "winsound.Beep(38,2)\n"
   ]
  },
  {
   "cell_type": "code",
   "execution_count": null,
   "metadata": {},
   "outputs": [],
   "source": []
  }
 ],
 "metadata": {
  "kernelspec": {
   "display_name": "Python 3",
   "language": "python",
   "name": "python3"
  },
  "language_info": {
   "codemirror_mode": {
    "name": "ipython",
    "version": 3
   },
   "file_extension": ".py",
   "mimetype": "text/x-python",
   "name": "python",
   "nbconvert_exporter": "python",
   "pygments_lexer": "ipython3",
   "version": "3.8.3"
  }
 },
 "nbformat": 4,
 "nbformat_minor": 4
}
