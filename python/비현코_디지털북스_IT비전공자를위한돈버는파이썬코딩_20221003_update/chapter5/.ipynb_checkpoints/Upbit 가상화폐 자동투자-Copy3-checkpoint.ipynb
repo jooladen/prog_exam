{
 "cells": [
  {
   "cell_type": "markdown",
   "metadata": {},
   "source": [
    "# 상황설정\n",
    "- 2021.5.11 강의 노트 업데이트\n",
    "- 암호화페열풍의 중심 Upbit 의 Open API를 통해 자동투자의 기본을 배우고, 설정한 가설에 의한 자동 투자푸로그램을 제작\n",
    "\n",
    "### 프로그램의 목적:\n",
    "- 암호화폐 거래의 특징은 24시간 지속된다는 것에 있습니다.\n",
    "- 매시간 매분 가격을 체크하고 투자를 하고 있다면, 일상생활에 지장을 줄 정도로 피곤해지는게 암호화폐 투자의 단점입니다.\n",
    "- 단순한 코인별 가격조회, 지정가 매수, 시장가 매수 , 지정가 매도, 시장가 매도 등 기본을 배웁니다.\n",
    "- 이후 가설을 하나 세워 자동투자를 진행합니다.\n",
    "\n",
    "### 쿠팡파트너스 API 활용방법 순서\n",
    "1. 업비트 API를 발급받는다.\n",
    "2. 암호화폐 코인종류/시세/과거거래기록\n",
    "3. 암호화폐 내 잔고의 잔액조회\n",
    "4. 암호화폐 매수/매도\n",
    "4. 투자아이디어 설정\n",
    "5. 투자 아이디어 프로그램 제작\n",
    "\n",
    "\n",
    "* 투자관련경고 - 해당 프로그램은 학습을 위해 만든 하나의 '가설' 입니다. 해당 시스템으로 투자를 했을 경우 피해/손실이 발생할 수 있습니다.\n",
    "\n",
    "# 모든 투자는 개인의 책임하에 진행해야 합니다.\n",
    "\n",
    "* 주의 - 모든 코딩과정을 이해하고 따라오기에는 매우 오랜 시간이 걸립니다.\n",
    "그런 오랜 시간을 견디지 못하고 많은 비전공자분들이 코딩의 문턱을 넘지 못합니다.\n",
    "각자의 학습스타일에 따라 다르겠지만,\n",
    "이해하기보다는 \"아~ 이렇게 쓰는구나!\" 라고 생각하고 학습에 임해주세요.\n",
    "마치, 우리가 엑셀의 vlookup,if등의 함수를 쓸 때,\n",
    "하나하나 제작된 원리를 이해해서 하기보다는 자주 쓰다보니 외어지는 것 처럼 말이죠!\n",
    "\n",
    "(제가 경험했던 가장 큰 실수는 모든 것을 이해하고 다음으로 넘어가려했기 때문입니다. 일단 기능에만 충실해주세요)\n",
    "\n",
    "(그리고 그러다보면 어느순간 내가 만들고 싶은 프로그램을 만들고 계실 것입니다.)"
   ]
  },
  {
   "cell_type": "code",
   "execution_count": null,
   "metadata": {},
   "outputs": [],
   "source": []
  },
  {
   "cell_type": "markdown",
   "metadata": {},
   "source": [
    "\n",
    "### 1. 업비트 API 발급받기"
   ]
  },
  {
   "cell_type": "code",
   "execution_count": 50,
   "metadata": {},
   "outputs": [],
   "source": [
    "#업비트 가입 및 접속  www.upbit.com\n",
    "# (로그인상태에서)가입 후 4단계 보안인증 진행 https://upbit.com/mypage/security_certificate\n",
    "# (로그인상태에서)OPEN API 발급방법  https://upbit.com/mypage/open_api_management"
   ]
  },
  {
   "cell_type": "markdown",
   "metadata": {},
   "source": [
    "\n",
    "### 2. 암호화폐 코인종류/시세/과거거래기록"
   ]
  },
  {
   "cell_type": "code",
   "execution_count": 51,
   "metadata": {},
   "outputs": [],
   "source": [
    "#거래소 구조 설명 https://docs.upbit.com/docs\n",
    "# 원화거래 / BTC 거래 / USDT 거래\n",
    "#1.업비트의 코인 종류 체크\n",
    "\n",
    "import requests\n",
    "import json\n",
    "\n",
    "def coins(current):\n",
    "    url = \"https://api.upbit.com/v1/market/all\"\n",
    "    querystring = {\"isDetails\":\"true\"}\n",
    "    response = requests.request(\"GET\", url, params=querystring)\n",
    "    response_json = json.loads(response.text)\n",
    "\n",
    "    KRWticker = []\n",
    "    BTCticker = []\n",
    "    USDTticker = []\n",
    "\n",
    "    for a in response_json:\n",
    "    #     print(a['market'])\n",
    "        if \"KRW-\" in a['market']:\n",
    "            KRWticker.append(a['market'])\n",
    "        elif \"BTC-\" in a['market']:\n",
    "            BTCticker.append(a['market'])\n",
    "        elif \"USDT-\" in a['market']:\n",
    "            USDTticker.append(a['market'])    \n",
    "    ticker = {\n",
    "        \"KRW\":KRWticker,\n",
    "        \"BTC\":BTCticker,\n",
    "        \"USDT\":USDTticker\n",
    "    }\n",
    "#     print(ticker)\n",
    "    if current==\"ALL\":\n",
    "        ticker = ticker\n",
    "    else:\n",
    "        ticker = ticker[current]\n",
    "    return ticker"
   ]
  },
  {
   "cell_type": "code",
   "execution_count": 52,
   "metadata": {},
   "outputs": [],
   "source": [
    "#write your code"
   ]
  },
  {
   "cell_type": "code",
   "execution_count": 53,
   "metadata": {},
   "outputs": [],
   "source": [
    "#암호화폐 시세조회\n",
    "import requests\n",
    "import time\n",
    "\n",
    "def coin_price(coin):\n",
    "    url = \"https://api.upbit.com/v1/orderbook\"\n",
    "    querystring = {\"markets\":coin}\n",
    "    response = requests.request(\"GET\", url, params=querystring)\n",
    "    response_json = json.loads(response.text)\n",
    "    coin_now_price = response_json[0][\"orderbook_units\"][0][\"ask_price\"]\n",
    "    return coin_now_price\n"
   ]
  },
  {
   "cell_type": "code",
   "execution_count": 54,
   "metadata": {},
   "outputs": [],
   "source": [
    "#write your code"
   ]
  },
  {
   "cell_type": "code",
   "execution_count": 55,
   "metadata": {},
   "outputs": [],
   "source": [
    "#시세 호가 정보(Orderbook) 조회 // 호가 정보 조회\n",
    "\n",
    "import requests\n",
    "import pandas as pd\n",
    "\n",
    "def coin_history(coin,time1='minute',time2=\"\"):\n",
    "    url = f\"https://api.upbit.com/v1/candles/{time1}/{time2}\"\n",
    "\n",
    "    querystring = {\"market\":coin,\"count\":\"200\"}\n",
    "\n",
    "    response = requests.request(\"GET\", url, params=querystring)\n",
    "    response_json = json.loads(response.text)\n",
    "    # print(type(response_json))\n",
    "    df = pd.DataFrame(response_json)\n",
    "    return df"
   ]
  },
  {
   "cell_type": "code",
   "execution_count": 54,
   "metadata": {},
   "outputs": [
    {
     "data": {
      "text/html": [
       "<div>\n",
       "<style scoped>\n",
       "    .dataframe tbody tr th:only-of-type {\n",
       "        vertical-align: middle;\n",
       "    }\n",
       "\n",
       "    .dataframe tbody tr th {\n",
       "        vertical-align: top;\n",
       "    }\n",
       "\n",
       "    .dataframe thead th {\n",
       "        text-align: right;\n",
       "    }\n",
       "</style>\n",
       "<table border=\"1\" class=\"dataframe\">\n",
       "  <thead>\n",
       "    <tr style=\"text-align: right;\">\n",
       "      <th></th>\n",
       "      <th>market</th>\n",
       "      <th>candle_date_time_utc</th>\n",
       "      <th>candle_date_time_kst</th>\n",
       "      <th>opening_price</th>\n",
       "      <th>high_price</th>\n",
       "      <th>low_price</th>\n",
       "      <th>trade_price</th>\n",
       "      <th>timestamp</th>\n",
       "      <th>candle_acc_trade_price</th>\n",
       "      <th>candle_acc_trade_volume</th>\n",
       "      <th>unit</th>\n",
       "    </tr>\n",
       "  </thead>\n",
       "  <tbody>\n",
       "    <tr>\n",
       "      <th>0</th>\n",
       "      <td>KRW-BTC</td>\n",
       "      <td>2021-05-16T07:00:00</td>\n",
       "      <td>2021-05-16T16:00:00</td>\n",
       "      <td>59822000.0</td>\n",
       "      <td>59853000.0</td>\n",
       "      <td>59674000.0</td>\n",
       "      <td>59736000.0</td>\n",
       "      <td>1621149279945</td>\n",
       "      <td>6.652499e+09</td>\n",
       "      <td>111.361578</td>\n",
       "      <td>30</td>\n",
       "    </tr>\n",
       "    <tr>\n",
       "      <th>1</th>\n",
       "      <td>KRW-BTC</td>\n",
       "      <td>2021-05-16T06:30:00</td>\n",
       "      <td>2021-05-16T15:30:00</td>\n",
       "      <td>59983000.0</td>\n",
       "      <td>60140000.0</td>\n",
       "      <td>59529000.0</td>\n",
       "      <td>59822000.0</td>\n",
       "      <td>1621148400057</td>\n",
       "      <td>1.950673e+10</td>\n",
       "      <td>325.769553</td>\n",
       "      <td>30</td>\n",
       "    </tr>\n",
       "    <tr>\n",
       "      <th>2</th>\n",
       "      <td>KRW-BTC</td>\n",
       "      <td>2021-05-16T06:00:00</td>\n",
       "      <td>2021-05-16T15:00:00</td>\n",
       "      <td>59058000.0</td>\n",
       "      <td>60350000.0</td>\n",
       "      <td>59043000.0</td>\n",
       "      <td>59987000.0</td>\n",
       "      <td>1621146600537</td>\n",
       "      <td>3.436916e+10</td>\n",
       "      <td>574.127093</td>\n",
       "      <td>30</td>\n",
       "    </tr>\n",
       "    <tr>\n",
       "      <th>3</th>\n",
       "      <td>KRW-BTC</td>\n",
       "      <td>2021-05-16T05:30:00</td>\n",
       "      <td>2021-05-16T14:30:00</td>\n",
       "      <td>59000000.0</td>\n",
       "      <td>59200000.0</td>\n",
       "      <td>58957000.0</td>\n",
       "      <td>59059000.0</td>\n",
       "      <td>1621144800209</td>\n",
       "      <td>9.343402e+09</td>\n",
       "      <td>158.215625</td>\n",
       "      <td>30</td>\n",
       "    </tr>\n",
       "    <tr>\n",
       "      <th>4</th>\n",
       "      <td>KRW-BTC</td>\n",
       "      <td>2021-05-16T05:00:00</td>\n",
       "      <td>2021-05-16T14:00:00</td>\n",
       "      <td>58851000.0</td>\n",
       "      <td>59050000.0</td>\n",
       "      <td>58847000.0</td>\n",
       "      <td>59000000.0</td>\n",
       "      <td>1621142999929</td>\n",
       "      <td>1.003368e+10</td>\n",
       "      <td>170.199779</td>\n",
       "      <td>30</td>\n",
       "    </tr>\n",
       "    <tr>\n",
       "      <th>...</th>\n",
       "      <td>...</td>\n",
       "      <td>...</td>\n",
       "      <td>...</td>\n",
       "      <td>...</td>\n",
       "      <td>...</td>\n",
       "      <td>...</td>\n",
       "      <td>...</td>\n",
       "      <td>...</td>\n",
       "      <td>...</td>\n",
       "      <td>...</td>\n",
       "      <td>...</td>\n",
       "    </tr>\n",
       "    <tr>\n",
       "      <th>195</th>\n",
       "      <td>KRW-BTC</td>\n",
       "      <td>2021-05-12T05:30:00</td>\n",
       "      <td>2021-05-12T14:30:00</td>\n",
       "      <td>70054000.0</td>\n",
       "      <td>70055000.0</td>\n",
       "      <td>69769000.0</td>\n",
       "      <td>69804000.0</td>\n",
       "      <td>1620799199327</td>\n",
       "      <td>9.220774e+09</td>\n",
       "      <td>131.952410</td>\n",
       "      <td>30</td>\n",
       "    </tr>\n",
       "    <tr>\n",
       "      <th>196</th>\n",
       "      <td>KRW-BTC</td>\n",
       "      <td>2021-05-12T05:00:00</td>\n",
       "      <td>2021-05-12T14:00:00</td>\n",
       "      <td>70168000.0</td>\n",
       "      <td>70200000.0</td>\n",
       "      <td>70001000.0</td>\n",
       "      <td>70052000.0</td>\n",
       "      <td>1620797399372</td>\n",
       "      <td>6.186072e+09</td>\n",
       "      <td>88.235610</td>\n",
       "      <td>30</td>\n",
       "    </tr>\n",
       "    <tr>\n",
       "      <th>197</th>\n",
       "      <td>KRW-BTC</td>\n",
       "      <td>2021-05-12T04:30:00</td>\n",
       "      <td>2021-05-12T13:30:00</td>\n",
       "      <td>70280000.0</td>\n",
       "      <td>70280000.0</td>\n",
       "      <td>70003000.0</td>\n",
       "      <td>70140000.0</td>\n",
       "      <td>1620795599792</td>\n",
       "      <td>8.461579e+09</td>\n",
       "      <td>120.653851</td>\n",
       "      <td>30</td>\n",
       "    </tr>\n",
       "    <tr>\n",
       "      <th>198</th>\n",
       "      <td>KRW-BTC</td>\n",
       "      <td>2021-05-12T04:00:00</td>\n",
       "      <td>2021-05-12T13:00:00</td>\n",
       "      <td>70170000.0</td>\n",
       "      <td>70499000.0</td>\n",
       "      <td>70169000.0</td>\n",
       "      <td>70279000.0</td>\n",
       "      <td>1620793800659</td>\n",
       "      <td>1.248937e+10</td>\n",
       "      <td>177.503054</td>\n",
       "      <td>30</td>\n",
       "    </tr>\n",
       "    <tr>\n",
       "      <th>199</th>\n",
       "      <td>KRW-BTC</td>\n",
       "      <td>2021-05-12T03:30:00</td>\n",
       "      <td>2021-05-12T12:30:00</td>\n",
       "      <td>69594000.0</td>\n",
       "      <td>70440000.0</td>\n",
       "      <td>69574000.0</td>\n",
       "      <td>70144000.0</td>\n",
       "      <td>1620792000232</td>\n",
       "      <td>2.243426e+10</td>\n",
       "      <td>319.895244</td>\n",
       "      <td>30</td>\n",
       "    </tr>\n",
       "  </tbody>\n",
       "</table>\n",
       "<p>200 rows × 11 columns</p>\n",
       "</div>"
      ],
      "text/plain": [
       "      market candle_date_time_utc candle_date_time_kst  opening_price  \\\n",
       "0    KRW-BTC  2021-05-16T07:00:00  2021-05-16T16:00:00     59822000.0   \n",
       "1    KRW-BTC  2021-05-16T06:30:00  2021-05-16T15:30:00     59983000.0   \n",
       "2    KRW-BTC  2021-05-16T06:00:00  2021-05-16T15:00:00     59058000.0   \n",
       "3    KRW-BTC  2021-05-16T05:30:00  2021-05-16T14:30:00     59000000.0   \n",
       "4    KRW-BTC  2021-05-16T05:00:00  2021-05-16T14:00:00     58851000.0   \n",
       "..       ...                  ...                  ...            ...   \n",
       "195  KRW-BTC  2021-05-12T05:30:00  2021-05-12T14:30:00     70054000.0   \n",
       "196  KRW-BTC  2021-05-12T05:00:00  2021-05-12T14:00:00     70168000.0   \n",
       "197  KRW-BTC  2021-05-12T04:30:00  2021-05-12T13:30:00     70280000.0   \n",
       "198  KRW-BTC  2021-05-12T04:00:00  2021-05-12T13:00:00     70170000.0   \n",
       "199  KRW-BTC  2021-05-12T03:30:00  2021-05-12T12:30:00     69594000.0   \n",
       "\n",
       "     high_price   low_price  trade_price      timestamp  \\\n",
       "0    59853000.0  59674000.0   59736000.0  1621149279945   \n",
       "1    60140000.0  59529000.0   59822000.0  1621148400057   \n",
       "2    60350000.0  59043000.0   59987000.0  1621146600537   \n",
       "3    59200000.0  58957000.0   59059000.0  1621144800209   \n",
       "4    59050000.0  58847000.0   59000000.0  1621142999929   \n",
       "..          ...         ...          ...            ...   \n",
       "195  70055000.0  69769000.0   69804000.0  1620799199327   \n",
       "196  70200000.0  70001000.0   70052000.0  1620797399372   \n",
       "197  70280000.0  70003000.0   70140000.0  1620795599792   \n",
       "198  70499000.0  70169000.0   70279000.0  1620793800659   \n",
       "199  70440000.0  69574000.0   70144000.0  1620792000232   \n",
       "\n",
       "     candle_acc_trade_price  candle_acc_trade_volume  unit  \n",
       "0              6.652499e+09               111.361578    30  \n",
       "1              1.950673e+10               325.769553    30  \n",
       "2              3.436916e+10               574.127093    30  \n",
       "3              9.343402e+09               158.215625    30  \n",
       "4              1.003368e+10               170.199779    30  \n",
       "..                      ...                      ...   ...  \n",
       "195            9.220774e+09               131.952410    30  \n",
       "196            6.186072e+09                88.235610    30  \n",
       "197            8.461579e+09               120.653851    30  \n",
       "198            1.248937e+10               177.503054    30  \n",
       "199            2.243426e+10               319.895244    30  \n",
       "\n",
       "[200 rows x 11 columns]"
      ]
     },
     "execution_count": 54,
     "metadata": {},
     "output_type": "execute_result"
    }
   ],
   "source": [
    "coin_history(\"KRW-BTC\",\"minutes\",30)"
   ]
  },
  {
   "cell_type": "code",
   "execution_count": null,
   "metadata": {},
   "outputs": [],
   "source": [
    "#write your code"
   ]
  },
  {
   "cell_type": "markdown",
   "metadata": {},
   "source": [
    "\n",
    "### 3. 암호화폐 내 잔고의 잔액조회"
   ]
  },
  {
   "cell_type": "code",
   "execution_count": 56,
   "metadata": {},
   "outputs": [],
   "source": [
    "#로그인\n",
    "def login():\n",
    "    f=open(\"upbit_api_key.txt\")\n",
    "    lines = f.readlines()\n",
    "    global access_key\n",
    "    global secret_key\n",
    "    access_key = str(lines[0].strip())\n",
    "    secret_key = str(lines[1].strip())\n",
    "    f.close"
   ]
  },
  {
   "cell_type": "code",
   "execution_count": 57,
   "metadata": {},
   "outputs": [],
   "source": [
    "login()"
   ]
  },
  {
   "cell_type": "code",
   "execution_count": null,
   "metadata": {},
   "outputs": [],
   "source": [
    "#write your code"
   ]
  },
  {
   "cell_type": "code",
   "execution_count": 58,
   "metadata": {},
   "outputs": [],
   "source": [
    "#나의 계좌 잔액 조회\n",
    "import os\n",
    "import jwt\n",
    "import uuid\n",
    "import hashlib\n",
    "from urllib.parse import urlencode\n",
    "\n",
    "import requests\n",
    "\n",
    "def balance():\n",
    "    global server_url\n",
    "    server_url = 'https://api.upbit.com'\n",
    "\n",
    "    payload = {\n",
    "        'access_key': access_key,\n",
    "        'nonce': str(uuid.uuid4()),\n",
    "    }\n",
    "\n",
    "    jwt_token = jwt.encode(payload, secret_key)\n",
    "    authorize_token = 'Bearer {}'.format(jwt_token)\n",
    "    headers = {\"Authorization\": authorize_token}\n",
    "\n",
    "    res = requests.get(server_url + \"/v1/accounts\", headers=headers)\n",
    "    print(res.json())\n",
    "    return res.json()"
   ]
  },
  {
   "cell_type": "code",
   "execution_count": 76,
   "metadata": {},
   "outputs": [
    {
     "data": {
      "text/plain": [
       "[{'currency': 'KRW',\n",
       "  'balance': '989967.11752283',\n",
       "  'locked': '0.0',\n",
       "  'avg_buy_price': '0',\n",
       "  'avg_buy_price_modified': True,\n",
       "  'unit_currency': 'KRW'},\n",
       " {'currency': 'XRP',\n",
       "  'balance': '5.24934383',\n",
       "  'locked': '0.0',\n",
       "  'avg_buy_price': '1907.44',\n",
       "  'avg_buy_price_modified': False,\n",
       "  'unit_currency': 'KRW'}]"
      ]
     },
     "execution_count": 76,
     "metadata": {},
     "output_type": "execute_result"
    }
   ],
   "source": [
    "balance()"
   ]
  },
  {
   "cell_type": "code",
   "execution_count": null,
   "metadata": {},
   "outputs": [],
   "source": [
    "#write your code"
   ]
  },
  {
   "cell_type": "markdown",
   "metadata": {},
   "source": [
    "\n",
    "### 4. 암호화폐 매수/매도"
   ]
  },
  {
   "cell_type": "code",
   "execution_count": 59,
   "metadata": {},
   "outputs": [],
   "source": [
    "#매수(지정가)\n",
    "import os\n",
    "import jwt\n",
    "import uuid\n",
    "import hashlib\n",
    "from urllib.parse import urlencode\n",
    "\n",
    "import requests\n",
    "\n",
    "# access_key = os.environ['UPBIT_OPEN_API_ACCESS_KEY']\n",
    "# secret_key = os.environ['UPBIT_OPEN_API_SECRET_KEY']\n",
    "# server_url = os.environ['UPBIT_OPEN_API_SERVER_URL']\n",
    "\n",
    "def buy_limit(coin,volume,price):\n",
    "    query = {\n",
    "        'market': coin,\n",
    "        'side': 'bid',\n",
    "        'volume': volume,\n",
    "        'price': price,\n",
    "        'ord_type': 'limit',\n",
    "    }\n",
    "    query_string = urlencode(query).encode()\n",
    "\n",
    "    m = hashlib.sha512()\n",
    "    m.update(query_string)\n",
    "    query_hash = m.hexdigest()\n",
    "\n",
    "    payload = {\n",
    "        'access_key': access_key,\n",
    "        'nonce': str(uuid.uuid4()),\n",
    "        'query_hash': query_hash,\n",
    "        'query_hash_alg': 'SHA512',\n",
    "    }\n",
    "\n",
    "    jwt_token = jwt.encode(payload, secret_key)\n",
    "    authorize_token = 'Bearer {}'.format(jwt_token)\n",
    "    headers = {\"Authorization\": authorize_token}\n",
    "\n",
    "    res = requests.post(server_url + \"/v1/orders\", params=query, headers=headers)\n",
    "    print(res.json())\n",
    "    return res.json()"
   ]
  },
  {
   "cell_type": "code",
   "execution_count": 51,
   "metadata": {
    "scrolled": true
   },
   "outputs": [
    {
     "name": "stdout",
     "output_type": "stream",
     "text": [
      "{'uuid': '0b07bdfa-a203-443e-8a55-f80bb996da51', 'side': 'bid', 'ord_type': 'limit', 'price': '1950.0', 'state': 'wait', 'market': 'KRW-XRP', 'created_at': '2021-05-16T14:12:03+09:00', 'volume': '5.0', 'remaining_volume': '5.0', 'reserved_fee': '4.875', 'remaining_fee': '4.875', 'paid_fee': '0.0', 'locked': '9754.875', 'executed_volume': '0.0', 'trades_count': 0}\n"
     ]
    }
   ],
   "source": [
    "buy_limit(\"KRW-XRP\",5,1950)"
   ]
  },
  {
   "cell_type": "code",
   "execution_count": null,
   "metadata": {},
   "outputs": [],
   "source": [
    "#write your code"
   ]
  },
  {
   "cell_type": "code",
   "execution_count": 62,
   "metadata": {},
   "outputs": [],
   "source": [
    "#매수(시장가)\n",
    "import os\n",
    "import jwt\n",
    "import uuid\n",
    "import hashlib\n",
    "from urllib.parse import urlencode\n",
    "\n",
    "import requests\n",
    "\n",
    "# access_key = os.environ['UPBIT_OPEN_API_ACCESS_KEY']\n",
    "# secret_key = os.environ['UPBIT_OPEN_API_SECRET_KEY']\n",
    "# server_url = os.environ['UPBIT_OPEN_API_SERVER_URL']\n",
    "\n",
    "def buy_market(coin,price):\n",
    "    query = {\n",
    "        'market': coin,\n",
    "        'side': 'bid',\n",
    "        'volume': '',\n",
    "        'price': price,\n",
    "        'ord_type': 'price',\n",
    "    }\n",
    "    query_string = urlencode(query).encode()\n",
    "\n",
    "    m = hashlib.sha512()\n",
    "    m.update(query_string)\n",
    "    query_hash = m.hexdigest()\n",
    "\n",
    "    payload = {\n",
    "        'access_key': access_key,\n",
    "        'nonce': str(uuid.uuid4()),\n",
    "        'query_hash': query_hash,\n",
    "        'query_hash_alg': 'SHA512',\n",
    "    }\n",
    "\n",
    "    jwt_token = jwt.encode(payload, secret_key)\n",
    "    authorize_token = 'Bearer {}'.format(jwt_token)\n",
    "    headers = {\"Authorization\": authorize_token}\n",
    "\n",
    "    res = requests.post(server_url + \"/v1/orders\", params=query, headers=headers)\n",
    "    print(res.json())\n",
    "    return res.json()"
   ]
  },
  {
   "cell_type": "code",
   "execution_count": 54,
   "metadata": {},
   "outputs": [
    {
     "name": "stdout",
     "output_type": "stream",
     "text": [
      "{'uuid': '065f7f72-9956-4521-8feb-b51e27220c51', 'side': 'bid', 'ord_type': 'price', 'price': '10000.0', 'state': 'wait', 'market': 'KRW-XRP', 'created_at': '2021-05-16T14:14:07+09:00', 'volume': None, 'remaining_volume': None, 'reserved_fee': '5.0', 'remaining_fee': '5.0', 'paid_fee': '0.0', 'locked': '10005.0', 'executed_volume': '0.0', 'trades_count': 0}\n"
     ]
    }
   ],
   "source": [
    "#시장가구매\n",
    "buy_market(\"KRW-XRP\",10000)"
   ]
  },
  {
   "cell_type": "code",
   "execution_count": null,
   "metadata": {},
   "outputs": [],
   "source": [
    "#write your code"
   ]
  },
  {
   "cell_type": "code",
   "execution_count": 63,
   "metadata": {},
   "outputs": [],
   "source": [
    "#매도(지정가)\n",
    "\n",
    "import os\n",
    "import jwt\n",
    "import uuid\n",
    "import hashlib\n",
    "from urllib.parse import urlencode\n",
    "\n",
    "import requests\n",
    "\n",
    "# access_key = os.environ['UPBIT_OPEN_API_ACCESS_KEY']\n",
    "# secret_key = os.environ['UPBIT_OPEN_API_SECRET_KEY']\n",
    "# server_url = os.environ['UPBIT_OPEN_API_SERVER_URL']\n",
    "\n",
    "def sell_limit(coin,volume,price):\n",
    "    query = {\n",
    "        'market': coin,\n",
    "        'side': 'ask',\n",
    "        'volume': volume,\n",
    "        'price': price,\n",
    "        'ord_type': 'limit',\n",
    "    }\n",
    "    query_string = urlencode(query).encode()\n",
    "\n",
    "    m = hashlib.sha512()\n",
    "    m.update(query_string)\n",
    "    query_hash = m.hexdigest()\n",
    "\n",
    "    payload = {\n",
    "        'access_key': access_key,\n",
    "        'nonce': str(uuid.uuid4()),\n",
    "        'query_hash': query_hash,\n",
    "        'query_hash_alg': 'SHA512',\n",
    "    }\n",
    "\n",
    "    jwt_token = jwt.encode(payload, secret_key)\n",
    "    authorize_token = 'Bearer {}'.format(jwt_token)\n",
    "    headers = {\"Authorization\": authorize_token}\n",
    "\n",
    "    res = requests.post(server_url + \"/v1/orders\", params=query, headers=headers)\n",
    "    print(res.json())\n",
    "    return res.json()"
   ]
  },
  {
   "cell_type": "code",
   "execution_count": 57,
   "metadata": {},
   "outputs": [
    {
     "name": "stdout",
     "output_type": "stream",
     "text": [
      "{'uuid': '4fa50464-06bd-4618-81e2-13ead2499b17', 'side': 'ask', 'ord_type': 'limit', 'price': '1900.0', 'state': 'wait', 'market': 'KRW-XRP', 'created_at': '2021-05-16T14:16:04+09:00', 'volume': '5.0', 'remaining_volume': '5.0', 'reserved_fee': '0.0', 'remaining_fee': '0.0', 'paid_fee': '0.0', 'locked': '5.0', 'executed_volume': '0.0', 'trades_count': 0}\n"
     ]
    }
   ],
   "source": [
    "#시장가판매\n",
    "sell_limit(\"KRW-XRP\",5,1900)"
   ]
  },
  {
   "cell_type": "code",
   "execution_count": null,
   "metadata": {},
   "outputs": [],
   "source": [
    "#write your code"
   ]
  },
  {
   "cell_type": "code",
   "execution_count": null,
   "metadata": {},
   "outputs": [],
   "source": [
    "#지정가판매\n",
    "sell_limit()"
   ]
  },
  {
   "cell_type": "code",
   "execution_count": 64,
   "metadata": {},
   "outputs": [],
   "source": [
    "#매도(시장가)\n",
    "\n",
    "\n",
    "import os\n",
    "import jwt\n",
    "import uuid\n",
    "import hashlib\n",
    "from urllib.parse import urlencode\n",
    "\n",
    "import requests\n",
    "\n",
    "# access_key = os.environ['UPBIT_OPEN_API_ACCESS_KEY']\n",
    "# secret_key = os.environ['UPBIT_OPEN_API_SECRET_KEY']\n",
    "# server_url = os.environ['UPBIT_OPEN_API_SERVER_URL']\n",
    "\n",
    "def sell_market(coin,volume):\n",
    "    query = {\n",
    "        'market': coin,\n",
    "        'side': 'ask',\n",
    "        'volume': volume,\n",
    "        'price': '',\n",
    "        'ord_type': 'market',\n",
    "    }\n",
    "    query_string = urlencode(query).encode()\n",
    "\n",
    "    m = hashlib.sha512()\n",
    "    m.update(query_string)\n",
    "    query_hash = m.hexdigest()\n",
    "\n",
    "    payload = {\n",
    "        'access_key': access_key,\n",
    "        'nonce': str(uuid.uuid4()),\n",
    "        'query_hash': query_hash,\n",
    "        'query_hash_alg': 'SHA512',\n",
    "    }\n",
    "\n",
    "    jwt_token = jwt.encode(payload, secret_key)\n",
    "    authorize_token = 'Bearer {}'.format(jwt_token)\n",
    "    headers = {\"Authorization\": authorize_token}\n",
    "\n",
    "    res = requests.post(server_url + \"/v1/orders\", params=query, headers=headers)\n",
    "    print(res.json())\n",
    "    return res.json()"
   ]
  },
  {
   "cell_type": "code",
   "execution_count": 84,
   "metadata": {
    "scrolled": true
   },
   "outputs": [
    {
     "name": "stdout",
     "output_type": "stream",
     "text": [
      "{'uuid': 'f922a4d3-68f7-4bfe-82b8-8380e10e7d33', 'side': 'ask', 'ord_type': 'market', 'price': None, 'state': 'wait', 'market': 'KRW-XRP', 'created_at': '2021-05-16T14:23:22+09:00', 'volume': '5.24934383', 'remaining_volume': '5.24934383', 'reserved_fee': '0.0', 'remaining_fee': '0.0', 'paid_fee': '0.0', 'locked': '5.24934383', 'executed_volume': '0.0', 'trades_count': 0}\n"
     ]
    }
   ],
   "source": [
    "sell_market(\"KRW-XRP\",5.24934383)"
   ]
  },
  {
   "cell_type": "code",
   "execution_count": null,
   "metadata": {},
   "outputs": [],
   "source": [
    "#write your code"
   ]
  },
  {
   "cell_type": "markdown",
   "metadata": {},
   "source": [
    "##  사용하기 편하게 함수로 제작 ( !pip install bhyunco_upbit)\n",
    "\n",
    "\n",
    "\n",
    "## 구매가능한 코인 확인\n",
    "\n",
    "coins(\"KRW\") #한화코인확인\n",
    "\n",
    "coins(\"BTC\") #BTC코인확인\n",
    "\n",
    "coins(\"USDT\") #USDT코인확인\n",
    "\n",
    "coins(\"ALL\") #전체코인확인\n",
    "\n",
    "\n",
    "## 현재 코인 호가\n",
    "coin_price(\"KRW-BTC\")\n",
    "\n",
    "## 코인 거래내역\n",
    "coin_history(코인이름,시간기준1,시간기준2)\n",
    "시간기준1 = 기본은 \"minutes\"\n",
    "\n",
    "## 로그인\n",
    "login() #파이썬 파일이 있는 폴더에 \"upbit_api_key.txt\" 를 저장하고 첫번쨰줄에는 ID / 밑에줄에는 패스워드를 넣는다.\n",
    "\n",
    "## 내계좌잔액조회\n",
    "balance() #로그인 한후 활용가능\n",
    "\n",
    "## 지정가구매\n",
    "buy_limit(코인이름,갯수,가격) \n",
    "\n",
    "## 시장가구매\n",
    "buy_market(코인이름,구매액수) #로그인 한후 활용가능 \n",
    "\n",
    "## 지정가판매\n",
    "sell_limit(코인이름,갯수,가격)\n",
    "\n",
    "## 시장가판매\n",
    "sell_market(코인이름,갯수)\n",
    "\n"
   ]
  },
  {
   "cell_type": "markdown",
   "metadata": {},
   "source": [
    "\n",
    "### 5. 투자아이디어 설정"
   ]
  },
  {
   "cell_type": "code",
   "execution_count": null,
   "metadata": {},
   "outputs": [],
   "source": []
  },
  {
   "cell_type": "code",
   "execution_count": 65,
   "metadata": {},
   "outputs": [
    {
     "name": "stdout",
     "output_type": "stream",
     "text": [
      "['KRW-SOLVE', 288.0, 261.0, -9.375]\n"
     ]
    }
   ],
   "source": [
    "#1분봉으로 200분 안에 제일 하락을 많이 한 코인을 찾기\n",
    "# coin_history(\"KRW-BTC\",\"minutes\",30)\n",
    "#원화거래가 가능한 코인을 tickers 라는 변수에 저장\n",
    "tickers = coins(\"KRW\")\n",
    "\n",
    "#하락비율비교를 위한 변수 설정\n",
    "decrease_top_score =0.001\n",
    "\n",
    "\n",
    "#원화거래가 가능한 코인을 하나씩 뽑아내서, 200분동안 가장 높은 가격대비 가장 많이 하락한 코인을 찾는다.\n",
    "for ticker in tickers:\n",
    "    #ticker 코인의 1분봉으로 구성된 200개의 과거데이터를 가져온다.\n",
    "    coin_1_m = coin_history(ticker,'minutes',1)\n",
    "    #나온 데이터들의 열 중에서 high_price 항목의 가장 최대값을 max_high_price 로 저장한다.\n",
    "    max_high_price = coin_1_m[\"high_price\"].max()\n",
    "    #현재 코인의 가격을 now_price에 저장한다.\n",
    "    now_price = coin_price(ticker)\n",
    "    # 최대값을 기준으로 현재가격의 하락의 크기를 decrease_percent 변수에 저장한다. 이떄, 소수점 3번째에서 반올림 한다.\n",
    "    decrease_percent = round(((1-(now_price/max_high_price))*100),3)\n",
    "    \n",
    "    #이렇게 계산된 하락률이 이전의 하락률보다 많으면 최대하락한 ticker 코인은 decrease_top_score_ticker 에 저장한다.\n",
    "    if decrease_percent > decrease_top_score :\n",
    "        decrease_top_score = decrease_percent\n",
    "        decrease_top_score_ticker = [ticker,max_high_price,now_price,(-1)*decrease_percent]\n",
    "\n",
    "#for 문이 종료되고, \n",
    "print(decrease_top_score_ticker)"
   ]
  },
  {
   "cell_type": "code",
   "execution_count": 59,
   "metadata": {},
   "outputs": [
    {
     "name": "stdout",
     "output_type": "stream",
     "text": [
      "[{'currency': 'KRW', 'balance': '728547.065354', 'locked': '0.0', 'avg_buy_price': '0', 'avg_buy_price_modified': True, 'unit_currency': 'KRW'}, {'currency': 'CHZ', 'balance': '0.0', 'locked': '468.85813148', 'avg_buy_price': '578', 'avg_buy_price_modified': False, 'unit_currency': 'KRW'}]\n",
      "728547.065354\n",
      "72900.0\n"
     ]
    }
   ],
   "source": [
    "#잔고의 10%를 투자\n",
    "\n",
    "#잔고의 10%금액을 설정한다\n",
    "for a in balance():\n",
    "    # 현재 나의 잔고에서, KRW를 얼마나 가지고 있는지 확인한 다음, \n",
    "    if a['currency'] == 'KRW':\n",
    "        print(a['balance'])\n",
    "        #해당 잔고의 10%를 buy_amount로 정한다.\n",
    "        buy_amount = float(a['balance'])*0.10\n",
    "        print(round(buy_amount,-2))\n",
    "        #이때, 그 금액의 10의 자리에서 반올림을 한다.\n",
    "        buy_amount = round(buy_amount,-2)\n",
    "        "
   ]
  },
  {
   "cell_type": "code",
   "execution_count": 60,
   "metadata": {},
   "outputs": [
    {
     "name": "stdout",
     "output_type": "stream",
     "text": [
      "{'uuid': 'b611ce00-b591-4028-807a-7d838da97f5e', 'side': 'bid', 'ord_type': 'price', 'price': '72900.0', 'state': 'wait', 'market': 'KRW-CHZ', 'created_at': '2021-05-16T16:17:25+09:00', 'volume': None, 'remaining_volume': None, 'reserved_fee': '36.45', 'remaining_fee': '36.45', 'paid_fee': '0.0', 'locked': '72936.45', 'executed_volume': '0.0', 'trades_count': 0}\n"
     ]
    }
   ],
   "source": [
    "#해당 금액만큼의 코인을 구매한다.\n",
    "# buy_market()\n",
    "buy_market(decrease_top_score_ticker[0],buy_amount)\n",
    "#구매 후 코인 재고가 잡히게 3초를 기다려준다.\n",
    "time.sleep(3)"
   ]
  },
  {
   "cell_type": "code",
   "execution_count": 61,
   "metadata": {},
   "outputs": [],
   "source": [
    "#판매가격을 설정한다. 업비트 기준으로 구매가능한 단위로 바꿔준다.\n",
    "# ex-  35432원에 구매를 하고싶더라도, 해당 가격으로는 구매하지 못한다. 35430원 VS35440원 둘중에 하나를 골라야 한다.\n",
    "\n",
    "def price_trim(price_trim):\n",
    "    if price_trim<10:\n",
    "        price_trim = round(price_trim,2)\n",
    "    #10원이상~100원 미만 - [소수점첫째자리]\n",
    "    elif price_trim<100:\n",
    "        price_trim = round(price_trim,1)\n",
    "    #100원이상 - [1원단위]\n",
    "    elif price_trim<1000:\n",
    "        price_trim = round(price_trim)\n",
    "    #1000원이상 - [5원단위]\n",
    "    elif price_trim<10000:\n",
    "        price_trim = round(price_trim,-1)\n",
    "    #10000원이상 - [10원단위]\n",
    "    elif price_trim<100000:\n",
    "        price_trim = round(price_trim,-1)\n",
    "    #100000원이상 - [50원단위]\n",
    "    elif price_trim<500000:\n",
    "        price_trim = round(price_trim,-2)\n",
    "    #500000원이상 - [100원단위]\n",
    "    elif price_trim<10000000:\n",
    "        price_trim = round(price_trim,-2)\n",
    "    #10000000원이상 - [1000원단위]\n",
    "    else:\n",
    "        price_trim = round(price_trim,-3)\n",
    "    return price_trim"
   ]
  },
  {
   "cell_type": "code",
   "execution_count": null,
   "metadata": {},
   "outputs": [],
   "source": []
  },
  {
   "cell_type": "code",
   "execution_count": 62,
   "metadata": {},
   "outputs": [
    {
     "name": "stdout",
     "output_type": "stream",
     "text": [
      "[{'currency': 'KRW', 'balance': '655610.61535432', 'locked': '0.0', 'avg_buy_price': '0', 'avg_buy_price_modified': True, 'unit_currency': 'KRW'}, {'currency': 'CHZ', 'balance': '127.00348432', 'locked': '468.85813148', 'avg_buy_price': '577.15', 'avg_buy_price_modified': False, 'unit_currency': 'KRW'}]\n",
      "{'uuid': '3e583e38-d8d3-43e3-aec6-50427e1c9b9b', 'side': 'ask', 'ord_type': 'limit', 'price': '585.0', 'state': 'wait', 'market': 'KRW-CHZ', 'created_at': '2021-05-16T16:17:29+09:00', 'volume': '127.00348432', 'remaining_volume': '127.00348432', 'reserved_fee': '0.0', 'remaining_fee': '0.0', 'paid_fee': '0.0', 'locked': '127.00348432', 'executed_volume': '0.0', 'trades_count': 0}\n"
     ]
    },
    {
     "data": {
      "text/plain": [
       "{'uuid': '3e583e38-d8d3-43e3-aec6-50427e1c9b9b',\n",
       " 'side': 'ask',\n",
       " 'ord_type': 'limit',\n",
       " 'price': '585.0',\n",
       " 'state': 'wait',\n",
       " 'market': 'KRW-CHZ',\n",
       " 'created_at': '2021-05-16T16:17:29+09:00',\n",
       " 'volume': '127.00348432',\n",
       " 'remaining_volume': '127.00348432',\n",
       " 'reserved_fee': '0.0',\n",
       " 'remaining_fee': '0.0',\n",
       " 'paid_fee': '0.0',\n",
       " 'locked': '127.00348432',\n",
       " 'executed_volume': '0.0',\n",
       " 'trades_count': 0}"
      ]
     },
     "execution_count": 62,
     "metadata": {},
     "output_type": "execute_result"
    }
   ],
   "source": [
    "#구매한 코인이 2% 상승했을 때 판매\n",
    "#판매해야하는 가격 \n",
    "sell_price = price_trim(coin_price(decrease_top_score_ticker[0])*1.02)\n",
    "#가지고있는 코인갯수\n",
    "for a in balance():\n",
    "    if a['currency'] == decrease_top_score_ticker[0].replace(\"KRW-\",\"\"):\n",
    "        sell_balance = a['balance']\n",
    "#지정가에 판매\n",
    "sell_limit(decrease_top_score_ticker[0],sell_balance,sell_price)\n",
    "\n",
    "#30분단위로 반복"
   ]
  },
  {
   "cell_type": "markdown",
   "metadata": {},
   "source": [
    "\n",
    "### 6. 투자아이디어 프로그램 제작"
   ]
  },
  {
   "cell_type": "code",
   "execution_count": 48,
   "metadata": {},
   "outputs": [
    {
     "data": {
      "text/plain": [
       "644400.0"
      ]
     },
     "execution_count": 48,
     "metadata": {},
     "output_type": "execute_result"
    }
   ],
   "source": [
    "price_trim(644444.444)"
   ]
  },
  {
   "cell_type": "code",
   "execution_count": null,
   "metadata": {},
   "outputs": [
    {
     "name": "stdout",
     "output_type": "stream",
     "text": [
      "['KRW-CHZ', 598.0, 571.0, -4.515]\n",
      "[{'currency': 'KRW', 'balance': '996868.60685479', 'locked': '0.0', 'avg_buy_price': '0', 'avg_buy_price_modified': True, 'unit_currency': 'KRW'}]\n",
      "996868.60685479\n",
      "99700.0\n",
      "{'uuid': '64d7687a-ec69-4ed9-9d98-7d8fe80dd5e2', 'side': 'bid', 'ord_type': 'price', 'price': '99700.0', 'state': 'wait', 'market': 'KRW-CHZ', 'created_at': '2021-05-16T16:22:33+09:00', 'volume': None, 'remaining_volume': None, 'reserved_fee': '49.85', 'remaining_fee': '49.85', 'paid_fee': '0.0', 'locked': '99749.85', 'executed_volume': '0.0', 'trades_count': 0}\n",
      "[{'currency': 'KRW', 'balance': '897118.75685813', 'locked': '0.0', 'avg_buy_price': '0', 'avg_buy_price_modified': True, 'unit_currency': 'KRW'}, {'currency': 'CHZ', 'balance': '174.60595446', 'locked': '0.0', 'avg_buy_price': '571', 'avg_buy_price_modified': False, 'unit_currency': 'KRW'}]\n",
      "{'uuid': '60eb3e72-b4b8-4f87-94f7-c1d6ead8e807', 'side': 'ask', 'ord_type': 'limit', 'price': '582.0', 'state': 'wait', 'market': 'KRW-CHZ', 'created_at': '2021-05-16T16:22:36+09:00', 'volume': '174.60595446', 'remaining_volume': '174.60595446', 'reserved_fee': '0.0', 'remaining_fee': '0.0', 'paid_fee': '0.0', 'locked': '174.60595446', 'executed_volume': '0.0', 'trades_count': 0}\n",
      "['KRW-CHZ', 598.0, 573.0, -4.181]\n",
      "[{'currency': 'KRW', 'balance': '897118.75685813', 'locked': '0.0', 'avg_buy_price': '0', 'avg_buy_price_modified': True, 'unit_currency': 'KRW'}, {'currency': 'CHZ', 'balance': '0.0', 'locked': '174.60595446', 'avg_buy_price': '571', 'avg_buy_price_modified': False, 'unit_currency': 'KRW'}]\n",
      "897118.75685813\n",
      "89700.0\n",
      "{'uuid': '010b0976-bdf6-4148-a119-8962e47c25c9', 'side': 'bid', 'ord_type': 'price', 'price': '89700.0', 'state': 'wait', 'market': 'KRW-CHZ', 'created_at': '2021-05-16T16:25:51+09:00', 'volume': None, 'remaining_volume': None, 'reserved_fee': '44.85', 'remaining_fee': '44.85', 'paid_fee': '0.0', 'locked': '89744.85', 'executed_volume': '0.0', 'trades_count': 0}\n",
      "[{'currency': 'KRW', 'balance': '807373.90686261', 'locked': '0.0', 'avg_buy_price': '0', 'avg_buy_price_modified': True, 'unit_currency': 'KRW'}, {'currency': 'CHZ', 'balance': '156.54450261', 'locked': '174.60595446', 'avg_buy_price': '571.95', 'avg_buy_price_modified': False, 'unit_currency': 'KRW'}]\n",
      "{'uuid': '66bb58e0-19ea-498e-b6a5-7ccd83fadd0d', 'side': 'ask', 'ord_type': 'limit', 'price': '584.0', 'state': 'wait', 'market': 'KRW-CHZ', 'created_at': '2021-05-16T16:25:55+09:00', 'volume': '156.54450261', 'remaining_volume': '156.54450261', 'reserved_fee': '0.0', 'remaining_fee': '0.0', 'paid_fee': '0.0', 'locked': '156.54450261', 'executed_volume': '0.0', 'trades_count': 0}\n",
      "['KRW-POLY', 451.0, 430.0, -4.656]\n",
      "[{'currency': 'KRW', 'balance': '807373.90686261', 'locked': '0.0', 'avg_buy_price': '0', 'avg_buy_price_modified': True, 'unit_currency': 'KRW'}, {'currency': 'CHZ', 'balance': '0.0', 'locked': '331.15045707', 'avg_buy_price': '571.95', 'avg_buy_price_modified': False, 'unit_currency': 'KRW'}]\n",
      "807373.90686261\n",
      "80700.0\n",
      "{'uuid': '52d58169-be40-4a00-b258-4f32331f75c4', 'side': 'bid', 'ord_type': 'price', 'price': '80700.0', 'state': 'wait', 'market': 'KRW-POLY', 'created_at': '2021-05-16T16:29:11+09:00', 'volume': None, 'remaining_volume': None, 'reserved_fee': '40.35', 'remaining_fee': '40.35', 'paid_fee': '0.0', 'locked': '80740.35', 'executed_volume': '0.0', 'trades_count': 0}\n",
      "[{'currency': 'KRW', 'balance': '726633.55686342', 'locked': '0.0', 'avg_buy_price': '0', 'avg_buy_price_modified': True, 'unit_currency': 'KRW'}, {'currency': 'CHZ', 'balance': '0.0', 'locked': '331.15045707', 'avg_buy_price': '571.95', 'avg_buy_price_modified': False, 'unit_currency': 'KRW'}, {'currency': 'POLY', 'balance': '188.11188811', 'locked': '0.0', 'avg_buy_price': '429', 'avg_buy_price_modified': False, 'unit_currency': 'KRW'}]\n",
      "{'uuid': 'a21fa8c9-395a-4474-85c7-89fc64734bd2', 'side': 'ask', 'ord_type': 'limit', 'price': '438.0', 'state': 'wait', 'market': 'KRW-POLY', 'created_at': '2021-05-16T16:29:14+09:00', 'volume': '188.11188811', 'remaining_volume': '188.11188811', 'reserved_fee': '0.0', 'remaining_fee': '0.0', 'paid_fee': '0.0', 'locked': '188.11188811', 'executed_volume': '0.0', 'trades_count': 0}\n",
      "['KRW-POLY', 451.0, 426.0, -5.543]\n",
      "[{'currency': 'KRW', 'balance': '726633.55686342', 'locked': '0.0', 'avg_buy_price': '0', 'avg_buy_price_modified': True, 'unit_currency': 'KRW'}, {'currency': 'CHZ', 'balance': '0.0', 'locked': '331.15045707', 'avg_buy_price': '571.95', 'avg_buy_price_modified': False, 'unit_currency': 'KRW'}, {'currency': 'POLY', 'balance': '0.0', 'locked': '188.11188811', 'avg_buy_price': '429', 'avg_buy_price_modified': False, 'unit_currency': 'KRW'}]\n",
      "726633.55686342\n",
      "72700.0\n",
      "{'uuid': 'b0de1bde-7e8d-483d-ae45-c9049764ffb4', 'side': 'bid', 'ord_type': 'price', 'price': '72700.0', 'state': 'wait', 'market': 'KRW-POLY', 'created_at': '2021-05-16T16:41:36+09:00', 'volume': None, 'remaining_volume': None, 'reserved_fee': '36.35', 'remaining_fee': '36.35', 'paid_fee': '0.0', 'locked': '72736.35', 'executed_volume': '0.0', 'trades_count': 0}\n",
      "[{'currency': 'KRW', 'balance': '653897.20686568', 'locked': '0.0', 'avg_buy_price': '0', 'avg_buy_price_modified': True, 'unit_currency': 'KRW'}, {'currency': 'CHZ', 'balance': '0.0', 'locked': '331.15045707', 'avg_buy_price': '571.95', 'avg_buy_price_modified': False, 'unit_currency': 'KRW'}, {'currency': 'POLY', 'balance': '170.65727699', 'locked': '188.11188811', 'avg_buy_price': '427.57', 'avg_buy_price_modified': False, 'unit_currency': 'KRW'}]\n",
      "{'uuid': '3b41b65e-c00b-4f87-bb4a-30946db1aadb', 'side': 'ask', 'ord_type': 'limit', 'price': '435.0', 'state': 'wait', 'market': 'KRW-POLY', 'created_at': '2021-05-16T16:41:39+09:00', 'volume': '170.65727699', 'remaining_volume': '170.65727699', 'reserved_fee': '0.0', 'remaining_fee': '0.0', 'paid_fee': '0.0', 'locked': '170.65727699', 'executed_volume': '0.0', 'trades_count': 0}\n",
      "['KRW-POLY', 451.0, 427.0, -5.322]\n",
      "[{'currency': 'KRW', 'balance': '653897.20686568', 'locked': '0.0', 'avg_buy_price': '0', 'avg_buy_price_modified': True, 'unit_currency': 'KRW'}, {'currency': 'CHZ', 'balance': '0.0', 'locked': '331.15045707', 'avg_buy_price': '571.95', 'avg_buy_price_modified': False, 'unit_currency': 'KRW'}, {'currency': 'POLY', 'balance': '0.0', 'locked': '358.7691651', 'avg_buy_price': '427.57', 'avg_buy_price_modified': False, 'unit_currency': 'KRW'}]\n",
      "653897.20686568\n",
      "65400.0\n",
      "{'uuid': 'a389298e-1434-478e-9c64-f89b34229b57', 'side': 'bid', 'ord_type': 'price', 'price': '65400.0', 'state': 'wait', 'market': 'KRW-POLY', 'created_at': '2021-05-16T16:44:57+09:00', 'volume': None, 'remaining_volume': None, 'reserved_fee': '32.7', 'remaining_fee': '32.7', 'paid_fee': '0.0', 'locked': '65432.7', 'executed_volume': '0.0', 'trades_count': 0}\n",
      "[{'currency': 'KRW', 'balance': '588464.506869', 'locked': '0.0', 'avg_buy_price': '0', 'avg_buy_price_modified': True, 'unit_currency': 'KRW'}, {'currency': 'CHZ', 'balance': '0.0', 'locked': '331.15045707', 'avg_buy_price': '571.95', 'avg_buy_price_modified': False, 'unit_currency': 'KRW'}, {'currency': 'POLY', 'balance': '152.80373831', 'locked': '358.7691651', 'avg_buy_price': '427.7', 'avg_buy_price_modified': False, 'unit_currency': 'KRW'}]\n",
      "{'uuid': 'ac1f7555-d5e5-40e6-bd11-674f59d645dc', 'side': 'ask', 'ord_type': 'limit', 'price': '437.0', 'state': 'wait', 'market': 'KRW-POLY', 'created_at': '2021-05-16T16:45:00+09:00', 'volume': '152.80373831', 'remaining_volume': '152.80373831', 'reserved_fee': '0.0', 'remaining_fee': '0.0', 'paid_fee': '0.0', 'locked': '152.80373831', 'executed_volume': '0.0', 'trades_count': 0}\n",
      "['KRW-POLY', 451.0, 429.0, -4.878]\n",
      "[{'currency': 'KRW', 'balance': '588464.506869', 'locked': '0.0', 'avg_buy_price': '0', 'avg_buy_price_modified': True, 'unit_currency': 'KRW'}, {'currency': 'CHZ', 'balance': '0.0', 'locked': '331.15045707', 'avg_buy_price': '571.95', 'avg_buy_price_modified': False, 'unit_currency': 'KRW'}, {'currency': 'POLY', 'balance': '0.0', 'locked': '511.57290341', 'avg_buy_price': '427.7', 'avg_buy_price_modified': False, 'unit_currency': 'KRW'}]\n",
      "588464.506869\n",
      "58800.0\n",
      "{'uuid': 'c512c158-aa86-40b8-80b7-72571b8176ab', 'side': 'bid', 'ord_type': 'price', 'price': '58800.0', 'state': 'wait', 'market': 'KRW-POLY', 'created_at': '2021-05-16T16:48:16+09:00', 'volume': None, 'remaining_volume': None, 'reserved_fee': '29.4', 'remaining_fee': '29.4', 'paid_fee': '0.0', 'locked': '58829.4', 'executed_volume': '0.0', 'trades_count': 0}\n"
     ]
    },
    {
     "name": "stdout",
     "output_type": "stream",
     "text": [
      "[{'currency': 'KRW', 'balance': '529635.10687026', 'locked': '0.0', 'avg_buy_price': '0', 'avg_buy_price_modified': True, 'unit_currency': 'KRW'}, {'currency': 'CHZ', 'balance': '0.0', 'locked': '331.15045707', 'avg_buy_price': '571.95', 'avg_buy_price_modified': False, 'unit_currency': 'KRW'}, {'currency': 'POLY', 'balance': '137.06293706', 'locked': '511.57290341', 'avg_buy_price': '427.98', 'avg_buy_price_modified': False, 'unit_currency': 'KRW'}]\n",
      "{'uuid': '3b505ed7-bac6-46b7-a744-6d83be0b999e', 'side': 'ask', 'ord_type': 'limit', 'price': '438.0', 'state': 'wait', 'market': 'KRW-POLY', 'created_at': '2021-05-16T16:48:19+09:00', 'volume': '137.06293706', 'remaining_volume': '137.06293706', 'reserved_fee': '0.0', 'remaining_fee': '0.0', 'paid_fee': '0.0', 'locked': '137.06293706', 'executed_volume': '0.0', 'trades_count': 0}\n",
      "['KRW-POLY', 451.0, 427.0, -5.322]\n",
      "[{'currency': 'KRW', 'balance': '529635.10687026', 'locked': '0.0', 'avg_buy_price': '0', 'avg_buy_price_modified': True, 'unit_currency': 'KRW'}, {'currency': 'CHZ', 'balance': '0.0', 'locked': '331.15045707', 'avg_buy_price': '571.95', 'avg_buy_price_modified': False, 'unit_currency': 'KRW'}, {'currency': 'POLY', 'balance': '0.0', 'locked': '648.63584047', 'avg_buy_price': '427.98', 'avg_buy_price_modified': False, 'unit_currency': 'KRW'}]\n",
      "529635.10687026\n",
      "53000.0\n",
      "{'uuid': 'f4f6ba5a-2dfd-491a-aa6f-6b0c1a0f19d6', 'side': 'bid', 'ord_type': 'price', 'price': '53000.0', 'state': 'wait', 'market': 'KRW-POLY', 'created_at': '2021-05-16T16:51:34+09:00', 'volume': None, 'remaining_volume': None, 'reserved_fee': '26.5', 'remaining_fee': '26.5', 'paid_fee': '0.0', 'locked': '53026.5', 'executed_volume': '0.0', 'trades_count': 0}\n",
      "[{'currency': 'KRW', 'balance': '476608.60687431', 'locked': '0.0', 'avg_buy_price': '0', 'avg_buy_price_modified': True, 'unit_currency': 'KRW'}, {'currency': 'CHZ', 'balance': '0.0', 'locked': '331.15045707', 'avg_buy_price': '571.95', 'avg_buy_price_modified': False, 'unit_currency': 'KRW'}, {'currency': 'POLY', 'balance': '124.12177985', 'locked': '648.63584047', 'avg_buy_price': '427.82', 'avg_buy_price_modified': False, 'unit_currency': 'KRW'}]\n",
      "{'uuid': '1cdbacc2-7e04-4235-beb2-ba87ad8146f8', 'side': 'ask', 'ord_type': 'limit', 'price': '436.0', 'state': 'wait', 'market': 'KRW-POLY', 'created_at': '2021-05-16T16:51:37+09:00', 'volume': '124.12177985', 'remaining_volume': '124.12177985', 'reserved_fee': '0.0', 'remaining_fee': '0.0', 'paid_fee': '0.0', 'locked': '124.12177985', 'executed_volume': '0.0', 'trades_count': 0}\n",
      "['KRW-POLY', 451.0, 427.0, -5.322]\n",
      "[{'currency': 'KRW', 'balance': '476608.60687431', 'locked': '0.0', 'avg_buy_price': '0', 'avg_buy_price_modified': True, 'unit_currency': 'KRW'}, {'currency': 'CHZ', 'balance': '0.0', 'locked': '331.15045707', 'avg_buy_price': '571.95', 'avg_buy_price_modified': False, 'unit_currency': 'KRW'}, {'currency': 'POLY', 'balance': '0.0', 'locked': '772.75762032', 'avg_buy_price': '427.82', 'avg_buy_price_modified': False, 'unit_currency': 'KRW'}]\n",
      "476608.60687431\n",
      "47700.0\n",
      "{'uuid': '5a849937-e867-4475-8a8b-4709e333a549', 'side': 'bid', 'ord_type': 'price', 'price': '47700.0', 'state': 'wait', 'market': 'KRW-POLY', 'created_at': '2021-05-16T16:54:54+09:00', 'volume': None, 'remaining_volume': None, 'reserved_fee': '23.85', 'remaining_fee': '23.85', 'paid_fee': '0.0', 'locked': '47723.85', 'executed_volume': '0.0', 'trades_count': 0}\n",
      "[{'currency': 'KRW', 'balance': '428884.75687582', 'locked': '0.0', 'avg_buy_price': '0', 'avg_buy_price_modified': True, 'unit_currency': 'KRW'}, {'currency': 'CHZ', 'balance': '0.0', 'locked': '331.15045707', 'avg_buy_price': '571.95', 'avg_buy_price_modified': False, 'unit_currency': 'KRW'}, {'currency': 'POLY', 'balance': '111.70960187', 'locked': '772.75762032', 'avg_buy_price': '427.72', 'avg_buy_price_modified': False, 'unit_currency': 'KRW'}]\n",
      "{'uuid': 'd9179844-aa70-4b3a-b202-ac0e908183ad', 'side': 'ask', 'ord_type': 'limit', 'price': '436.0', 'state': 'wait', 'market': 'KRW-POLY', 'created_at': '2021-05-16T16:54:57+09:00', 'volume': '111.70960187', 'remaining_volume': '111.70960187', 'reserved_fee': '0.0', 'remaining_fee': '0.0', 'paid_fee': '0.0', 'locked': '111.70960187', 'executed_volume': '0.0', 'trades_count': 0}\n",
      "['KRW-POLY', 451.0, 429.0, -4.878]\n",
      "[{'currency': 'KRW', 'balance': '428884.75687582', 'locked': '0.0', 'avg_buy_price': '0', 'avg_buy_price_modified': True, 'unit_currency': 'KRW'}, {'currency': 'CHZ', 'balance': '0.0', 'locked': '331.15045707', 'avg_buy_price': '571.95', 'avg_buy_price_modified': False, 'unit_currency': 'KRW'}, {'currency': 'POLY', 'balance': '0.0', 'locked': '884.46722219', 'avg_buy_price': '427.72', 'avg_buy_price_modified': False, 'unit_currency': 'KRW'}]\n",
      "428884.75687582\n",
      "42900.0\n",
      "{'uuid': '81628a78-a216-4f05-8558-39791ebeb9bc', 'side': 'bid', 'ord_type': 'price', 'price': '42900.0', 'state': 'wait', 'market': 'KRW-POLY', 'created_at': '2021-05-16T17:07:28+09:00', 'volume': None, 'remaining_volume': None, 'reserved_fee': '21.45', 'remaining_fee': '21.45', 'paid_fee': '0.0', 'locked': '42921.45', 'executed_volume': '0.0', 'trades_count': 0}\n",
      "[{'currency': 'KRW', 'balance': '385963.30687582', 'locked': '0.0', 'avg_buy_price': '0', 'avg_buy_price_modified': True, 'unit_currency': 'KRW'}, {'currency': 'CHZ', 'balance': '0.0', 'locked': '331.15045707', 'avg_buy_price': '571.95', 'avg_buy_price_modified': False, 'unit_currency': 'KRW'}, {'currency': 'POLY', 'balance': '100.0', 'locked': '884.46722219', 'avg_buy_price': '427.85', 'avg_buy_price_modified': False, 'unit_currency': 'KRW'}]\n",
      "{'uuid': 'c47f11ca-fb02-4ff6-b762-6bc470932110', 'side': 'ask', 'ord_type': 'limit', 'price': '438.0', 'state': 'wait', 'market': 'KRW-POLY', 'created_at': '2021-05-16T17:07:32+09:00', 'volume': '100.0', 'remaining_volume': '100.0', 'reserved_fee': '0.0', 'remaining_fee': '0.0', 'paid_fee': '0.0', 'locked': '100.0', 'executed_volume': '0.0', 'trades_count': 0}\n",
      "['KRW-POLY', 451.0, 429.0, -4.878]\n",
      "[{'currency': 'KRW', 'balance': '385963.30687582', 'locked': '0.0', 'avg_buy_price': '0', 'avg_buy_price_modified': True, 'unit_currency': 'KRW'}, {'currency': 'CHZ', 'balance': '0.0', 'locked': '331.15045707', 'avg_buy_price': '571.95', 'avg_buy_price_modified': False, 'unit_currency': 'KRW'}, {'currency': 'POLY', 'balance': '0.0', 'locked': '984.46722219', 'avg_buy_price': '427.85', 'avg_buy_price_modified': False, 'unit_currency': 'KRW'}]\n",
      "385963.30687582\n",
      "38600.0\n",
      "{'uuid': '5a95ab32-8593-4ce6-9833-fdd7d74c002d', 'side': 'bid', 'ord_type': 'price', 'price': '38600.0', 'state': 'wait', 'market': 'KRW-POLY', 'created_at': '2021-05-16T17:10:49+09:00', 'volume': None, 'remaining_volume': None, 'reserved_fee': '19.3', 'remaining_fee': '19.3', 'paid_fee': '0.0', 'locked': '38619.3', 'executed_volume': '0.0', 'trades_count': 0}\n",
      "[{'currency': 'KRW', 'balance': '347344.00687918', 'locked': '0.0', 'avg_buy_price': '0', 'avg_buy_price_modified': True, 'unit_currency': 'KRW'}, {'currency': 'CHZ', 'balance': '0.0', 'locked': '331.15045707', 'avg_buy_price': '571.95', 'avg_buy_price_modified': False, 'unit_currency': 'KRW'}, {'currency': 'POLY', 'balance': '90.18691588', 'locked': '984.46722219', 'avg_buy_price': '427.86', 'avg_buy_price_modified': False, 'unit_currency': 'KRW'}]\n",
      "{'uuid': '3ed3a141-1ffa-4e24-a20b-5127a620b303', 'side': 'ask', 'ord_type': 'limit', 'price': '437.0', 'state': 'wait', 'market': 'KRW-POLY', 'created_at': '2021-05-16T17:10:53+09:00', 'volume': '90.18691588', 'remaining_volume': '90.18691588', 'reserved_fee': '0.0', 'remaining_fee': '0.0', 'paid_fee': '0.0', 'locked': '90.18691588', 'executed_volume': '0.0', 'trades_count': 0}\n",
      "['KRW-POLY', 451.0, 429.0, -4.878]\n",
      "[{'currency': 'KRW', 'balance': '347344.00687918', 'locked': '0.0', 'avg_buy_price': '0', 'avg_buy_price_modified': True, 'unit_currency': 'KRW'}, {'currency': 'CHZ', 'balance': '0.0', 'locked': '331.15045707', 'avg_buy_price': '571.95', 'avg_buy_price_modified': False, 'unit_currency': 'KRW'}, {'currency': 'POLY', 'balance': '0.0', 'locked': '1074.65413807', 'avg_buy_price': '427.86', 'avg_buy_price_modified': False, 'unit_currency': 'KRW'}]\n",
      "347344.00687918\n",
      "34700.0\n",
      "{'uuid': '0cbf7f85-144c-4808-b065-6997a8171ece', 'side': 'bid', 'ord_type': 'price', 'price': '34700.0', 'state': 'wait', 'market': 'KRW-POLY', 'created_at': '2021-05-16T17:14:08+09:00', 'volume': None, 'remaining_volume': None, 'reserved_fee': '17.35', 'remaining_fee': '17.35', 'paid_fee': '0.0', 'locked': '34717.35', 'executed_volume': '0.0', 'trades_count': 0}\n"
     ]
    },
    {
     "name": "stdout",
     "output_type": "stream",
     "text": [
      "[{'currency': 'KRW', 'balance': '312626.65688139', 'locked': '0.0', 'avg_buy_price': '0', 'avg_buy_price_modified': True, 'unit_currency': 'KRW'}, {'currency': 'CHZ', 'balance': '0.0', 'locked': '331.15045707', 'avg_buy_price': '571.95', 'avg_buy_price_modified': False, 'unit_currency': 'KRW'}, {'currency': 'POLY', 'balance': '81.07476635', 'locked': '1074.65413807', 'avg_buy_price': '427.87', 'avg_buy_price_modified': False, 'unit_currency': 'KRW'}]\n",
      "{'uuid': 'e0d217c4-32bf-4fc8-ae7e-3059118579eb', 'side': 'ask', 'ord_type': 'limit', 'price': '437.0', 'state': 'wait', 'market': 'KRW-POLY', 'created_at': '2021-05-16T17:14:12+09:00', 'volume': '81.07476635', 'remaining_volume': '81.07476635', 'reserved_fee': '0.0', 'remaining_fee': '0.0', 'paid_fee': '0.0', 'locked': '81.07476635', 'executed_volume': '0.0', 'trades_count': 0}\n",
      "['KRW-POLY', 451.0, 428.0, -5.1]\n",
      "[{'currency': 'KRW', 'balance': '312626.65688139', 'locked': '0.0', 'avg_buy_price': '0', 'avg_buy_price_modified': True, 'unit_currency': 'KRW'}, {'currency': 'CHZ', 'balance': '0.0', 'locked': '331.15045707', 'avg_buy_price': '571.95', 'avg_buy_price_modified': False, 'unit_currency': 'KRW'}, {'currency': 'POLY', 'balance': '0.0', 'locked': '1155.72890442', 'avg_buy_price': '427.87', 'avg_buy_price_modified': False, 'unit_currency': 'KRW'}]\n",
      "312626.65688139\n",
      "31300.0\n",
      "{'uuid': '9c65cdc5-c372-4839-b095-80ef275a7170', 'side': 'bid', 'ord_type': 'price', 'price': '31300.0', 'state': 'wait', 'market': 'KRW-POLY', 'created_at': '2021-05-16T17:17:25+09:00', 'volume': None, 'remaining_volume': None, 'reserved_fee': '15.65', 'remaining_fee': '15.65', 'paid_fee': '0.0', 'locked': '31315.65', 'executed_volume': '0.0', 'trades_count': 0}\n",
      "[{'currency': 'KRW', 'balance': '281311.00688203', 'locked': '0.0', 'avg_buy_price': '0', 'avg_buy_price_modified': True, 'unit_currency': 'KRW'}, {'currency': 'CHZ', 'balance': '0.0', 'locked': '331.15045707', 'avg_buy_price': '571.95', 'avg_buy_price_modified': False, 'unit_currency': 'KRW'}, {'currency': 'POLY', 'balance': '73.13084112', 'locked': '1155.72890442', 'avg_buy_price': '427.88', 'avg_buy_price_modified': False, 'unit_currency': 'KRW'}]\n",
      "{'uuid': '7298dee3-7202-4fe2-9152-96276d83891b', 'side': 'ask', 'ord_type': 'limit', 'price': '437.0', 'state': 'wait', 'market': 'KRW-POLY', 'created_at': '2021-05-16T17:17:29+09:00', 'volume': '73.13084112', 'remaining_volume': '73.13084112', 'reserved_fee': '0.0', 'remaining_fee': '0.0', 'paid_fee': '0.0', 'locked': '73.13084112', 'executed_volume': '0.0', 'trades_count': 0}\n",
      "['KRW-POLY', 451.0, 428.0, -5.1]\n",
      "[{'currency': 'KRW', 'balance': '281311.00688203', 'locked': '0.0', 'avg_buy_price': '0', 'avg_buy_price_modified': True, 'unit_currency': 'KRW'}, {'currency': 'CHZ', 'balance': '0.0', 'locked': '331.15045707', 'avg_buy_price': '571.95', 'avg_buy_price_modified': False, 'unit_currency': 'KRW'}, {'currency': 'POLY', 'balance': '0.0', 'locked': '1228.85974554', 'avg_buy_price': '427.88', 'avg_buy_price_modified': False, 'unit_currency': 'KRW'}]\n",
      "281311.00688203\n",
      "28100.0\n",
      "{'uuid': 'e397591b-a7b1-4d76-84a1-6c537483b96b', 'side': 'bid', 'ord_type': 'price', 'price': '28100.0', 'state': 'wait', 'market': 'KRW-POLY', 'created_at': '2021-05-16T17:32:51+09:00', 'volume': None, 'remaining_volume': None, 'reserved_fee': '14.05', 'remaining_fee': '14.05', 'paid_fee': '0.0', 'locked': '28114.05', 'executed_volume': '0.0', 'trades_count': 0}\n",
      "[{'currency': 'KRW', 'balance': '253196.95688523', 'locked': '0.0', 'avg_buy_price': '0', 'avg_buy_price_modified': True, 'unit_currency': 'KRW'}, {'currency': 'CHZ', 'balance': '0.0', 'locked': '331.15045707', 'avg_buy_price': '571.95', 'avg_buy_price_modified': False, 'unit_currency': 'KRW'}, {'currency': 'POLY', 'balance': '65.6542056', 'locked': '1228.85974554', 'avg_buy_price': '427.88', 'avg_buy_price_modified': False, 'unit_currency': 'KRW'}]\n",
      "{'uuid': '2fb80d5e-80a0-40a7-af9f-806cda018287', 'side': 'ask', 'ord_type': 'limit', 'price': '437.0', 'state': 'wait', 'market': 'KRW-POLY', 'created_at': '2021-05-16T17:32:54+09:00', 'volume': '65.6542056', 'remaining_volume': '65.6542056', 'reserved_fee': '0.0', 'remaining_fee': '0.0', 'paid_fee': '0.0', 'locked': '65.6542056', 'executed_volume': '0.0', 'trades_count': 0}\n",
      "['KRW-POLY', 451.0, 428.0, -5.1]\n",
      "[{'currency': 'KRW', 'balance': '253196.95688523', 'locked': '0.0', 'avg_buy_price': '0', 'avg_buy_price_modified': True, 'unit_currency': 'KRW'}, {'currency': 'CHZ', 'balance': '0.0', 'locked': '331.15045707', 'avg_buy_price': '571.95', 'avg_buy_price_modified': False, 'unit_currency': 'KRW'}, {'currency': 'POLY', 'balance': '0.0', 'locked': '1294.51395114', 'avg_buy_price': '427.88', 'avg_buy_price_modified': False, 'unit_currency': 'KRW'}]\n",
      "253196.95688523\n",
      "25300.0\n",
      "{'uuid': 'abf4188f-5c70-458b-bf33-2c1212644d81', 'side': 'bid', 'ord_type': 'price', 'price': '25300.0', 'state': 'wait', 'market': 'KRW-POLY', 'created_at': '2021-05-16T17:36:10+09:00', 'volume': None, 'remaining_volume': None, 'reserved_fee': '12.65', 'remaining_fee': '12.65', 'paid_fee': '0.0', 'locked': '25312.65', 'executed_volume': '0.0', 'trades_count': 0}\n",
      "[{'currency': 'KRW', 'balance': '227884.30688639', 'locked': '0.0', 'avg_buy_price': '0', 'avg_buy_price_modified': True, 'unit_currency': 'KRW'}, {'currency': 'CHZ', 'balance': '0.0', 'locked': '331.15045707', 'avg_buy_price': '571.95', 'avg_buy_price_modified': False, 'unit_currency': 'KRW'}, {'currency': 'POLY', 'balance': '59.11214953', 'locked': '1294.51395114', 'avg_buy_price': '427.89', 'avg_buy_price_modified': False, 'unit_currency': 'KRW'}]\n",
      "{'uuid': '8c6167bf-7dc8-409e-b488-70c802dfe87d', 'side': 'ask', 'ord_type': 'limit', 'price': '437.0', 'state': 'wait', 'market': 'KRW-POLY', 'created_at': '2021-05-16T17:36:13+09:00', 'volume': '59.11214953', 'remaining_volume': '59.11214953', 'reserved_fee': '0.0', 'remaining_fee': '0.0', 'paid_fee': '0.0', 'locked': '59.11214953', 'executed_volume': '0.0', 'trades_count': 0}\n",
      "['KRW-POLY', 451.0, 428.0, -5.1]\n",
      "[{'currency': 'KRW', 'balance': '227884.30688639', 'locked': '0.0', 'avg_buy_price': '0', 'avg_buy_price_modified': True, 'unit_currency': 'KRW'}, {'currency': 'CHZ', 'balance': '0.0', 'locked': '331.15045707', 'avg_buy_price': '571.95', 'avg_buy_price_modified': False, 'unit_currency': 'KRW'}, {'currency': 'POLY', 'balance': '0.0', 'locked': '1353.62610067', 'avg_buy_price': '427.89', 'avg_buy_price_modified': False, 'unit_currency': 'KRW'}]\n",
      "227884.30688639\n",
      "22800.0\n",
      "{'uuid': 'fbdf888b-5464-4e27-897a-5b9cf940c1c6', 'side': 'bid', 'ord_type': 'price', 'price': '22800.0', 'state': 'wait', 'market': 'KRW-POLY', 'created_at': '2021-05-16T17:42:47+09:00', 'volume': None, 'remaining_volume': None, 'reserved_fee': '11.4', 'remaining_fee': '11.4', 'paid_fee': '0.0', 'locked': '22811.4', 'executed_volume': '0.0', 'trades_count': 0}\n",
      "[{'currency': 'KRW', 'balance': '205072.90688809', 'locked': '0.0', 'avg_buy_price': '0', 'avg_buy_price_modified': True, 'unit_currency': 'KRW'}, {'currency': 'CHZ', 'balance': '0.0', 'locked': '331.15045707', 'avg_buy_price': '571.95', 'avg_buy_price_modified': False, 'unit_currency': 'KRW'}, {'currency': 'POLY', 'balance': '53.02325581', 'locked': '1353.62610067', 'avg_buy_price': '427.97', 'avg_buy_price_modified': False, 'unit_currency': 'KRW'}]\n",
      "{'uuid': '35e5f914-e068-4030-9734-29a09c724ed0', 'side': 'ask', 'ord_type': 'limit', 'price': '439.0', 'state': 'wait', 'market': 'KRW-POLY', 'created_at': '2021-05-16T17:42:50+09:00', 'volume': '53.02325581', 'remaining_volume': '53.02325581', 'reserved_fee': '0.0', 'remaining_fee': '0.0', 'paid_fee': '0.0', 'locked': '53.02325581', 'executed_volume': '0.0', 'trades_count': 0}\n"
     ]
    }
   ],
   "source": [
    "def price_trim(price_trim):\n",
    "    \n",
    "    #~10원 미만[소수점 둘째자리]\n",
    "    if price_trim<10:\n",
    "        price_trim = round(price_trim,2)\n",
    "    \n",
    "    #10~100원 미만 - [소수점첫째자리]\n",
    "    elif price_trim<100:\n",
    "        price_trim = round(price_trim,1)\n",
    "    \n",
    "    #100~1,000원 미만 - [1원단위]\n",
    "    elif price_trim<1000:\n",
    "        price_trim = round(price_trim)\n",
    "   \n",
    "    #1,000~10,000원 미만[5원단위]\n",
    "    elif price_trim<10000:\n",
    "        price_trim = round(price_trim*2,-1)/2\n",
    "   \n",
    "    #10,000~100,000원 미만[10원단위]\n",
    "    elif price_trim<100000:\n",
    "        price_trim = round(price_trim,-1)\n",
    "    \n",
    "    #100,000~500,000원 미만 [50원단위]    \n",
    "    elif price_trim<500000:\n",
    "        price_trim = round(price_trim*2,-2)/2\n",
    "    \n",
    "    #500,000원~1,000,000원 미만[100원단위]        \n",
    "    elif price_trim<1000000:\n",
    "        price_trim = round(price_trim,-2)\n",
    "    \n",
    "    #1,000,000~2,000,000 [500원단위]\n",
    "    elif price_trim<2000000:\n",
    "        price_trim = round(price_trim*2,-3)/2\n",
    "    \n",
    "    #2,000,000 이상 [1000원단위]\n",
    "    else:\n",
    "        price_trim = round(price_trim,-3)\n",
    "    \n",
    "    return price_trim\n",
    "\n",
    "\n",
    "import time \n",
    "while True:\n",
    "    \n",
    "    try:\n",
    "            #1분봉으로 200분 안에 제일 하락을 많이 한 코인을 찾기\n",
    "        # coin_history(\"KRW-BTC\",\"minutes\",30)\n",
    "        tickers = coins(\"KRW\")\n",
    "        decrease_top_score =0.001\n",
    "        # ticker = \"KRW-BTC\"\n",
    "        for ticker in tickers:\n",
    "            coin_1_m = coin_history(ticker,'minutes',1)\n",
    "#             print(coin_1_m)\n",
    "\n",
    "            max_high_price = coin_1_m[\"high_price\"].max()\n",
    "            now_price = coin_price(ticker)\n",
    "        #     print(ticker)\n",
    "        #     print(max_high_price)\n",
    "        #     print(now_price)\n",
    "        #     print(\"하락률 : \" + str(round(((1-(now_price/max_high_price))*100),3)) + \"%\")\n",
    "            decrease_percent = round(((1-(now_price/max_high_price))*100),3)\n",
    "            if decrease_percent > decrease_top_score :\n",
    "                decrease_top_score = decrease_percent\n",
    "                decrease_top_score_ticker = [ticker,max_high_price,now_price,(-1)*decrease_percent]\n",
    "\n",
    "\n",
    "        print(decrease_top_score_ticker)\n",
    "\n",
    "        for a in balance():\n",
    "            if a['currency'] == 'KRW':\n",
    "                print(a['balance'])\n",
    "                buy_amount = float(a['balance'])*0.10\n",
    "                print(round(buy_amount,-2))\n",
    "                buy_amount = round(buy_amount,-2)\n",
    "\n",
    "        #해당 코인을 시장가에 구매\n",
    "        # buy_market()\n",
    "        buy_market(decrease_top_score_ticker[0],buy_amount)\n",
    "        time.sleep(3)\n",
    "\n",
    "        #구매한 코인이 2% 상승했을 때 판매\n",
    "        #판매해야하는 가격 \n",
    "        sell_price = price_trim(coin_price(decrease_top_score_ticker[0])*1.02)\n",
    "        #가지고있는 코인갯수\n",
    "        for a in balance():\n",
    "            if a['currency'] == decrease_top_score_ticker[0].replace(\"KRW-\",\"\"):\n",
    "                sell_balance = a['balance']\n",
    "        #지정가에 판매\n",
    "        sell_limit(decrease_top_score_ticker[0],sell_balance,sell_price)\n",
    "\n",
    "        time.sleep(180)\n",
    "    except:\n",
    "        time.sleep(180)\n",
    "    #30분단위로 반복    "
   ]
  },
  {
   "cell_type": "code",
   "execution_count": null,
   "metadata": {},
   "outputs": [],
   "source": [
    "# 모든 함수를 한번에 실행"
   ]
  }
 ],
 "metadata": {
  "kernelspec": {
   "display_name": "Python 3",
   "language": "python",
   "name": "python3"
  },
  "language_info": {
   "codemirror_mode": {
    "name": "ipython",
    "version": 3
   },
   "file_extension": ".py",
   "mimetype": "text/x-python",
   "name": "python",
   "nbconvert_exporter": "python",
   "pygments_lexer": "ipython3",
   "version": "3.8.3"
  }
 },
 "nbformat": 4,
 "nbformat_minor": 4
}
