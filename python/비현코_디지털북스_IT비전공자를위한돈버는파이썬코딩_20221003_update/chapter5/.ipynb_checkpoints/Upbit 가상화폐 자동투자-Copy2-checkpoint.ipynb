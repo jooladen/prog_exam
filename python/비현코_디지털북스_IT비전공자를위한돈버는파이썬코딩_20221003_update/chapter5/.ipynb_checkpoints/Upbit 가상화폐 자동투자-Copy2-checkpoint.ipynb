{
 "cells": [
  {
   "cell_type": "markdown",
   "metadata": {},
   "source": [
    "# 상황설정\n",
    "- 2021.5.11 강의 노트 업데이트\n",
    "- 암호화페열풍의 중심 Upbit 의 Open API를 통해 자동투자의 기본을 배우고, 설정한 가설에 의한 자동 투자푸로그램을 제작\n",
    "\n",
    "### 프로그램의 목적:\n",
    "- 암호화폐 거래의 특징은 24시간 지속된다는 것에 있습니다.\n",
    "- 매시간 매분 가격을 체크하고 투자를 하고 있다면, 일상생활에 지장을 줄 정도로 피곤해지는게 암호화폐 투자의 단점입니다.\n",
    "- 단순한 코인별 가격조회, 지정가 매수, 시장가 매수 , 지정가 매도, 시장가 매도 등 기본을 배웁니다.\n",
    "- 이후 가설을 하나 세워 자동투자를 진행합니다.\n",
    "\n",
    "### 쿠팡파트너스 API 활용방법 순서\n",
    "1. 업비트 API를 발급받는다.\n",
    "2. 암호화폐 시세/과거거래기록\n",
    "3. 암호화폐 내 잔고의 잔액조회\n",
    "4. 암호화폐 매수/매도\n",
    "4. 투자아이디어 설정\n",
    "5. 투자 아이디어 프로그램 제작\n",
    "\n",
    "\n",
    "* 투자관련경고 - 해당 프로그램은 학습을 위해 만든 하나의 '가설' 입니다. 해당 시스템으로 투자를 했을 경우 피해/손실이 발생할 수 있습니다.\n",
    "\n",
    "# 모든 투자는 개인의 책임하에 진행해야 합니다.\n",
    "\n",
    "* 주의 - 모든 코딩과정을 이해하고 따라오기에는 매우 오랜 시간이 걸립니다.\n",
    "그런 오랜 시간을 견디지 못하고 많은 비전공자분들이 코딩의 문턱을 넘지 못합니다.\n",
    "각자의 학습스타일에 따라 다르겠지만,\n",
    "이해하기보다는 \"아~ 이렇게 쓰는구나!\" 라고 생각하고 학습에 임해주세요.\n",
    "마치, 우리가 엑셀의 vlookup,if등의 함수를 쓸 때,\n",
    "하나하나 제작된 원리를 이해해서 하기보다는 자주 쓰다보니 외어지는 것 처럼 말이죠!\n",
    "\n",
    "(제가 경험했던 가장 큰 실수는 모든 것을 이해하고 다음으로 넘어가려했기 때문입니다. 일단 기능에만 충실해주세요)\n",
    "\n",
    "(그리고 그러다보면 어느순간 내가 만들고 싶은 프로그램을 만들고 계실 것입니다.)"
   ]
  },
  {
   "cell_type": "code",
   "execution_count": null,
   "metadata": {},
   "outputs": [],
   "source": []
  },
  {
   "cell_type": "markdown",
   "metadata": {},
   "source": [
    "\n",
    "### 1. 업비트 API 발급받기"
   ]
  },
  {
   "cell_type": "code",
   "execution_count": 1,
   "metadata": {},
   "outputs": [],
   "source": [
    "#업비트 가입 및 접속  www.upbit.com\n",
    "# (로그인상태에서)가입 후 4단계 보안인증 진행 https://upbit.com/mypage/security_certificate\n",
    "# (로그인상태에서)OPEN API 발급방법  https://upbit.com/mypage/open_api_management"
   ]
  },
  {
   "cell_type": "markdown",
   "metadata": {},
   "source": [
    "\n",
    "### 2. 암호화폐 시세/과거거래기록"
   ]
  },
  {
   "cell_type": "code",
   "execution_count": 2,
   "metadata": {},
   "outputs": [
    {
     "name": "stdout",
     "output_type": "stream",
     "text": [
      "{'KRW': ['KRW-BTC', 'KRW-ETH', 'KRW-NEO', 'KRW-MTL', 'KRW-LTC', 'KRW-XRP', 'KRW-ETC', 'KRW-OMG', 'KRW-SNT', 'KRW-WAVES', 'KRW-XEM', 'KRW-QTUM', 'KRW-LSK', 'KRW-STEEM', 'KRW-XLM', 'KRW-ARDR', 'KRW-KMD', 'KRW-ARK', 'KRW-STORJ', 'KRW-GRS', 'KRW-REP', 'KRW-EMC2', 'KRW-ADA', 'KRW-SBD', 'KRW-POWR', 'KRW-BTG', 'KRW-ICX', 'KRW-EOS', 'KRW-TRX', 'KRW-SC', 'KRW-IGNIS', 'KRW-ONT', 'KRW-ZIL', 'KRW-POLY', 'KRW-ZRX', 'KRW-LOOM', 'KRW-BCH', 'KRW-ADX', 'KRW-BAT', 'KRW-IOST', 'KRW-DMT', 'KRW-RFR', 'KRW-CVC', 'KRW-IQ', 'KRW-IOTA', 'KRW-MFT', 'KRW-ONG', 'KRW-GAS', 'KRW-UPP', 'KRW-ELF', 'KRW-KNC', 'KRW-BSV', 'KRW-THETA', 'KRW-EDR', 'KRW-QKC', 'KRW-BTT', 'KRW-MOC', 'KRW-ENJ', 'KRW-TFUEL', 'KRW-MANA', 'KRW-ANKR', 'KRW-AERGO', 'KRW-ATOM', 'KRW-TT', 'KRW-CRE', 'KRW-SOLVE', 'KRW-MBL', 'KRW-TSHP', 'KRW-WAXP', 'KRW-HBAR', 'KRW-MED', 'KRW-MLK', 'KRW-STPT', 'KRW-ORBS', 'KRW-VET', 'KRW-CHZ', 'KRW-PXL', 'KRW-STMX', 'KRW-DKA', 'KRW-HIVE', 'KRW-KAVA', 'KRW-AHT', 'KRW-LINK', 'KRW-XTZ', 'KRW-BORA', 'KRW-JST', 'KRW-CRO', 'KRW-TON', 'KRW-SXP', 'KRW-LAMB', 'KRW-HUNT', 'KRW-MARO', 'KRW-PLA', 'KRW-DOT', 'KRW-SRM', 'KRW-MVL', 'KRW-PCI', 'KRW-STRAX', 'KRW-AQT', 'KRW-BCHA', 'KRW-GLM', 'KRW-QTCON', 'KRW-SSX', 'KRW-META', 'KRW-OBSR', 'KRW-FCT2', 'KRW-LBC', 'KRW-CBK', 'KRW-SAND', 'KRW-HUM', 'KRW-DOGE', 'KRW-STRK', 'KRW-PUNDIX', 'KRW-FLOW', 'KRW-DAWN', 'KRW-AXS', 'KRW-STX'], 'BTC': ['BTC-ETH', 'BTC-LTC', 'BTC-XRP', 'BTC-ETC', 'BTC-OMG', 'BTC-CVC', 'BTC-DGB', 'BTC-SC', 'BTC-SNT', 'BTC-WAVES', 'BTC-NMR', 'BTC-XEM', 'BTC-LBC', 'BTC-QTUM', 'BTC-NXT', 'BTC-BAT', 'BTC-LSK', 'BTC-RDD', 'BTC-STEEM', 'BTC-DOGE', 'BTC-BNT', 'BTC-XLM', 'BTC-ARDR', 'BTC-KMD', 'BTC-ARK', 'BTC-ADX', 'BTC-SYS', 'BTC-ANT', 'BTC-STORJ', 'BTC-GRS', 'BTC-REP', 'BTC-RLC', 'BTC-EMC2', 'BTC-ADA', 'BTC-MANA', 'BTC-SBD', 'BTC-RCN', 'BTC-POWR', 'BTC-DNT', 'BTC-IGNIS', 'BTC-ZRX', 'BTC-TRX', 'BTC-TUSD', 'BTC-LRC', 'BTC-DMT', 'BTC-POLY', 'BTC-PRO', 'BTC-BCH', 'BTC-MFT', 'BTC-LOOM', 'BTC-RFR', 'BTC-RVN', 'BTC-BFT', 'BTC-GO', 'BTC-UPP', 'BTC-ENJ', 'BTC-EDR', 'BTC-MTL', 'BTC-PAX', 'BTC-MOC', 'BTC-ZIL', 'BTC-BSV', 'BTC-IOST', 'BTC-NCASH', 'BTC-DENT', 'BTC-ELF', 'BTC-BTT', 'BTC-VITE', 'BTC-IOTX', 'BTC-SOLVE', 'BTC-NKN', 'BTC-META', 'BTC-ANKR', 'BTC-CRO', 'BTC-FSN', 'BTC-ORBS', 'BTC-AERGO', 'BTC-PI', 'BTC-ATOM', 'BTC-STPT', 'BTC-LAMB', 'BTC-EOS', 'BTC-LUNA', 'BTC-DAI', 'BTC-MKR', 'BTC-BORA', 'BTC-TSHP', 'BTC-WAXP', 'BTC-MED', 'BTC-MLK', 'BTC-PXL', 'BTC-VET', 'BTC-CHZ', 'BTC-FX', 'BTC-OGN', 'BTC-ITAM', 'BTC-XTZ', 'BTC-HIVE', 'BTC-HBD', 'BTC-OBSR', 'BTC-DKA', 'BTC-STMX', 'BTC-AHT', 'BTC-PCI', 'BTC-RINGX', 'BTC-LINK', 'BTC-KAVA', 'BTC-JST', 'BTC-CHR', 'BTC-DAD', 'BTC-TON', 'BTC-CTSI', 'BTC-DOT', 'BTC-COMP', 'BTC-SXP', 'BTC-HUNT', 'BTC-ONIT', 'BTC-CRV', 'BTC-ALGO', 'BTC-RSR', 'BTC-OXT', 'BTC-PLA', 'BTC-MARO', 'BTC-SAND', 'BTC-SUN', 'BTC-SRM', 'BTC-QTCON', 'BTC-MVL', 'BTC-GXC', 'BTC-AQT', 'BTC-AXS', 'BTC-STRAX', 'BTC-BCHA', 'BTC-GLM', 'BTC-FCT2', 'BTC-SSX', 'BTC-FIL', 'BTC-UNI', 'BTC-BASIC', 'BTC-INJ', 'BTC-PROM', 'BTC-VAL', 'BTC-PSG', 'BTC-JUV', 'BTC-CBK', 'BTC-FOR', 'BTC-BFC', 'BTC-LINA', 'BTC-HUM', 'BTC-PICA', 'BTC-CELO', 'BTC-IQ', 'BTC-STX', 'BTC-NEAR', 'BTC-AUCTION', 'BTC-DAWN', 'BTC-FLOW', 'BTC-STRK', 'BTC-PUNDIX', 'BTC-GRT', 'BTC-SNX'], 'USDT': ['USDT-BTC', 'USDT-ETH', 'USDT-LTC', 'USDT-XRP', 'USDT-ETC', 'USDT-OMG', 'USDT-ADA', 'USDT-TUSD', 'USDT-SC', 'USDT-TRX', 'USDT-BCH', 'USDT-DGB', 'USDT-DOGE', 'USDT-ZRX', 'USDT-RVN', 'USDT-BAT']}\n"
     ]
    }
   ],
   "source": [
    "#거래소 구조 설명 https://docs.upbit.com/docs\n",
    "\n",
    "# - 원화거래 / BTC 거래 / USDT 거래\n",
    "#암호화폐 종류체크 및 종류 입력_방법은 알려드리지만, 그냥 활용하세요.\n",
    "\n",
    "#1.업비트의 코인 종류 체크\n",
    "\n",
    "import requests\n",
    "import json\n",
    "url = \"https://api.upbit.com/v1/market/all\"\n",
    "querystring = {\"isDetails\":\"true\"}\n",
    "response = requests.request(\"GET\", url, params=querystring)\n",
    "response_json = json.loads(response.text)\n",
    "\n",
    "KRWticker = []\n",
    "BTCticker = []\n",
    "USDTticker = []\n",
    "\n",
    "for a in response_json:\n",
    "#     print(a['market'])\n",
    "    if \"KRW-\" in a['market']:\n",
    "        KRWticker.append(a['market'])\n",
    "    elif \"BTC-\" in a['market']:\n",
    "        BTCticker.append(a['market'])\n",
    "    elif \"USDT-\" in a['market']:\n",
    "        USDTticker.append(a['market'])    \n",
    "ticker = {\n",
    "    \"KRW\":KRWticker,\n",
    "    \"BTC\":BTCticker,\n",
    "    \"USDT\":USDTticker\n",
    "}\n",
    "print(ticker)"
   ]
  },
  {
   "cell_type": "code",
   "execution_count": null,
   "metadata": {},
   "outputs": [],
   "source": []
  },
  {
   "cell_type": "code",
   "execution_count": 3,
   "metadata": {},
   "outputs": [
    {
     "name": "stdout",
     "output_type": "stream",
     "text": [
      "61733000.0\n",
      "61733000.0\n",
      "61735000.0\n",
      "61735000.0\n",
      "61730000.0\n",
      "61702000.0\n",
      "61702000.0\n",
      "61702000.0\n",
      "61730000.0\n",
      "61730000.0\n"
     ]
    }
   ],
   "source": [
    "#암호화폐 시세조회\n",
    "import requests\n",
    "import time\n",
    "\n",
    "url = \"https://api.upbit.com/v1/orderbook\"\n",
    "querystring = {\"markets\":\"KRW-BTC\"}\n",
    "\n",
    "for abc in range(10):\n",
    "    response = requests.request(\"GET\", url, params=querystring)\n",
    "    response_json = json.loads(response.text)\n",
    "#     print(type(response_json))\n",
    "    print(response_json[0][\"orderbook_units\"][0][\"ask_price\"])\n",
    "    time.sleep(1)"
   ]
  },
  {
   "cell_type": "code",
   "execution_count": 4,
   "metadata": {},
   "outputs": [
    {
     "data": {
      "text/html": [
       "<div>\n",
       "<style scoped>\n",
       "    .dataframe tbody tr th:only-of-type {\n",
       "        vertical-align: middle;\n",
       "    }\n",
       "\n",
       "    .dataframe tbody tr th {\n",
       "        vertical-align: top;\n",
       "    }\n",
       "\n",
       "    .dataframe thead th {\n",
       "        text-align: right;\n",
       "    }\n",
       "</style>\n",
       "<table border=\"1\" class=\"dataframe\">\n",
       "  <thead>\n",
       "    <tr style=\"text-align: right;\">\n",
       "      <th></th>\n",
       "      <th>market</th>\n",
       "      <th>candle_date_time_utc</th>\n",
       "      <th>candle_date_time_kst</th>\n",
       "      <th>opening_price</th>\n",
       "      <th>high_price</th>\n",
       "      <th>low_price</th>\n",
       "      <th>trade_price</th>\n",
       "      <th>timestamp</th>\n",
       "      <th>candle_acc_trade_price</th>\n",
       "      <th>candle_acc_trade_volume</th>\n",
       "      <th>unit</th>\n",
       "    </tr>\n",
       "  </thead>\n",
       "  <tbody>\n",
       "    <tr>\n",
       "      <th>0</th>\n",
       "      <td>KRW-BTC</td>\n",
       "      <td>2021-05-14T05:00:00</td>\n",
       "      <td>2021-05-14T14:00:00</td>\n",
       "      <td>61753000.0</td>\n",
       "      <td>61845000.0</td>\n",
       "      <td>61613000.0</td>\n",
       "      <td>61702000.0</td>\n",
       "      <td>1620969009112</td>\n",
       "      <td>6.226555e+09</td>\n",
       "      <td>100.847280</td>\n",
       "      <td>30</td>\n",
       "    </tr>\n",
       "    <tr>\n",
       "      <th>1</th>\n",
       "      <td>KRW-BTC</td>\n",
       "      <td>2021-05-14T04:30:00</td>\n",
       "      <td>2021-05-14T13:30:00</td>\n",
       "      <td>62016000.0</td>\n",
       "      <td>62250000.0</td>\n",
       "      <td>61590000.0</td>\n",
       "      <td>61753000.0</td>\n",
       "      <td>1620968400141</td>\n",
       "      <td>3.439604e+10</td>\n",
       "      <td>555.665098</td>\n",
       "      <td>30</td>\n",
       "    </tr>\n",
       "    <tr>\n",
       "      <th>2</th>\n",
       "      <td>KRW-BTC</td>\n",
       "      <td>2021-05-14T04:00:00</td>\n",
       "      <td>2021-05-14T13:00:00</td>\n",
       "      <td>62200000.0</td>\n",
       "      <td>62555000.0</td>\n",
       "      <td>62000000.0</td>\n",
       "      <td>62015000.0</td>\n",
       "      <td>1620966599777</td>\n",
       "      <td>3.562773e+10</td>\n",
       "      <td>572.178051</td>\n",
       "      <td>30</td>\n",
       "    </tr>\n",
       "    <tr>\n",
       "      <th>3</th>\n",
       "      <td>KRW-BTC</td>\n",
       "      <td>2021-05-14T03:30:00</td>\n",
       "      <td>2021-05-14T12:30:00</td>\n",
       "      <td>62636000.0</td>\n",
       "      <td>62650000.0</td>\n",
       "      <td>62144000.0</td>\n",
       "      <td>62200000.0</td>\n",
       "      <td>1620964800327</td>\n",
       "      <td>1.667580e+10</td>\n",
       "      <td>267.442596</td>\n",
       "      <td>30</td>\n",
       "    </tr>\n",
       "    <tr>\n",
       "      <th>4</th>\n",
       "      <td>KRW-BTC</td>\n",
       "      <td>2021-05-14T03:00:00</td>\n",
       "      <td>2021-05-14T12:00:00</td>\n",
       "      <td>62546000.0</td>\n",
       "      <td>62670000.0</td>\n",
       "      <td>62408000.0</td>\n",
       "      <td>62634000.0</td>\n",
       "      <td>1620962999481</td>\n",
       "      <td>1.306842e+10</td>\n",
       "      <td>208.959018</td>\n",
       "      <td>30</td>\n",
       "    </tr>\n",
       "    <tr>\n",
       "      <th>...</th>\n",
       "      <td>...</td>\n",
       "      <td>...</td>\n",
       "      <td>...</td>\n",
       "      <td>...</td>\n",
       "      <td>...</td>\n",
       "      <td>...</td>\n",
       "      <td>...</td>\n",
       "      <td>...</td>\n",
       "      <td>...</td>\n",
       "      <td>...</td>\n",
       "      <td>...</td>\n",
       "    </tr>\n",
       "    <tr>\n",
       "      <th>195</th>\n",
       "      <td>KRW-BTC</td>\n",
       "      <td>2021-05-10T03:30:00</td>\n",
       "      <td>2021-05-10T12:30:00</td>\n",
       "      <td>72295000.0</td>\n",
       "      <td>72434000.0</td>\n",
       "      <td>71836000.0</td>\n",
       "      <td>72099000.0</td>\n",
       "      <td>1620619199837</td>\n",
       "      <td>2.017947e+10</td>\n",
       "      <td>279.838133</td>\n",
       "      <td>30</td>\n",
       "    </tr>\n",
       "    <tr>\n",
       "      <th>196</th>\n",
       "      <td>KRW-BTC</td>\n",
       "      <td>2021-05-10T03:00:00</td>\n",
       "      <td>2021-05-10T12:00:00</td>\n",
       "      <td>71986000.0</td>\n",
       "      <td>72440000.0</td>\n",
       "      <td>71965000.0</td>\n",
       "      <td>72295000.0</td>\n",
       "      <td>1620617399774</td>\n",
       "      <td>2.500360e+10</td>\n",
       "      <td>346.178060</td>\n",
       "      <td>30</td>\n",
       "    </tr>\n",
       "    <tr>\n",
       "      <th>197</th>\n",
       "      <td>KRW-BTC</td>\n",
       "      <td>2021-05-10T02:30:00</td>\n",
       "      <td>2021-05-10T11:30:00</td>\n",
       "      <td>71640000.0</td>\n",
       "      <td>72086000.0</td>\n",
       "      <td>71500000.0</td>\n",
       "      <td>71974000.0</td>\n",
       "      <td>1620615600225</td>\n",
       "      <td>1.780264e+10</td>\n",
       "      <td>247.792265</td>\n",
       "      <td>30</td>\n",
       "    </tr>\n",
       "    <tr>\n",
       "      <th>198</th>\n",
       "      <td>KRW-BTC</td>\n",
       "      <td>2021-05-10T02:00:00</td>\n",
       "      <td>2021-05-10T11:00:00</td>\n",
       "      <td>71373000.0</td>\n",
       "      <td>71650000.0</td>\n",
       "      <td>71370000.0</td>\n",
       "      <td>71640000.0</td>\n",
       "      <td>1620613800110</td>\n",
       "      <td>1.117252e+10</td>\n",
       "      <td>156.131615</td>\n",
       "      <td>30</td>\n",
       "    </tr>\n",
       "    <tr>\n",
       "      <th>199</th>\n",
       "      <td>KRW-BTC</td>\n",
       "      <td>2021-05-10T01:30:00</td>\n",
       "      <td>2021-05-10T10:30:00</td>\n",
       "      <td>71458000.0</td>\n",
       "      <td>71793000.0</td>\n",
       "      <td>71301000.0</td>\n",
       "      <td>71373000.0</td>\n",
       "      <td>1620612001295</td>\n",
       "      <td>1.232236e+10</td>\n",
       "      <td>172.305411</td>\n",
       "      <td>30</td>\n",
       "    </tr>\n",
       "  </tbody>\n",
       "</table>\n",
       "<p>200 rows × 11 columns</p>\n",
       "</div>"
      ],
      "text/plain": [
       "      market candle_date_time_utc candle_date_time_kst  opening_price  \\\n",
       "0    KRW-BTC  2021-05-14T05:00:00  2021-05-14T14:00:00     61753000.0   \n",
       "1    KRW-BTC  2021-05-14T04:30:00  2021-05-14T13:30:00     62016000.0   \n",
       "2    KRW-BTC  2021-05-14T04:00:00  2021-05-14T13:00:00     62200000.0   \n",
       "3    KRW-BTC  2021-05-14T03:30:00  2021-05-14T12:30:00     62636000.0   \n",
       "4    KRW-BTC  2021-05-14T03:00:00  2021-05-14T12:00:00     62546000.0   \n",
       "..       ...                  ...                  ...            ...   \n",
       "195  KRW-BTC  2021-05-10T03:30:00  2021-05-10T12:30:00     72295000.0   \n",
       "196  KRW-BTC  2021-05-10T03:00:00  2021-05-10T12:00:00     71986000.0   \n",
       "197  KRW-BTC  2021-05-10T02:30:00  2021-05-10T11:30:00     71640000.0   \n",
       "198  KRW-BTC  2021-05-10T02:00:00  2021-05-10T11:00:00     71373000.0   \n",
       "199  KRW-BTC  2021-05-10T01:30:00  2021-05-10T10:30:00     71458000.0   \n",
       "\n",
       "     high_price   low_price  trade_price      timestamp  \\\n",
       "0    61845000.0  61613000.0   61702000.0  1620969009112   \n",
       "1    62250000.0  61590000.0   61753000.0  1620968400141   \n",
       "2    62555000.0  62000000.0   62015000.0  1620966599777   \n",
       "3    62650000.0  62144000.0   62200000.0  1620964800327   \n",
       "4    62670000.0  62408000.0   62634000.0  1620962999481   \n",
       "..          ...         ...          ...            ...   \n",
       "195  72434000.0  71836000.0   72099000.0  1620619199837   \n",
       "196  72440000.0  71965000.0   72295000.0  1620617399774   \n",
       "197  72086000.0  71500000.0   71974000.0  1620615600225   \n",
       "198  71650000.0  71370000.0   71640000.0  1620613800110   \n",
       "199  71793000.0  71301000.0   71373000.0  1620612001295   \n",
       "\n",
       "     candle_acc_trade_price  candle_acc_trade_volume  unit  \n",
       "0              6.226555e+09               100.847280    30  \n",
       "1              3.439604e+10               555.665098    30  \n",
       "2              3.562773e+10               572.178051    30  \n",
       "3              1.667580e+10               267.442596    30  \n",
       "4              1.306842e+10               208.959018    30  \n",
       "..                      ...                      ...   ...  \n",
       "195            2.017947e+10               279.838133    30  \n",
       "196            2.500360e+10               346.178060    30  \n",
       "197            1.780264e+10               247.792265    30  \n",
       "198            1.117252e+10               156.131615    30  \n",
       "199            1.232236e+10               172.305411    30  \n",
       "\n",
       "[200 rows x 11 columns]"
      ]
     },
     "execution_count": 4,
     "metadata": {},
     "output_type": "execute_result"
    }
   ],
   "source": [
    "#시세 호가 정보(Orderbook) 조회 // 호가 정보 조회\n",
    "\n",
    "import requests\n",
    "import pandas as pd\n",
    "\n",
    "url = \"https://api.upbit.com/v1/candles/minutes/30\"\n",
    "\n",
    "querystring = {\"market\":\"KRW-BTC\",\"count\":\"200\"}\n",
    "\n",
    "response = requests.request(\"GET\", url, params=querystring)\n",
    "response_json = json.loads(response.text)\n",
    "# print(type(response_json))\n",
    "df = pd.DataFrame(response_json)\n",
    "df"
   ]
  },
  {
   "cell_type": "markdown",
   "metadata": {},
   "source": [
    "\n",
    "### 3. 암호화폐 내 잔고의 잔액조회"
   ]
  },
  {
   "cell_type": "code",
   "execution_count": 13,
   "metadata": {},
   "outputs": [
    {
     "data": {
      "text/plain": [
       "<function TextIOWrapper.close()>"
      ]
     },
     "execution_count": 13,
     "metadata": {},
     "output_type": "execute_result"
    }
   ],
   "source": [
    "#로그인\n",
    "\n",
    "f=open(\"upbit_api_key.txt\")\n",
    "lines = f.readlines()\n",
    "access_key = str(lines[0].strip())\n",
    "secret_key = str(lines[1].strip())\n",
    "f.close\n"
   ]
  },
  {
   "cell_type": "code",
   "execution_count": 37,
   "metadata": {},
   "outputs": [
    {
     "name": "stdout",
     "output_type": "stream",
     "text": [
      "[{'currency': 'KRW', 'balance': '990011.65502098', 'locked': '0.0', 'avg_buy_price': '0', 'avg_buy_price_modified': True, 'unit_currency': 'KRW'}, {'currency': 'XRP', 'balance': '5.88235294', 'locked': '0.0', 'avg_buy_price': '1700', 'avg_buy_price_modified': False, 'unit_currency': 'KRW'}]\n"
     ]
    },
    {
     "data": {
      "text/plain": [
       "{'currency': 'XRP',\n",
       " 'balance': '5.88235294',\n",
       " 'locked': '0.0',\n",
       " 'avg_buy_price': '1700',\n",
       " 'avg_buy_price_modified': False,\n",
       " 'unit_currency': 'KRW'}"
      ]
     },
     "execution_count": 37,
     "metadata": {},
     "output_type": "execute_result"
    }
   ],
   "source": [
    "#나의 계좌 잔액 조회\n",
    "import os\n",
    "import jwt\n",
    "import uuid\n",
    "import hashlib\n",
    "from urllib.parse import urlencode\n",
    "\n",
    "import requests\n",
    "\n",
    "server_url = 'https://api.upbit.com'\n",
    "\n",
    "payload = {\n",
    "    'access_key': access_key,\n",
    "    'nonce': str(uuid.uuid4()),\n",
    "}\n",
    "\n",
    "jwt_token = jwt.encode(payload, secret_key)\n",
    "authorize_token = 'Bearer {}'.format(jwt_token)\n",
    "headers = {\"Authorization\": authorize_token}\n",
    "\n",
    "res = requests.get(server_url + \"/v1/accounts\", headers=headers)\n",
    "\n",
    "print(res.json())\n",
    "\n"
   ]
  },
  {
   "cell_type": "markdown",
   "metadata": {},
   "source": [
    "\n",
    "### 4. 암호화폐 매수/매도"
   ]
  },
  {
   "cell_type": "code",
   "execution_count": null,
   "metadata": {},
   "outputs": [],
   "source": [
    "#매수(지정가)\n",
    "import os\n",
    "import jwt\n",
    "import uuid\n",
    "import hashlib\n",
    "from urllib.parse import urlencode\n",
    "\n",
    "import requests\n",
    "\n",
    "# access_key = os.environ['UPBIT_OPEN_API_ACCESS_KEY']\n",
    "# secret_key = os.environ['UPBIT_OPEN_API_SECRET_KEY']\n",
    "# server_url = os.environ['UPBIT_OPEN_API_SERVER_URL']\n",
    "\n",
    "query = {\n",
    "    'market': 'KRW-XRP',\n",
    "    'side': 'bid',\n",
    "    'volume': '5',\n",
    "    'price': '1000.0',\n",
    "    'ord_type': 'limit',\n",
    "}\n",
    "query_string = urlencode(query).encode()\n",
    "\n",
    "m = hashlib.sha512()\n",
    "m.update(query_string)\n",
    "query_hash = m.hexdigest()\n",
    "\n",
    "payload = {\n",
    "    'access_key': access_key,\n",
    "    'nonce': str(uuid.uuid4()),\n",
    "    'query_hash': query_hash,\n",
    "    'query_hash_alg': 'SHA512',\n",
    "}\n",
    "\n",
    "jwt_token = jwt.encode(payload, secret_key)\n",
    "authorize_token = 'Bearer {}'.format(jwt_token)\n",
    "headers = {\"Authorization\": authorize_token}\n",
    "\n",
    "res = requests.post(server_url + \"/v1/orders\", params=query, headers=headers)\n",
    "print(res.json())"
   ]
  },
  {
   "cell_type": "code",
   "execution_count": 33,
   "metadata": {},
   "outputs": [
    {
     "name": "stdout",
     "output_type": "stream",
     "text": [
      "{'uuid': '1c9f4ff9-085d-4295-a26a-d91283c2da73', 'side': 'bid', 'ord_type': 'price', 'price': '10000.0', 'state': 'wait', 'market': 'KRW-XRP', 'created_at': '2021-05-14T16:53:06+09:00', 'volume': None, 'remaining_volume': None, 'reserved_fee': '5.0', 'remaining_fee': '5.0', 'paid_fee': '0.0', 'locked': '10005.0', 'executed_volume': '0.0', 'trades_count': 0}\n"
     ]
    }
   ],
   "source": [
    "#매수(시장가)\n",
    "import os\n",
    "import jwt\n",
    "import uuid\n",
    "import hashlib\n",
    "from urllib.parse import urlencode\n",
    "\n",
    "import requests\n",
    "\n",
    "# access_key = os.environ['UPBIT_OPEN_API_ACCESS_KEY']\n",
    "# secret_key = os.environ['UPBIT_OPEN_API_SECRET_KEY']\n",
    "# server_url = os.environ['UPBIT_OPEN_API_SERVER_URL']\n",
    "\n",
    "query = {\n",
    "    'market': 'KRW-XRP',\n",
    "    'side': 'bid',\n",
    "    'volume': '',\n",
    "    'price': '10000',\n",
    "    'ord_type': 'price',\n",
    "}\n",
    "query_string = urlencode(query).encode()\n",
    "\n",
    "m = hashlib.sha512()\n",
    "m.update(query_string)\n",
    "query_hash = m.hexdigest()\n",
    "\n",
    "payload = {\n",
    "    'access_key': access_key,\n",
    "    'nonce': str(uuid.uuid4()),\n",
    "    'query_hash': query_hash,\n",
    "    'query_hash_alg': 'SHA512',\n",
    "}\n",
    "\n",
    "jwt_token = jwt.encode(payload, secret_key)\n",
    "authorize_token = 'Bearer {}'.format(jwt_token)\n",
    "headers = {\"Authorization\": authorize_token}\n",
    "\n",
    "res = requests.post(server_url + \"/v1/orders\", params=query, headers=headers)\n",
    "print(res.json())"
   ]
  },
  {
   "cell_type": "code",
   "execution_count": 34,
   "metadata": {},
   "outputs": [
    {
     "name": "stdout",
     "output_type": "stream",
     "text": [
      "{'uuid': '6addf64e-8e47-410f-a231-532d93070c3e', 'side': 'ask', 'ord_type': 'limit', 'price': '1705.0', 'state': 'wait', 'market': 'KRW-XRP', 'created_at': '2021-05-14T16:54:44+09:00', 'volume': '5.0', 'remaining_volume': '5.0', 'reserved_fee': '0.0', 'remaining_fee': '0.0', 'paid_fee': '0.0', 'locked': '5.0', 'executed_volume': '0.0', 'trades_count': 0}\n"
     ]
    }
   ],
   "source": [
    "#매도(지정가)\n",
    "\n",
    "import os\n",
    "import jwt\n",
    "import uuid\n",
    "import hashlib\n",
    "from urllib.parse import urlencode\n",
    "\n",
    "import requests\n",
    "\n",
    "# access_key = os.environ['UPBIT_OPEN_API_ACCESS_KEY']\n",
    "# secret_key = os.environ['UPBIT_OPEN_API_SECRET_KEY']\n",
    "# server_url = os.environ['UPBIT_OPEN_API_SERVER_URL']\n",
    "\n",
    "query = {\n",
    "    'market': 'KRW-XRP',\n",
    "    'side': 'ask',\n",
    "    'volume': '5',\n",
    "    'price': '1705',\n",
    "    'ord_type': 'limit',\n",
    "}\n",
    "query_string = urlencode(query).encode()\n",
    "\n",
    "m = hashlib.sha512()\n",
    "m.update(query_string)\n",
    "query_hash = m.hexdigest()\n",
    "\n",
    "payload = {\n",
    "    'access_key': access_key,\n",
    "    'nonce': str(uuid.uuid4()),\n",
    "    'query_hash': query_hash,\n",
    "    'query_hash_alg': 'SHA512',\n",
    "}\n",
    "\n",
    "jwt_token = jwt.encode(payload, secret_key)\n",
    "authorize_token = 'Bearer {}'.format(jwt_token)\n",
    "headers = {\"Authorization\": authorize_token}\n",
    "\n",
    "res = requests.post(server_url + \"/v1/orders\", params=query, headers=headers)\n",
    "print(res.json())"
   ]
  },
  {
   "cell_type": "code",
   "execution_count": 39,
   "metadata": {},
   "outputs": [
    {
     "data": {
      "text/plain": [
       "'5.88235294'"
      ]
     },
     "execution_count": 39,
     "metadata": {},
     "output_type": "execute_result"
    }
   ],
   "source": []
  },
  {
   "cell_type": "code",
   "execution_count": 40,
   "metadata": {},
   "outputs": [
    {
     "name": "stdout",
     "output_type": "stream",
     "text": [
      "{'uuid': '13b6ccdd-b489-4c54-810e-7ae174cd7dea', 'side': 'ask', 'ord_type': 'market', 'price': None, 'state': 'wait', 'market': 'KRW-XRP', 'created_at': '2021-05-14T17:01:02+09:00', 'volume': '5.88235294', 'remaining_volume': '5.88235294', 'reserved_fee': '0.0', 'remaining_fee': '0.0', 'paid_fee': '0.0', 'locked': '5.88235294', 'executed_volume': '0.0', 'trades_count': 0}\n"
     ]
    }
   ],
   "source": [
    "#매도(시장가)\n",
    "\n",
    "\n",
    "import os\n",
    "import jwt\n",
    "import uuid\n",
    "import hashlib\n",
    "from urllib.parse import urlencode\n",
    "\n",
    "import requests\n",
    "\n",
    "# access_key = os.environ['UPBIT_OPEN_API_ACCESS_KEY']\n",
    "# secret_key = os.environ['UPBIT_OPEN_API_SECRET_KEY']\n",
    "# server_url = os.environ['UPBIT_OPEN_API_SERVER_URL']\n",
    "\n",
    "query = {\n",
    "    'market': 'KRW-XRP',\n",
    "    'side': 'ask',\n",
    "    'volume': res.json()[1]['balance'],\n",
    "    'price': '',\n",
    "    'ord_type': 'market',\n",
    "}\n",
    "query_string = urlencode(query).encode()\n",
    "\n",
    "m = hashlib.sha512()\n",
    "m.update(query_string)\n",
    "query_hash = m.hexdigest()\n",
    "\n",
    "payload = {\n",
    "    'access_key': access_key,\n",
    "    'nonce': str(uuid.uuid4()),\n",
    "    'query_hash': query_hash,\n",
    "    'query_hash_alg': 'SHA512',\n",
    "}\n",
    "\n",
    "jwt_token = jwt.encode(payload, secret_key)\n",
    "authorize_token = 'Bearer {}'.format(jwt_token)\n",
    "headers = {\"Authorization\": authorize_token}\n",
    "\n",
    "res = requests.post(server_url + \"/v1/orders\", params=query, headers=headers)\n",
    "print(res.json())\n"
   ]
  },
  {
   "cell_type": "code",
   "execution_count": null,
   "metadata": {},
   "outputs": [],
   "source": []
  },
  {
   "cell_type": "code",
   "execution_count": null,
   "metadata": {},
   "outputs": [],
   "source": [
    "#사용하기 편하게 함수로 제작\n",
    "\n",
    "#구매가능한 코인 확인\n",
    "#현재 코인 호가\n",
    "#"
   ]
  },
  {
   "cell_type": "markdown",
   "metadata": {},
   "source": [
    "\n",
    "### 5. 투자아이디어 설정"
   ]
  },
  {
   "cell_type": "code",
   "execution_count": null,
   "metadata": {},
   "outputs": [],
   "source": [
    "#1분봉으로 제일 하락을 많이 한 코인 찾기"
   ]
  },
  {
   "cell_type": "markdown",
   "metadata": {},
   "source": [
    "\n",
    "### 6. 투자아이디어 프로그램 제작"
   ]
  },
  {
   "cell_type": "code",
   "execution_count": null,
   "metadata": {},
   "outputs": [],
   "source": []
  },
  {
   "cell_type": "code",
   "execution_count": null,
   "metadata": {},
   "outputs": [],
   "source": []
  },
  {
   "cell_type": "code",
   "execution_count": 44,
   "metadata": {},
   "outputs": [
    {
     "name": "stdout",
     "output_type": "stream",
     "text": [
      "9\n"
     ]
    },
    {
     "ename": "TypeError",
     "evalue": "int() takes at most 2 arguments (3 given)",
     "output_type": "error",
     "traceback": [
      "\u001b[1;31m---------------------------------------------------------------------------\u001b[0m",
      "\u001b[1;31mTypeError\u001b[0m                                 Traceback (most recent call last)",
      "\u001b[1;32m<ipython-input-44-edc42c918dff>\u001b[0m in \u001b[0;36m<module>\u001b[1;34m\u001b[0m\n\u001b[0;32m      1\u001b[0m \u001b[1;31m#비현코 패키지\u001b[0m\u001b[1;33m\u001b[0m\u001b[1;33m\u001b[0m\u001b[1;33m\u001b[0m\u001b[0m\n\u001b[0;32m      2\u001b[0m \u001b[1;33m\u001b[0m\u001b[0m\n\u001b[1;32m----> 3\u001b[1;33m \u001b[1;32mclass\u001b[0m \u001b[0mpy_bhc_upbit\u001b[0m\u001b[1;33m(\u001b[0m\u001b[0mabc\u001b[0m\u001b[1;33m)\u001b[0m\u001b[1;33m:\u001b[0m\u001b[1;33m\u001b[0m\u001b[1;33m\u001b[0m\u001b[0m\n\u001b[0m\u001b[0;32m      4\u001b[0m     \u001b[0mprint\u001b[0m\u001b[1;33m(\u001b[0m\u001b[0mabc\u001b[0m\u001b[1;33m)\u001b[0m\u001b[1;33m\u001b[0m\u001b[1;33m\u001b[0m\u001b[0m\n",
      "\u001b[1;31mTypeError\u001b[0m: int() takes at most 2 arguments (3 given)"
     ]
    }
   ],
   "source": [
    "#비현코 패키지\n",
    "\n",
    "class py_bhc_upbit(abc):\n",
    "    print(abc)"
   ]
  },
  {
   "cell_type": "code",
   "execution_count": null,
   "metadata": {},
   "outputs": [],
   "source": []
  }
 ],
 "metadata": {
  "kernelspec": {
   "display_name": "Python 3",
   "language": "python",
   "name": "python3"
  },
  "language_info": {
   "codemirror_mode": {
    "name": "ipython",
    "version": 3
   },
   "file_extension": ".py",
   "mimetype": "text/x-python",
   "name": "python",
   "nbconvert_exporter": "python",
   "pygments_lexer": "ipython3",
   "version": "3.8.3"
  }
 },
 "nbformat": 4,
 "nbformat_minor": 4
}
