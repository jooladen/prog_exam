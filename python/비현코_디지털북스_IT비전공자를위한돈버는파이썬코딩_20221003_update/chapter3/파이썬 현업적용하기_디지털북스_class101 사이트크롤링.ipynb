{
 "cells": [
  {
   "cell_type": "markdown",
   "metadata": {},
   "source": [
    "# 상황설정 (Update 2022-10-03)\n",
    "##### 필독 - 크롤링의 특성상, 웹사이트의 변화에 따라 미리 짜둔 코드가 작동되지 않을 수 있습니다. 하여, 책의 내용과 실습자료의 크롤링 코드가 미세하게 다를 수 있습니다. 주기적으로 실습자료를 업데이트 해나갈 예정이오니, 이 부분 인지하시고 학습해나가시길 권해드립니다.\n",
    "\n",
    "\n",
    "1. 인터넷에 있는 특정단어(\"유튜브\")와 관련된 기사00개의 제목을 가져온다.\n",
    "2. 가져온 기사 10개를 엑셀 한 시트로 만든다.\n",
    "3. 가져온 기사 제목을 모아서 워드클라우드로 제작한다.\n",
    "4. 제작된 이미지를 원하는 곳으로 전송한다.\n",
    "\n",
    "\n",
    "* 주의 - 모든 코딩과정을 이해하고 따라오기에는 매우 오랜 시간이 걸립니다.\n",
    "그런 오랜 시간을 견디지 못하고 많은 비전공자분들이 코딩의 문턱을 넘지 못합니다.\n",
    "각자의 학습스타일에 따라 다르겠지만,\n",
    "이해하기보다는 \"아~ 이렇게 쓰는구나!\" 라고 생각하고 학습에 임해주세요.\n",
    "\n",
    "마치, 우리가 엑셀의 vlookup,if등의 함수를 쓸 때,\n",
    "하나하나 제작된 원리를 이해해서 하기보다는 자주 쓰다보니 외어지는 것 처럼 말이죠!\n",
    "\n",
    "(제가 경험했던 가장 큰 실수는 모든 것을 이해하고 다음으로 넘어가려했기 때문입니다. 일단 기능에만 충실해주세요)\n",
    "\n",
    "\n",
    "# 크롬을 기본 웹으로 설정해놓으신다음 진행해주세요\n",
    "\n",
    "# 시작 -> 기본 웹 "
   ]
  },
  {
   "cell_type": "code",
   "execution_count": 1,
   "metadata": {},
   "outputs": [],
   "source": [
    "#오류날때 기본웹브라우저"
   ]
  },
  {
   "cell_type": "code",
   "execution_count": null,
   "metadata": {},
   "outputs": [],
   "source": []
  },
  {
   "cell_type": "markdown",
   "metadata": {},
   "source": [
    "\n",
    "# <span style=\"color:red\"> 주의!!!! </span>\n",
    "\n",
    "책을 쓰는 시점과 현재 코드가 좀 달라졌습니다. 변경사유는 책에 적혀있는대로 사이트의 구조변경 및 라이브러리의 업데이트 문제입니다.\n",
    "먼저, 글로 여러분들께 안내를 드립니다. 글로 이해가 어려우시다면, youtube  링크를 참조해주세요\n",
    "\n",
    "\n",
    "[링크]\n",
    "https://www.youtube.com/watch?v=svb7iG8dAP4\n",
    "\n",
    "\n",
    "[글]\n",
    "\n",
    "(selenium 버전 변경)\n",
    "\n",
    "윈도우키 > 'anaconda prompt' 검색 > anaconda prompt 클릭\n",
    "1.(anaconda prompt 프로그램이 켜지면) \"pip uninstall selenium\" 입력 하고 엔터누르기-> Y/N 물어보면 Y 누르고 엔터\n",
    "2.(anaconda prompt 프로그램 상에서) \"pip install selenium==4.1.5\" 입력하고 엔터누르기 -> Y/N 물어보면 Y 누르고 엔터\n",
    "//////////////////////////////////////////////////////////////////////////////////////////////////////////////////\n",
    "\n",
    "(wordcloud 버전 변경)\n",
    "\n",
    "1.윈도우키 > 'anaconda prompt' 검색 > anaconda prompt 클릭\n",
    "2.(anaconda prompt 프로그램이 켜지면) \"pip uninstall wordcloud\" 입력 하고 엔터누르기-> Y/N 물어보면 Y누르고 엔터\n",
    "3-1.(anaconda prompt 프로그램 상에서) \"pip install wordcloud==1.8.1\" 입력하고 엔터누르기 -> Y/N 물어보면 Y 누르고 엔터\n",
    "or\n",
    "3-2.(anaconda prompt 프로그램 상에서) \"conda install -c conda-forge wordcloud=1.8.1\" 입력하고 엔터누르기 -> Y/N 물어보면 Y 누르고 엔터\n",
    "//////////////////////////////////////////////////////////////////////////////////////////////////////////////////\n",
    "\n",
    "(xlrd 버전 변경)\n",
    "\n",
    "1.윈도우키 > 'anaconda prompt' 검색 > anaconda prompt 클릭\n",
    "2.(anaconda prompt 프로그램이 켜지면) \"pip uninstall xlrd\" 입력 하고 엔터누르기-> Y/N 물어보면 Y 누르고 엔터\n",
    "3.(anaconda prompt 프로그램 상에서) \"pip install xlrd==2.0.1\" 입력하고 엔터누르기 -> Y/N 물어보면 Y 누르고 엔터"
   ]
  },
  {
   "cell_type": "markdown",
   "metadata": {},
   "source": [
    "## 1단계-인터넷에 있는 특정단어와 관련된 기사 100개를 가져온다.(직접코딩)"
   ]
  },
  {
   "cell_type": "code",
   "execution_count": 2,
   "metadata": {},
   "outputs": [
    {
     "name": "stdout",
     "output_type": "stream",
     "text": [
      "Requirement already satisfied: selenium==4.1.5 in c:\\users\\jooladen\\anaconda3\\lib\\site-packages (4.1.5)\n",
      "Requirement already satisfied: urllib3~=1.26 in c:\\users\\jooladen\\anaconda3\\lib\\site-packages (from urllib3[secure,socks]~=1.26->selenium==4.1.5) (1.26.20)\n",
      "Requirement already satisfied: trio~=0.17 in c:\\users\\jooladen\\anaconda3\\lib\\site-packages (from selenium==4.1.5) (0.27.0)\n",
      "Requirement already satisfied: trio-websocket~=0.9 in c:\\users\\jooladen\\anaconda3\\lib\\site-packages (from selenium==4.1.5) (0.11.1)\n",
      "Requirement already satisfied: attrs>=23.2.0 in c:\\users\\jooladen\\anaconda3\\lib\\site-packages (from trio~=0.17->selenium==4.1.5) (24.2.0)\n",
      "Requirement already satisfied: sortedcontainers in c:\\users\\jooladen\\anaconda3\\lib\\site-packages (from trio~=0.17->selenium==4.1.5) (2.4.0)\n",
      "Requirement already satisfied: idna in c:\\users\\jooladen\\anaconda3\\lib\\site-packages (from trio~=0.17->selenium==4.1.5) (3.7)\n",
      "Requirement already satisfied: outcome in c:\\users\\jooladen\\anaconda3\\lib\\site-packages (from trio~=0.17->selenium==4.1.5) (1.3.0.post0)\n",
      "Requirement already satisfied: sniffio>=1.3.0 in c:\\users\\jooladen\\anaconda3\\lib\\site-packages (from trio~=0.17->selenium==4.1.5) (1.3.0)\n",
      "Requirement already satisfied: cffi>=1.14 in c:\\users\\jooladen\\anaconda3\\lib\\site-packages (from trio~=0.17->selenium==4.1.5) (1.17.1)\n",
      "Requirement already satisfied: wsproto>=0.14 in c:\\users\\jooladen\\anaconda3\\lib\\site-packages (from trio-websocket~=0.9->selenium==4.1.5) (1.2.0)\n",
      "Requirement already satisfied: pyOpenSSL>=0.14 in c:\\users\\jooladen\\anaconda3\\lib\\site-packages (from urllib3[secure,socks]~=1.26->selenium==4.1.5) (24.2.1)\n",
      "Requirement already satisfied: cryptography>=1.3.4 in c:\\users\\jooladen\\anaconda3\\lib\\site-packages (from urllib3[secure,socks]~=1.26->selenium==4.1.5) (43.0.0)\n",
      "Requirement already satisfied: certifi in c:\\users\\jooladen\\anaconda3\\lib\\site-packages (from urllib3[secure,socks]~=1.26->selenium==4.1.5) (2024.8.30)\n",
      "Requirement already satisfied: urllib3-secure-extra in c:\\users\\jooladen\\anaconda3\\lib\\site-packages (from urllib3[secure,socks]~=1.26->selenium==4.1.5) (0.1.0)\n",
      "Requirement already satisfied: PySocks!=1.5.7,<2.0,>=1.5.6 in c:\\users\\jooladen\\anaconda3\\lib\\site-packages (from urllib3[secure,socks]~=1.26->selenium==4.1.5) (1.7.1)\n",
      "Requirement already satisfied: pycparser in c:\\users\\jooladen\\anaconda3\\lib\\site-packages (from cffi>=1.14->trio~=0.17->selenium==4.1.5) (2.21)\n",
      "Requirement already satisfied: h11<1,>=0.9.0 in c:\\users\\jooladen\\anaconda3\\lib\\site-packages (from wsproto>=0.14->trio-websocket~=0.9->selenium==4.1.5) (0.14.0)\n",
      "Requirement already satisfied: webdriver_manager in c:\\users\\jooladen\\anaconda3\\lib\\site-packages (4.0.2)\n",
      "Requirement already satisfied: requests in c:\\users\\jooladen\\anaconda3\\lib\\site-packages (from webdriver_manager) (2.32.3)\n",
      "Requirement already satisfied: python-dotenv in c:\\users\\jooladen\\anaconda3\\lib\\site-packages (from webdriver_manager) (0.21.0)\n",
      "Requirement already satisfied: packaging in c:\\users\\jooladen\\anaconda3\\lib\\site-packages (from webdriver_manager) (24.1)\n",
      "Requirement already satisfied: charset-normalizer<4,>=2 in c:\\users\\jooladen\\anaconda3\\lib\\site-packages (from requests->webdriver_manager) (3.3.2)\n",
      "Requirement already satisfied: idna<4,>=2.5 in c:\\users\\jooladen\\anaconda3\\lib\\site-packages (from requests->webdriver_manager) (3.7)\n",
      "Requirement already satisfied: urllib3<3,>=1.21.1 in c:\\users\\jooladen\\anaconda3\\lib\\site-packages (from requests->webdriver_manager) (1.26.20)\n",
      "Requirement already satisfied: certifi>=2017.4.17 in c:\\users\\jooladen\\anaconda3\\lib\\site-packages (from requests->webdriver_manager) (2024.8.30)\n"
     ]
    }
   ],
   "source": [
    "#1-1.인터넷에 접속한다\n",
    "!pip install selenium==4.1.5\n",
    "!pip install webdriver_manager\n",
    "from selenium import webdriver \n",
    "from selenium.webdriver.chrome.service import Service\n",
    "from webdriver_manager.chrome import ChromeDriverManager\n",
    "from selenium.webdriver.common.by import By\n",
    "service = Service(executable_path=ChromeDriverManager().install()) #크롬드라이버 설치\n",
    "options = webdriver.ChromeOptions()\n",
    "options.add_argument('--no-sandbox')\n",
    "driver = webdriver.Chrome(service=service)\n",
    "\n",
    "#selenium 4.0 버전 이후로는 더이상 크롬드라이버를 직접 설치할 필요가 없습니다. 위의 코드를 실행하면 바로 인터넷이 연결됩니다."
   ]
  },
  {
   "cell_type": "code",
   "execution_count": 4,
   "metadata": {},
   "outputs": [
    {
     "name": "stdout",
     "output_type": "stream",
     "text": [
      "Package                           Version\n",
      "--------------------------------- ------------------\n",
      "aiobotocore                       2.12.3\n",
      "aiohappyeyeballs                  2.4.0\n",
      "aiohttp                           3.10.5\n",
      "aioitertools                      0.7.1\n",
      "aiosignal                         1.2.0\n",
      "alabaster                         0.7.16\n",
      "altair                            5.0.1\n",
      "anaconda-anon-usage               0.4.4\n",
      "anaconda-catalogs                 0.2.0\n",
      "anaconda-client                   1.12.3\n",
      "anaconda-cloud-auth               0.5.1\n",
      "anaconda-navigator                2.6.3\n",
      "anaconda-project                  0.11.1\n",
      "annotated-types                   0.6.0\n",
      "anyio                             4.2.0\n",
      "appdirs                           1.4.4\n",
      "archspec                          0.2.3\n",
      "argon2-cffi                       21.3.0\n",
      "argon2-cffi-bindings              21.2.0\n",
      "arrow                             1.2.3\n",
      "astroid                           2.14.2\n",
      "astropy                           6.1.3\n",
      "astropy-iers-data                 0.2024.9.2.0.33.23\n",
      "asttokens                         2.0.5\n",
      "async-lru                         2.0.4\n",
      "atomicwrites                      1.4.0\n",
      "attrs                             24.2.0\n",
      "Automat                           20.2.0\n",
      "autopep8                          2.0.4\n",
      "Babel                             2.11.0\n",
      "bcrypt                            3.2.0\n",
      "beautifulsoup4                    4.12.3\n",
      "binaryornot                       0.4.4\n",
      "black                             24.8.0\n",
      "bleach                            4.1.0\n",
      "blinker                           1.6.2\n",
      "bokeh                             3.6.0\n",
      "boltons                           23.0.0\n",
      "botocore                          1.34.69\n",
      "Bottleneck                        1.3.7\n",
      "Brotli                            1.0.9\n",
      "cachetools                        5.3.3\n",
      "certifi                           2024.8.30\n",
      "cffi                              1.17.1\n",
      "chardet                           4.0.0\n",
      "charset-normalizer                3.3.2\n",
      "click                             8.1.7\n",
      "cloudpickle                       3.0.0\n",
      "colorama                          0.4.6\n",
      "colorcet                          3.1.0\n",
      "comm                              0.2.1\n",
      "conda                             24.9.2\n",
      "conda-build                       24.9.0\n",
      "conda-content-trust               0.2.0\n",
      "conda_index                       0.5.0\n",
      "conda-libmamba-solver             24.9.0\n",
      "conda-pack                        0.7.1\n",
      "conda-package-handling            2.3.0\n",
      "conda_package_streaming           0.10.0\n",
      "conda-repo-cli                    1.0.114\n",
      "conda-token                       0.5.0+1.g2209e04\n",
      "constantly                        23.10.4\n",
      "contourpy                         1.2.0\n",
      "cookiecutter                      2.6.0\n",
      "cryptography                      43.0.0\n",
      "cssselect                         1.2.0\n",
      "cycler                            0.11.0\n",
      "cytoolz                           0.12.2\n",
      "dask                              2024.8.2\n",
      "dask-expr                         1.1.13\n",
      "datashader                        0.16.3\n",
      "debugpy                           1.6.7\n",
      "decorator                         5.1.1\n",
      "defusedxml                        0.7.1\n",
      "diff-match-patch                  20200713\n",
      "dill                              0.3.8\n",
      "distributed                       2024.8.2\n",
      "distro                            1.9.0\n",
      "docstring-to-markdown             0.11\n",
      "docutils                          0.18.1\n",
      "et-xmlfile                        1.1.0\n",
      "executing                         0.8.3\n",
      "fastjsonschema                    2.16.2\n",
      "filelock                          3.13.1\n",
      "flake8                            7.0.0\n",
      "Flask                             3.0.3\n",
      "fonttools                         4.51.0\n",
      "frozendict                        2.4.2\n",
      "frozenlist                        1.4.0\n",
      "fsspec                            2024.6.1\n",
      "gensim                            4.3.3\n",
      "gitdb                             4.0.7\n",
      "GitPython                         3.1.43\n",
      "greenlet                          3.0.1\n",
      "h11                               0.14.0\n",
      "h5py                              3.11.0\n",
      "HeapDict                          1.0.1\n",
      "holoviews                         1.19.1\n",
      "httpcore                          1.0.2\n",
      "httpx                             0.27.0\n",
      "hvplot                            0.11.0\n",
      "hyperlink                         21.0.0\n",
      "idna                              3.7\n",
      "imagecodecs                       2023.1.23\n",
      "imageio                           2.33.1\n",
      "imagesize                         1.4.1\n",
      "imbalanced-learn                  0.12.3\n",
      "importlib-metadata                7.0.1\n",
      "incremental                       22.10.0\n",
      "inflection                        0.5.1\n",
      "iniconfig                         1.1.1\n",
      "intake                            2.0.7\n",
      "intervaltree                      3.1.0\n",
      "ipykernel                         6.28.0\n",
      "ipython                           8.27.0\n",
      "ipython-genutils                  0.2.0\n",
      "ipywidgets                        7.8.1\n",
      "isort                             5.13.2\n",
      "itemadapter                       0.3.0\n",
      "itemloaders                       1.1.0\n",
      "itsdangerous                      2.2.0\n",
      "jaraco.classes                    3.2.1\n",
      "jedi                              0.19.1\n",
      "jellyfish                         1.0.1\n",
      "Jinja2                            3.1.4\n",
      "jmespath                          1.0.1\n",
      "joblib                            1.4.2\n",
      "json5                             0.9.6\n",
      "jsonpatch                         1.33\n",
      "jsonpointer                       2.1\n",
      "jsonschema                        4.23.0\n",
      "jsonschema-specifications         2023.7.1\n",
      "jupyter                           1.0.0\n",
      "jupyter_client                    8.6.0\n",
      "jupyter-console                   6.6.3\n",
      "jupyter_core                      5.7.2\n",
      "jupyter-events                    0.10.0\n",
      "jupyter-lsp                       2.2.0\n",
      "jupyter_server                    2.14.1\n",
      "jupyter_server_terminals          0.4.4\n",
      "jupyterlab                        4.2.5\n",
      "jupyterlab-pygments               0.1.2\n",
      "jupyterlab_server                 2.27.3\n",
      "jupyterlab-widgets                1.0.0\n",
      "keyring                           24.3.1\n",
      "kiwisolver                        1.4.4\n",
      "lazy_loader                       0.4\n",
      "lazy-object-proxy                 1.10.0\n",
      "lckr_jupyterlab_variableinspector 3.1.0\n",
      "libarchive-c                      5.1\n",
      "libmambapy                        1.5.8\n",
      "linkify-it-py                     2.0.0\n",
      "llvmlite                          0.43.0\n",
      "lmdb                              1.4.1\n",
      "locket                            1.0.0\n",
      "lxml                              5.2.1\n",
      "lz4                               4.3.2\n",
      "Markdown                          3.4.1\n",
      "markdown-it-py                    2.2.0\n",
      "MarkupSafe                        2.1.3\n",
      "matplotlib                        3.9.2\n",
      "matplotlib-inline                 0.1.6\n",
      "mccabe                            0.7.0\n",
      "mdit-py-plugins                   0.3.0\n",
      "mdurl                             0.1.0\n",
      "menuinst                          2.1.2\n",
      "mistune                           2.0.4\n",
      "mkl_fft                           1.3.10\n",
      "mkl_random                        1.2.7\n",
      "mkl-service                       2.4.0\n",
      "more-itertools                    10.3.0\n",
      "mpmath                            1.3.0\n",
      "msgpack                           1.0.3\n",
      "multidict                         6.0.4\n",
      "multipledispatch                  0.6.0\n",
      "mypy                              1.11.2\n",
      "mypy-extensions                   1.0.0\n",
      "navigator-updater                 0.5.1\n",
      "nbclient                          0.8.0\n",
      "nbconvert                         7.16.4\n",
      "nbformat                          5.10.4\n",
      "nest-asyncio                      1.6.0\n",
      "networkx                          3.3\n",
      "nltk                              3.9.1\n",
      "notebook                          7.2.2\n",
      "notebook_shim                     0.2.3\n",
      "numba                             0.60.0\n",
      "numexpr                           2.8.7\n",
      "numpy                             1.26.4\n",
      "numpydoc                          1.7.0\n",
      "openpyxl                          3.1.5\n",
      "outcome                           1.3.0.post0\n",
      "overrides                         7.4.0\n",
      "packaging                         24.1\n",
      "pandas                            2.2.2\n",
      "pandocfilters                     1.5.0\n",
      "panel                             1.5.2\n",
      "param                             2.1.1\n",
      "paramiko                          2.8.1\n",
      "parsel                            1.8.1\n",
      "parso                             0.8.3\n",
      "partd                             1.4.1\n",
      "pathspec                          0.10.3\n",
      "patsy                             0.5.6\n",
      "pexpect                           4.8.0\n",
      "pickleshare                       0.7.5\n",
      "pillow                            10.4.0\n",
      "pip                               24.2\n",
      "pkce                              1.0.3\n",
      "pkginfo                           1.10.0\n",
      "platformdirs                      3.10.0\n",
      "plotly                            5.24.1\n",
      "pluggy                            1.0.0\n",
      "ply                               3.11\n",
      "prometheus-client                 0.14.1\n",
      "prompt-toolkit                    3.0.43\n",
      "Protego                           0.1.16\n",
      "protobuf                          4.25.3\n",
      "psutil                            5.9.0\n",
      "ptyprocess                        0.7.0\n",
      "pure-eval                         0.2.2\n",
      "py-cpuinfo                        9.0.0\n",
      "pyarrow                           16.1.0\n",
      "pyasn1                            0.4.8\n",
      "pyasn1-modules                    0.2.8\n",
      "pycodestyle                       2.11.1\n",
      "pycosat                           0.6.6\n",
      "pycparser                         2.21\n",
      "pyct                              0.5.0\n",
      "pycurl                            7.45.3\n",
      "pydantic                          2.8.2\n",
      "pydantic_core                     2.20.1\n",
      "pydeck                            0.8.0\n",
      "PyDispatcher                      2.0.5\n",
      "pydocstyle                        6.3.0\n",
      "pyerfa                            2.0.1.4\n",
      "pyflakes                          3.2.0\n",
      "Pygments                          2.15.1\n",
      "PyJWT                             2.8.0\n",
      "pylint                            2.16.2\n",
      "pylint-venv                       3.0.3\n",
      "pyls-spyder                       0.4.0\n",
      "PyNaCl                            1.5.0\n",
      "pyodbc                            5.1.0\n",
      "pyOpenSSL                         24.2.1\n",
      "pyparsing                         3.1.2\n",
      "PyQt5                             5.15.10\n",
      "PyQt5-sip                         12.13.0\n",
      "PyQtWebEngine                     5.15.6\n",
      "PySocks                           1.7.1\n",
      "pytest                            7.4.4\n",
      "python-dateutil                   2.9.0.post0\n",
      "python-dotenv                     0.21.0\n",
      "python-json-logger                2.0.7\n",
      "python-lsp-black                  2.0.0\n",
      "python-lsp-jsonrpc                1.1.2\n",
      "python-lsp-server                 1.10.0\n",
      "python-slugify                    5.0.2\n",
      "pytoolconfig                      1.2.6\n",
      "pytz                              2024.1\n",
      "pyviz_comms                       3.0.2\n",
      "PyWavelets                        1.7.0\n",
      "pywin32                           305.1\n",
      "pywin32-ctypes                    0.2.2\n",
      "pywinpty                          2.0.10\n",
      "PyYAML                            6.0.1\n",
      "pyzmq                             25.1.2\n",
      "QDarkStyle                        3.2.3\n",
      "qstylizer                         0.2.2\n",
      "QtAwesome                         1.3.1\n",
      "qtconsole                         5.5.1\n",
      "QtPy                              2.4.1\n",
      "queuelib                          1.6.2\n",
      "referencing                       0.30.2\n",
      "regex                             2024.9.11\n",
      "requests                          2.32.3\n",
      "requests-file                     1.5.1\n",
      "requests-toolbelt                 1.0.0\n",
      "rfc3339-validator                 0.1.4\n",
      "rfc3986-validator                 0.1.1\n",
      "rich                              13.7.1\n",
      "rope                              1.12.0\n",
      "rpds-py                           0.10.6\n",
      "Rtree                             1.0.1\n",
      "ruamel.yaml                       0.18.6\n",
      "ruamel.yaml.clib                  0.2.8\n",
      "ruamel-yaml-conda                 0.17.21\n",
      "s3fs                              2024.6.1\n",
      "scikit-image                      0.24.0\n",
      "scikit-learn                      1.5.1\n",
      "scipy                             1.13.1\n",
      "Scrapy                            2.11.1\n",
      "seaborn                           0.13.2\n",
      "selenium                          4.1.5\n",
      "semver                            3.0.2\n",
      "Send2Trash                        1.8.2\n",
      "service-identity                  18.1.0\n",
      "setuptools                        75.1.0\n",
      "sip                               6.7.12\n",
      "six                               1.16.0\n",
      "smart-open                        5.2.1\n",
      "smmap                             4.0.0\n",
      "sniffio                           1.3.0\n",
      "snowballstemmer                   2.2.0\n",
      "sortedcontainers                  2.4.0\n",
      "soupsieve                         2.5\n",
      "Sphinx                            7.3.7\n",
      "sphinxcontrib-applehelp           1.0.2\n",
      "sphinxcontrib-devhelp             1.0.2\n",
      "sphinxcontrib-htmlhelp            2.0.0\n",
      "sphinxcontrib-jsmath              1.0.1\n",
      "sphinxcontrib-qthelp              1.0.3\n",
      "sphinxcontrib-serializinghtml     1.1.10\n",
      "spyder                            5.5.1\n",
      "spyder-kernels                    2.5.0\n",
      "SQLAlchemy                        2.0.34\n",
      "stack-data                        0.2.0\n",
      "statsmodels                       0.14.2\n",
      "streamlit                         1.37.1\n",
      "sympy                             1.13.2\n",
      "tables                            3.10.1\n",
      "tabulate                          0.9.0\n",
      "tblib                             1.7.0\n",
      "tenacity                          8.2.3\n",
      "terminado                         0.17.1\n",
      "text-unidecode                    1.3\n",
      "textdistance                      4.2.1\n",
      "threadpoolctl                     3.5.0\n",
      "three-merge                       0.1.1\n",
      "tifffile                          2023.4.12\n",
      "tinycss2                          1.2.1\n",
      "tldextract                        5.1.2\n",
      "toml                              0.10.2\n",
      "tomli                             2.0.1\n",
      "tomlkit                           0.11.1\n",
      "toolz                             0.12.0\n",
      "tornado                           6.4.1\n",
      "tqdm                              4.66.5\n",
      "traitlets                         5.14.3\n",
      "trio                              0.27.0\n",
      "trio-websocket                    0.11.1\n",
      "truststore                        0.8.0\n",
      "Twisted                           23.10.0\n",
      "twisted-iocpsupport               1.0.2\n",
      "typing_extensions                 4.11.0\n",
      "tzdata                            2023.3\n",
      "uc-micro-py                       1.0.1\n",
      "ujson                             5.10.0\n",
      "unicodedata2                      15.1.0\n",
      "Unidecode                         1.3.8\n",
      "urllib3                           1.26.20\n",
      "urllib3-secure-extra              0.1.0\n",
      "w3lib                             2.1.2\n",
      "watchdog                          4.0.1\n",
      "wcwidth                           0.2.5\n",
      "webdriver-manager                 4.0.2\n",
      "webencodings                      0.5.1\n",
      "websocket-client                  1.8.0\n",
      "Werkzeug                          3.0.3\n",
      "whatthepatch                      1.0.2\n",
      "wheel                             0.44.0\n",
      "widgetsnbextension                3.6.6\n",
      "win-inet-pton                     1.1.0\n",
      "wrapt                             1.14.1\n",
      "wsproto                           1.2.0\n",
      "xarray                            2023.6.0\n",
      "xlwings                           0.32.1\n",
      "xyzservices                       2022.9.0\n",
      "yapf                              0.40.2\n",
      "yarl                              1.11.0\n",
      "zict                              3.0.0\n",
      "zipp                              3.17.0\n",
      "zope.interface                    5.4.0\n",
      "zstandard                         0.23.0\n"
     ]
    }
   ],
   "source": [
    "!pip list"
   ]
  },
  {
   "cell_type": "markdown",
   "metadata": {},
   "source": [
    "[][][][][][][][][][][][][][][][][][][][][][][][][][][][][][][][][][][][][][][][][][][][][][][][][][][][][][][][][][][][]"
   ]
  },
  {
   "cell_type": "markdown",
   "metadata": {},
   "source": [
    "# (학습용 Class101 사이트 크롤링)\n",
    "##### 책의 내용은 크롤링학습을 위해 클래스101의 동의를 얻어 크롤링을 공식적으로 진행합니다. \n",
    "실제로 , 해당내용의 크롤링은 검색사이트의 신문기사를 인용해야하나, 이 부분은 저작권 문제가 있고, 해당 책은 독자분들께 크롤링을 하는 방법을 안내해드리기 위해서 이와 같은 방향을 정하였습니다. 독자님들께서는 크롤링 대상 사이트를 클래스101에서 진행하신 후, 다음장으로 넘어가도록 하겠습니다."
   ]
  },
  {
   "cell_type": "code",
   "execution_count": 46,
   "metadata": {},
   "outputs": [],
   "source": [
    "#1-2.클래스101에 접속한다.\n",
    "driver.get(\"https://www.class101.net\")"
   ]
  },
  {
   "cell_type": "code",
   "execution_count": 32,
   "metadata": {},
   "outputs": [],
   "source": [
    "#write your code (100견이 불여일타)"
   ]
  },
  {
   "cell_type": "markdown",
   "metadata": {},
   "source": [
    "[][][][][][][][][][][][][][][][][][][][][][][][][][][][][][][][][][][][][][][][][][][][][][][][][][][][][][][][][][][][]"
   ]
  },
  {
   "cell_type": "code",
   "execution_count": 47,
   "metadata": {},
   "outputs": [
    {
     "name": "stdout",
     "output_type": "stream",
     "text": [
      "<selenium.webdriver.remote.webelement.WebElement (session=\"94c2198b0814143ebcf00b0e0a953c48\", element=\"f.932DCEAAD084B3166BEA172D00F3FD7C.d.9409EE41404DAB31B11D4E33001A35EF.e.1271788\")>\n"
     ]
    }
   ],
   "source": [
    "#1-3.원하는 키워드를 검색한다.\n",
    "#검색창 클릭\n",
    "driver.find_element(by=By.XPATH, value='/html/body/div[1]/main/div/div[6]/div[1]/div/div/div[2]/div/button/div/div/span').click()\n",
    "\n",
    "#원하는 검색창 찾기(2022.10.03 업데이트)\n",
    "import time\n",
    "time.sleep(3)\n",
    "#css-19kb6oh\n",
    "greenbox = driver.find_element(by=By.CLASS_NAME, value='css-7lfjke')\n",
    "print(greenbox)\n",
    "#원하는 단어입력하기\n",
    "greenbox.send_keys(\"유튜브\")\n",
    "#greenbox.send_keys(\"aaa\")\n"
   ]
  },
  {
   "cell_type": "code",
   "execution_count": null,
   "metadata": {},
   "outputs": [],
   "source": []
  },
  {
   "cell_type": "code",
   "execution_count": 48,
   "metadata": {},
   "outputs": [],
   "source": [
    "#원하는 부분을 엔터치기\n",
    "from selenium.webdriver.common.keys import Keys\n",
    "greenbox.send_keys(Keys.ENTER)"
   ]
  },
  {
   "cell_type": "code",
   "execution_count": 23,
   "metadata": {},
   "outputs": [],
   "source": [
    "#write your code (100견이 불여일타)"
   ]
  },
  {
   "cell_type": "markdown",
   "metadata": {},
   "source": [
    "[][][][][][][][][][][][][][][][][][][][][][][][][][][][][][][][][][][][][][][][][][][][][][][][][][][][][][][][][][][][]"
   ]
  },
  {
   "cell_type": "code",
   "execution_count": 50,
   "metadata": {},
   "outputs": [],
   "source": [
    "#1-4.뉴스탭(\"유튜브\"검색 결과)으로 바로 이동한다.\n",
    "#유튜브의 뉴스탭만 클릭하고 싶으면?  driver.get(\"https://class101.net/search?query=유튜브\")\n",
    "#driver.get(\"https://class101.net/search?page=1&query=%EC%9C%A0%ED%8A%9C%EB%B8%8C&sort=latestOrder\")\n",
    "driver.get(\"https://www.class101.net/ko/search?query=%EC%9C%A0%ED%8A%9C%EB%B8%8C&sort=Recent\")"
   ]
  },
  {
   "cell_type": "code",
   "execution_count": 23,
   "metadata": {},
   "outputs": [],
   "source": [
    "#write your code (100견이 불여일타)"
   ]
  },
  {
   "cell_type": "markdown",
   "metadata": {},
   "source": [
    "[][][][][][][][][][][][][][][][][][][][][][][][][][][][][][][][][][][][][][][][][][][][][][][][][][][][][][][][][][][][]"
   ]
  },
  {
   "cell_type": "code",
   "execution_count": 51,
   "metadata": {},
   "outputs": [
    {
     "name": "stderr",
     "output_type": "stream",
     "text": [
      "C:\\Users\\Public\\Documents\\ESTsoft\\CreatorTemp\\ipykernel_32152\\2373780148.py:3: DeprecationWarning: find_element_by_class_name is deprecated. Please use find_element(by=By.CLASS_NAME, value=name) instead\n",
      "  first_sel = driver.find_element_by_class_name(\"css-73s7lu\")\n",
      "C:\\Users\\Public\\Documents\\ESTsoft\\CreatorTemp\\ipykernel_32152\\2373780148.py:4: DeprecationWarning: find_elements_by_tag_name is deprecated. Please use find_elements(by=By.TAG_NAME, value=name) instead\n",
      "  second_sel = first_sel.find_elements_by_tag_name(\"li\")\n"
     ]
    },
    {
     "data": {
      "text/plain": [
       "['영상/3D  |  Adobe',\n",
       " '창업 · 부업  |  커피캣(유튜브랩)',\n",
       " '창업 · 부업  |  닥터튜브',\n",
       " '금융 · 재테크  |  찰떡세무사',\n",
       " '디지털 드로잉  |  AAF 아프',\n",
       " '생산성  |  유쾌한 신쌤',\n",
       " '창업 · 부업  |  커피캣(유튜브랩)',\n",
       " '음악  |  Tido Kang',\n",
       " '사진 · 영상  |  안정식',\n",
       " '창업 · 부업  |  빨간토마토',\n",
       " '창업 · 부업  |  서울리안',\n",
       " '마케팅  |  마케터S',\n",
       " '디지털 드로잉  |  아리의 이야기',\n",
       " '창업 · 부업  |  프로N잡러 오호랄라',\n",
       " '디자인  |  포이지',\n",
       " '창업 · 부업  |  인생의지름길 쇼컷',\n",
       " '영상/3D  |  윤동규',\n",
       " '음악  |  남디NAMD',\n",
       " '공예  |  라탄스튜디오 가람',\n",
       " '창업 · 부업  |  진용진']"
      ]
     },
     "execution_count": 51,
     "metadata": {},
     "output_type": "execute_result"
    }
   ],
   "source": [
    "#1-5.뉴스탭에 나오는 기사들을 최신순으로 배열하여 리스트 변수에 담는다.\n",
    "#first_sel = driver.find_element_by_class_name(\"sc-bd6ba7ae-1.hUbsDC\")\n",
    "first_sel = driver.find_element_by_class_name(\"css-73s7lu\")\n",
    "second_sel = first_sel.find_elements_by_tag_name(\"li\")\n",
    "news_title_lists = []\n",
    "for a in second_sel:\n",
    "    news_title_lists.append(a.text.split(\"\\n\")[1])\n",
    "news_title_lists"
   ]
  },
  {
   "cell_type": "code",
   "execution_count": 23,
   "metadata": {},
   "outputs": [],
   "source": [
    "#write your code (100견이 불여일타)"
   ]
  },
  {
   "cell_type": "markdown",
   "metadata": {},
   "source": [
    "# (검색사이트 뉴스기사 크롤링 예시 - 주석제거후 활용하세요)\n",
    "##### 책에도 적어두었지만, 합법적인 저술을 위해서 동의를 구한 웹사이트인 class101 을 크롤링했습니다.\n",
    "##### 다만, 실제 검색사이트를 크롤링해보고 싶은 분들을 위해서\n",
    "아래의 내용과 같이 다른 검색사이트의 뉴스기사를 크롤링해보는 예제를 준비해두었습니다. 매우 비슷한 내용이기 때문에 한번 보고 다음장으로 넘어가 주세요"
   ]
  },
  {
   "cell_type": "code",
   "execution_count": 12,
   "metadata": {},
   "outputs": [
    {
     "name": "stderr",
     "output_type": "stream",
     "text": [
      "<ipython-input-12-d0e009eb76a2>:4: DeprecationWarning: find_element_by_xpath is deprecated. Please use find_element(by=By.XPATH, value=xpath) instead\n",
      "  greenbox = driver.find_element_by_xpath(\"/html/body/div[2]/div[2]/div[1]/div/div[3]/form/fieldset/div/input\")\n",
      "<ipython-input-12-d0e009eb76a2>:6: DeprecationWarning: find_element_by_class_name is deprecated. Please use find_element(by=By.CLASS_NAME, value=name) instead\n",
      "  driver.find_element_by_class_name(\"ico_search_submit\").click()\n",
      "<ipython-input-12-d0e009eb76a2>:11: DeprecationWarning: find_element_by_class_name is deprecated. Please use find_element(by=By.CLASS_NAME, value=name) instead\n",
      "  first_sel = driver.find_element_by_class_name(\"list_news\")\n"
     ]
    },
    {
     "data": {
      "text/plain": [
       "['블랙핑크, 적수 없다…글로벌 유튜브 송 차트 6주 연속 1위',\n",
       " '유튜브 ‘다정한 부부’, 법적 부부 됐다… 37살 나이 차 극복',\n",
       " '“수리남 50분이면 다 보는데”... 넷플릭스·디즈니 대신 ‘유튜브 요약본’...',\n",
       " '한동훈 한달간 미행당해…경찰, 유튜브 운영자 수사',\n",
       " \"'유튜브로 살인 공부'…옛 여친 스토킹·협박 2심 형량↑\",\n",
       " '한동훈 장관 미행한 혐의 유튜브 채널 관계자…\"취재 위한 것\"',\n",
       " '한동훈 “한달간 퇴근길 미행 당했다”…피의자는 유튜브 채널 직원',\n",
       " '[인플루언서 프리즘] 버스·지하철·기차도 콘텐츠…유튜브 속 대중교통 콘텐...',\n",
       " \"임영웅, 유튜브 인기 뮤직 비디오 4위기록…지금은 '영웅시대'\",\n",
       " '10월의 모터트렌드 유튜브']"
      ]
     },
     "execution_count": 12,
     "metadata": {},
     "output_type": "execute_result"
    }
   ],
   "source": [
    "# #1-2.네이버에 접속한다.\n",
    "# driver.get(\"https://www.naver.com\")\n",
    "# #1-3.원하는 키워드를 검색한다.\n",
    "# greenbox = driver.find_element_by_xpath(\"/html/body/div[2]/div[2]/div[1]/div/div[3]/form/fieldset/div/input\")\n",
    "# greenbox.send_keys(\"유튜브\")\n",
    "# driver.find_element_by_class_name(\"ico_search_submit\").click()\n",
    "# #1-4.뉴스탭을 클릭한다(+ 최신순)\n",
    "# #유튜브의 뉴스탭만 클릭하고 싶으면?  driver.get(\"https://search.naver.com/search.naver?where=news&sm=tab_jum&query=유튜브\")\n",
    "# driver.get(\"https://search.naver.com/search.naver?where=news&query=유튜브\")\n",
    "# #1-5.뉴스탭에 나오는 기사들을 최신순으로 배열하여 리스트 변수에 담는다.\n",
    "# first_sel = driver.find_element_by_class_name(\"list_news\")\n",
    "# second_sel = first_sel.find_elements_by_class_name(\"bx\")\n",
    "# news_title_lists = []\n",
    "# for a in second_sel:\n",
    "#     news_title_lists.append(a.text.split(\"\\n\")[2])\n",
    "# news_title_lists"
   ]
  },
  {
   "cell_type": "markdown",
   "metadata": {},
   "source": [
    "## 2단계-가져온 기사 00개를 엑셀 한 시트로 만든다. (직접코딩)"
   ]
  },
  {
   "cell_type": "code",
   "execution_count": 54,
   "metadata": {},
   "outputs": [],
   "source": [
    "# #2-1. 1단계에서 만들어진 리스트변수를 엑셀로 변환한다.\n",
    "\n",
    "import pandas as pd\n",
    "df = pd.DataFrame(news_title_lists)\n",
    "df.to_excel('bhyunco_test.xlsx')"
   ]
  },
  {
   "cell_type": "code",
   "execution_count": 2,
   "metadata": {},
   "outputs": [],
   "source": [
    "#write your code (100견이 불여일타)"
   ]
  },
  {
   "cell_type": "markdown",
   "metadata": {},
   "source": [
    "[][][][][][][][][][][][][][][][][][][][][][][][][][][][][][][][][][][][][][][][][][][][][][][][][][][][][][][][][][][][]"
   ]
  },
  {
   "cell_type": "markdown",
   "metadata": {},
   "source": [
    "## 3단계-가져온 기사 제목을 워드클라우드로 제작한다.(코드활용)"
   ]
  },
  {
   "cell_type": "code",
   "execution_count": 61,
   "metadata": {},
   "outputs": [
    {
     "name": "stdout",
     "output_type": "stream",
     "text": [
      "Requirement already satisfied: wordcloud in c:\\users\\jooladen\\anaconda3\\lib\\site-packages (1.9.4)\n",
      "Requirement already satisfied: numpy>=1.6.1 in c:\\users\\jooladen\\anaconda3\\lib\\site-packages (from wordcloud) (1.26.4)\n",
      "Requirement already satisfied: pillow in c:\\users\\jooladen\\anaconda3\\lib\\site-packages (from wordcloud) (10.4.0)\n",
      "Requirement already satisfied: matplotlib in c:\\users\\jooladen\\anaconda3\\lib\\site-packages (from wordcloud) (3.9.2)\n",
      "Requirement already satisfied: contourpy>=1.0.1 in c:\\users\\jooladen\\anaconda3\\lib\\site-packages (from matplotlib->wordcloud) (1.2.0)\n",
      "Requirement already satisfied: cycler>=0.10 in c:\\users\\jooladen\\anaconda3\\lib\\site-packages (from matplotlib->wordcloud) (0.11.0)\n",
      "Requirement already satisfied: fonttools>=4.22.0 in c:\\users\\jooladen\\anaconda3\\lib\\site-packages (from matplotlib->wordcloud) (4.51.0)\n",
      "Requirement already satisfied: kiwisolver>=1.3.1 in c:\\users\\jooladen\\anaconda3\\lib\\site-packages (from matplotlib->wordcloud) (1.4.4)\n",
      "Requirement already satisfied: packaging>=20.0 in c:\\users\\jooladen\\anaconda3\\lib\\site-packages (from matplotlib->wordcloud) (24.1)\n",
      "Requirement already satisfied: pyparsing>=2.3.1 in c:\\users\\jooladen\\anaconda3\\lib\\site-packages (from matplotlib->wordcloud) (3.1.2)\n",
      "Requirement already satisfied: python-dateutil>=2.7 in c:\\users\\jooladen\\anaconda3\\lib\\site-packages (from matplotlib->wordcloud) (2.9.0.post0)\n",
      "Requirement already satisfied: six>=1.5 in c:\\users\\jooladen\\anaconda3\\lib\\site-packages (from python-dateutil>=2.7->matplotlib->wordcloud) (1.16.0)\n"
     ]
    },
    {
     "data": {
      "text/plain": [
       "<wordcloud.wordcloud.WordCloud at 0x22a2a7bf860>"
      ]
     },
     "execution_count": 61,
     "metadata": {},
     "output_type": "execute_result"
    }
   ],
   "source": [
    "#3-1. 1단계에서 만들어진 리스트변수의 본문들을 합쳐서 워드크라우드를 만드는 라이브러리를 만든다.\n",
    "!pip install wordcloud\n",
    "#import sys\n",
    "from wordcloud import WordCloud\n",
    "\n",
    "#filename = sys.argv[1]\n",
    "#print(\"filename >>> \", filename)\n",
    "wc = WordCloud(font_path=\"BMJUA_ttf.ttf\")\n",
    "wc.generate(str(news_title_lists))\n",
    "wc.to_file('wordcloud_news3.png')\n"
   ]
  },
  {
   "cell_type": "code",
   "execution_count": 12,
   "metadata": {},
   "outputs": [],
   "source": [
    "#write your code (100견이 불여일타)"
   ]
  },
  {
   "cell_type": "markdown",
   "metadata": {},
   "source": [
    "[][][][][][][][][][][][][][][][][][][][][][][][][][][][][][][][][][][][][][][][][][][][][][][][][][][][][][][][][][][][]"
   ]
  },
  {
   "cell_type": "markdown",
   "metadata": {},
   "source": [
    "## 4단계-제작된 이미지를 원하는 곳으로 전송한다.(코드활용)"
   ]
  },
  {
   "cell_type": "code",
   "execution_count": 8,
   "metadata": {},
   "outputs": [],
   "source": [
    "#4-1 . 만들어진 엑셀과 워드크라우드 이미지를 내가 원하는 곳으로 메일전송한다."
   ]
  },
  {
   "cell_type": "code",
   "execution_count": 9,
   "metadata": {},
   "outputs": [],
   "source": [
    "#지메일을 활용해서 메일을 보낸다.\n",
    "#사전작업 확인 ( 비현코 유튜브 활용 )"
   ]
  },
  {
   "cell_type": "code",
   "execution_count": null,
   "metadata": {},
   "outputs": [],
   "source": [
    "#사전작업 - gmail 계정에서 IMAP 설정하는 방법\n",
    "\n",
    "지메일설정법\n",
    "1. 지메일 로그인\n",
    "2. 메일 설정 클릭\n",
    "3. 전달 및 POP/IMAP 클릭\n",
    "4. IMAP 액세스 - IMAP 사용 클릭\n",
    "5. 변경사항 저장\n",
    "\n",
    "\n",
    "앱 비밀번호 생성법\n",
    "1. https://myaccount.google.com/security 접속\n",
    "2. google에 로그인 탭에서 2단계 인증완료\n",
    "3. 앱 비밀번호 클릭\n",
    "4. 앱 비밀번호 생성 ( 앱 선택 , 기기선택 )\n",
    "5. 생성된 앱 비밀번호 저장\n",
    "( 잊지 않을 수 있도록 비밀번호를 여기에 적어두세요 : ())"
   ]
  },
  {
   "cell_type": "code",
   "execution_count": 9,
   "metadata": {},
   "outputs": [
    {
     "data": {
      "text/plain": [
       "(221, b'2.0.0 closing connection h3sm10299247pfc.184 - gsmtp')"
      ]
     },
     "execution_count": 9,
     "metadata": {},
     "output_type": "execute_result"
    }
   ],
   "source": [
    "import os\n",
    "import smtplib\n",
    "from email.mime.multipart import MIMEMultipart\n",
    "from email.mime.text import MIMEText\n",
    "from email.mime.base import MIMEBase\n",
    "from selenium.webdriver.chrome.options import Options\n",
    "from email import encoders\n",
    "\n",
    "#본인이 운영하는 지메일주소\n",
    "smtp_user = '' #본인의 Gmail 주소를 집어넣어주세요\n",
    "#본인이 운영하는 지메일에서 확보가능한 password\n",
    "smtp_password = '' #본인의 password를 집어넣어주세요\n",
    "emails = [''] # 보내고자 하는 이메일을 적어주세요.\n",
    "server = 'smtp.gmail.com'\n",
    "port = 587\n",
    "\n",
    "for email in emails:\n",
    "    msg = MIMEMultipart(\"alternative\")\n",
    "    msg[\"Subject\"] = '안녕하세요 유튜브 관련 최근 뉴스의 워드클라우드와 제목LIST입니다.'\n",
    "    msg[\"From\"] = smtp_user\n",
    "    msg[\"To\"] = email\n",
    "    msg.attach(\n",
    "        MIMEText(\n",
    "            \"오늘 아침 임원/팀장회의 자료입니다. 문의사항이 있으실 경우 회신부탁드립니다.\",\n",
    "            'plain'\n",
    "        )\n",
    "    )\n",
    "    \n",
    "    \n",
    "    \n",
    "    #워드크라우드 첨부\n",
    "    attachment = open('wordcloud_news2.png', 'rb')\n",
    "    part = MIMEBase('application', 'octet-stream')\n",
    "    part.set_payload((attachment).read())\n",
    "    encoders.encode_base64(part)\n",
    "    part.add_header('Content-Disposition', \"attachment; filename= \" + 'wordcloud_news2.png')\n",
    "    msg.attach(part)\n",
    "    \n",
    "    #엑셀첨부\n",
    "    attachment = open('bhyunco_test.xlsx', 'rb')\n",
    "    part = MIMEBase('application', 'octet-stream')\n",
    "    part.set_payload((attachment).read())\n",
    "    encoders.encode_base64(part)\n",
    "    part.add_header('Content-Disposition', \"attachment; filename= \" + 'bhyunco_test.xlsx')\n",
    "    msg.attach(part)\n",
    "    \n",
    "    \n",
    "    \n",
    "    \n",
    "    s = smtplib.SMTP(server, port)\n",
    "    s.ehlo()\n",
    "    s.starttls()\n",
    "    s.login(smtp_user, smtp_password)\n",
    "    s.sendmail(smtp_user, email, msg.as_string())\n",
    "s.quit()"
   ]
  },
  {
   "cell_type": "code",
   "execution_count": null,
   "metadata": {},
   "outputs": [],
   "source": [
    "#write your code (100견이 불여일타)"
   ]
  },
  {
   "cell_type": "code",
   "execution_count": 21,
   "metadata": {},
   "outputs": [],
   "source": [
    "import time"
   ]
  },
  {
   "cell_type": "code",
   "execution_count": 24,
   "metadata": {},
   "outputs": [],
   "source": [
    "temp_time = 3"
   ]
  },
  {
   "cell_type": "code",
   "execution_count": 25,
   "metadata": {
    "scrolled": true
   },
   "outputs": [
    {
     "name": "stdout",
     "output_type": "stream",
     "text": [
      "Requirement already satisfied: selenium in c:\\users\\asus\\anaconda3\\lib\\site-packages (3.141.0)\n",
      "Requirement already satisfied: urllib3 in c:\\users\\asus\\anaconda3\\lib\\site-packages (from selenium) (1.25.9)\n",
      "Requirement already satisfied: openpyxl in c:\\users\\asus\\anaconda3\\lib\\site-packages (3.0.4)\n",
      "Requirement already satisfied: et-xmlfile in c:\\users\\asus\\anaconda3\\lib\\site-packages (from openpyxl) (1.0.1)\n",
      "Requirement already satisfied: jdcal in c:\\users\\asus\\anaconda3\\lib\\site-packages (from openpyxl) (1.4.1)\n",
      "Requirement already satisfied: wordcloud in c:\\users\\asus\\anaconda3\\lib\\site-packages (1.8.1)\n",
      "Requirement already satisfied: pillow in c:\\users\\asus\\anaconda3\\lib\\site-packages (from wordcloud) (7.2.0)\n",
      "Requirement already satisfied: numpy>=1.6.1 in c:\\users\\asus\\anaconda3\\lib\\site-packages (from wordcloud) (1.18.5)\n",
      "Requirement already satisfied: matplotlib in c:\\users\\asus\\anaconda3\\lib\\site-packages (from wordcloud) (3.2.2)\n",
      "Requirement already satisfied: cycler>=0.10 in c:\\users\\asus\\anaconda3\\lib\\site-packages (from matplotlib->wordcloud) (0.10.0)\n",
      "Requirement already satisfied: pyparsing!=2.0.4,!=2.1.2,!=2.1.6,>=2.0.1 in c:\\users\\asus\\anaconda3\\lib\\site-packages (from matplotlib->wordcloud) (2.4.7)\n",
      "Requirement already satisfied: kiwisolver>=1.0.1 in c:\\users\\asus\\anaconda3\\lib\\site-packages (from matplotlib->wordcloud) (1.2.0)\n",
      "Requirement already satisfied: python-dateutil>=2.1 in c:\\users\\asus\\anaconda3\\lib\\site-packages (from matplotlib->wordcloud) (2.8.1)\n",
      "Requirement already satisfied: six in c:\\users\\asus\\anaconda3\\lib\\site-packages (from cycler>=0.10->matplotlib->wordcloud) (1.15.0)\n"
     ]
    },
    {
     "data": {
      "text/plain": [
       "(221, b'2.0.0 closing connection gj1sm14208565pjb.11 - gsmtp')"
      ]
     },
     "execution_count": 25,
     "metadata": {},
     "output_type": "execute_result"
    }
   ],
   "source": [
    "# 원코드로 실행하기 (직접 해보시길 바랍니다 - 모든코드를 한번에 작동시키기)\n"
   ]
  }
 ],
 "metadata": {
  "kernelspec": {
   "display_name": "Python 3 (ipykernel)",
   "language": "python",
   "name": "python3"
  },
  "language_info": {
   "codemirror_mode": {
    "name": "ipython",
    "version": 3
   },
   "file_extension": ".py",
   "mimetype": "text/x-python",
   "name": "python",
   "nbconvert_exporter": "python",
   "pygments_lexer": "ipython3",
   "version": "3.12.7"
  }
 },
 "nbformat": 4,
 "nbformat_minor": 4
}
