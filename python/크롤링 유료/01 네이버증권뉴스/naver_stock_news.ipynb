{
 "cells": [
  {
   "cell_type": "code",
   "execution_count": 18,
   "metadata": {},
   "outputs": [
    {
     "name": "stdout",
     "output_type": "stream",
     "text": [
      "<dd class=\"articleSubject\">\n",
      "<a href=\"/news/news_read.naver?article_id=0005728529&amp;office_id=018&amp;mode=mainnews&amp;type=&amp;date=2024-04-30&amp;page=1\">롯데건설 사업장 17곳 '사모사채 총 2.3조'…2027년 3월 만기</a>\n",
      "</dd>\n",
      "\n",
      "롯데건설 사업장 17곳 '사모사채 총 2.3조'…2027년 3월 만기\n",
      "\n",
      "--------\n",
      "/news/news_read.naver?article_id=0005728529&office_id=018&mode=mainnews&type=&date=2024-04-30&page=1\n",
      "/news/news_read.naver?article_id=0005728529&office_id=018&mode=mainnews&type=&date=2024-04-30&page=1\n",
      "--------\n",
      "['\\n\\t\\t\\t\\t\\t\\t\\t\\t\\t\\t이 기사는 2024년04월30일 21시47분에 마켓인 프리미엄 콘텐츠로 선공개 되었습니다. 롯데건설이 시공사로 참여한 사업장 17곳의 ..\\n\\t\\t\\t\\t\\t\\t\\t\\t\\t\\t', <span class=\"press\">이데일리 </span>, '\\n', <span class=\"bar\">|</span>, '\\n', <span class=\"wdate\">2024-04-30 22:48:01</span>, '\\n']\n",
      "--------\n",
      "\n",
      "\t\t\t\t\t\t\t\t\t\t이 기사는 2024년04월30일 21시47분에 마켓인 프리미엄 콘텐츠로 선공개 되었습니다. 롯데건설이 시공사로 참여한 사업장 17곳의 ..\n",
      "\t\t\t\t\t\t\t\t\t\t\n",
      "--------\n"
     ]
    }
   ],
   "source": [
    "from bs4 import BeautifulSoup\n",
    "import requests\n",
    "\n",
    "# 스크랩할 웹페이지 URL\n",
    "url = \"https://finance.naver.com/news/mainnews.naver?date=2024-04-30\"\n",
    "\n",
    "# HTTP 요청을 보내고 응답받기\n",
    "response = requests.get(url)\n",
    "\n",
    "html = response.text\n",
    "\n",
    "# HTML 응답을 BeautifulSoup 객체로 파싱\n",
    "soup = BeautifulSoup(html, 'html.parser')\n",
    "\n",
    "\n",
    "all = soup.select_one(\".articleSubject\")\n",
    "title = soup.select_one(\".articleSubject\").text\n",
    "link = soup.select_one(\".articleSubject > a\").get('href')\n",
    "link2 = soup.select_one(\".articleSubject > a\").attrs['href']\n",
    "summaryAll = soup.select_one(\".articleSummary\").contents\n",
    "content = soup.select_one(\".articleSummary\").contents[0]\n",
    "print(all)\n",
    "print(title)\n",
    "print(\"--------\")\n",
    "print(link)\n",
    "print(link2)\n",
    "print(\"--------\")\n",
    "print(summaryAll)\n",
    "print(\"--------\")\n",
    "print(content)\n",
    "print(\"--------\")\n",
    "\n",
    "\n",
    "\n"
   ]
  },
  {
   "cell_type": "code",
   "execution_count": null,
   "metadata": {},
   "outputs": [],
   "source": []
  },
  {
   "cell_type": "code",
   "execution_count": null,
   "metadata": {},
   "outputs": [],
   "source": []
  }
 ],
 "metadata": {
  "kernelspec": {
   "display_name": "base",
   "language": "python",
   "name": "python3"
  },
  "language_info": {
   "codemirror_mode": {
    "name": "ipython",
    "version": 3
   },
   "file_extension": ".py",
   "mimetype": "text/x-python",
   "name": "python",
   "nbconvert_exporter": "python",
   "pygments_lexer": "ipython3",
   "version": "3.12.7"
  }
 },
 "nbformat": 4,
 "nbformat_minor": 2
}
