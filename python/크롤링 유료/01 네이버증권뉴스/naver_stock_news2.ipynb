{
 "cells": [
  {
   "cell_type": "code",
   "execution_count": null,
   "metadata": {},
   "outputs": [
    {
     "name": "stdout",
     "output_type": "stream",
     "text": [
      "https://n.news.naver.com/mnews/article/018/0005728529\n"
     ]
    }
   ],
   "source": [
    "from selenium import webdriver\n",
    "from selenium.webdriver.chrome.service import Service\n",
    "from webdriver_manager.chrome import ChromeDriverManager\n",
    "from bs4 import BeautifulSoup\n",
    "\n",
    "# 웹드라이버 설정 (예: Chrome)\n",
    "driver = webdriver.Chrome(service=Service(ChromeDriverManager().install()))\n",
    "\n",
    "# 페이지 열기\n",
    "url = \"https://finance.naver.com/news/mainnews.naver?date=2024-04-30\"\n",
    "driver.get(url)\n",
    "\n",
    "# 페이지 로드 후 HTML 가져오기\n",
    "html = driver.page_source\n",
    "\n",
    "# BeautifulSoup으로 파싱\n",
    "soup = BeautifulSoup(html, 'html.parser')\n",
    "\n",
    "link = soup.select_one(\".articleSubject > a\").attrs['href']\n",
    "\n",
    "print(link)\n",
    "\n",
    "\n",
    "#input()\n",
    "# 웹드라이버 종료\n",
    "#driver.quit#\n"
   ]
  },
  {
   "cell_type": "code",
   "execution_count": null,
   "metadata": {},
   "outputs": [],
   "source": []
  }
 ],
 "metadata": {
  "kernelspec": {
   "display_name": "base",
   "language": "python",
   "name": "python3"
  },
  "language_info": {
   "codemirror_mode": {
    "name": "ipython",
    "version": 3
   },
   "file_extension": ".py",
   "mimetype": "text/x-python",
   "name": "python",
   "nbconvert_exporter": "python",
   "pygments_lexer": "ipython3",
   "version": "3.12.7"
  }
 },
 "nbformat": 4,
 "nbformat_minor": 2
}
