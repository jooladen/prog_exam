{
 "cells": [
  {
   "cell_type": "code",
   "execution_count": null,
   "id": "045eaa75-4d94-443f-9fc6-ed2afd014911",
   "metadata": {},
   "outputs": [],
   "source": [
    "from selenium import webdriver\n",
    "from selenium.webdriver.common.by import By\n",
    "from selenium.webdriver.chrome.service import Service\n",
    "from webdriver_manager.chrome import ChromeDriverManager\n",
    "from time import sleep\n",
    "import pandas as pd\n",
    "from tqdm import tqdm  # tqdm 임포트\n",
    "\n",
    "# WebDriver 설정\n",
    "driver = webdriver.Chrome(service=Service(ChromeDriverManager().install()))\n",
    "\n",
    "# 페이지 열기 (여기에 페이지 URL을 넣으세요)\n",
    "url = \"https://www.billboard.com/charts/hot-100/\"  # 예시 URL, 실제 URL로 수정 필요\n",
    "driver.get(url)\n",
    "\n",
    "# 페이지가 로드될 때까지 잠시 대기\n",
    "sleep(5)\n",
    "\n",
    "# Song Title과 Artist Name을 담을 리스트\n",
    "songs_and_artists = []\n",
    "\n",
    "# Song Title과 Artist Name을 포함하는 HTML 요소를 찾기\n",
    "# 해당 클래스명을 기반으로 Song Title과 Artist Name을 찾아서 추출\n",
    "items = driver.find_elements(By.CSS_SELECTOR, '.o-chart-results-list__item')\n",
    "\n",
    "# tqdm을 사용해 프로그래스 바 추가\n",
    "for item in tqdm(items, desc=\"Extracting songs\", unit=\"song\"):\n",
    "    try:\n",
    "        # Song Title과 Artist Name 추출\n",
    "        song_title = item.find_element(By.CSS_SELECTOR, '.c-title').text.strip()\n",
    "        artist_name = item.find_element(By.CSS_SELECTOR, '.c-label').text.strip()\n",
    "        \n",
    "        # Song Title과 Artist Name을 리스트에 추가\n",
    "        songs_and_artists.append((song_title, artist_name))\n",
    "    except:\n",
    "        # 예외 처리: Song Title이나 Artist Name이 없는 경우\n",
    "        continue\n",
    "\n",
    "# DataFrame으로 변환하여 엑셀로 저장\n",
    "df = pd.DataFrame(songs_and_artists, columns=['Song Title', 'Artist Name'])\n",
    "\n",
    "# 엑셀 파일로 저장\n",
    "df.to_excel(\"hot_100_songs.xlsx\", index=False, engine='openpyxl')\n",
    "\n",
    "print(\"엑셀 파일로 저장되었습니다.\")\n",
    "\n",
    "# 브라우저 종료\n",
    "#driver.quit()\n",
    "input()"
   ]
  }
 ],
 "metadata": {
  "kernelspec": {
   "display_name": "Python 3 (ipykernel)",
   "language": "python",
   "name": "python3"
  },
  "language_info": {
   "codemirror_mode": {
    "name": "ipython",
    "version": 3
   },
   "file_extension": ".py",
   "mimetype": "text/x-python",
   "name": "python",
   "nbconvert_exporter": "python",
   "pygments_lexer": "ipython3",
   "version": "3.12.7"
  }
 },
 "nbformat": 4,
 "nbformat_minor": 5
}
