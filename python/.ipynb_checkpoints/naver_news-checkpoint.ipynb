{
 "cells": [
  {
   "cell_type": "code",
   "execution_count": 7,
   "id": "3140b63b-b9ab-4e73-b95f-756222876b67",
   "metadata": {},
   "outputs": [
    {
     "ename": "IndentationError",
     "evalue": "expected an indented block after 'finally' statement on line 27 (3860590474.py, line 28)",
     "output_type": "error",
     "traceback": [
      "\u001b[1;36m  Cell \u001b[1;32mIn[7], line 28\u001b[1;36m\u001b[0m\n\u001b[1;33m    input()\u001b[0m\n\u001b[1;37m    ^\u001b[0m\n\u001b[1;31mIndentationError\u001b[0m\u001b[1;31m:\u001b[0m expected an indented block after 'finally' statement on line 27\n"
     ]
    }
   ],
   "source": [
    "from selenium import webdriver\n",
    "from selenium.webdriver.common.by import By\n",
    "from selenium.webdriver.chrome.service import Service\n",
    "from webdriver_manager.chrome import ChromeDriverManager\n",
    "from time import sleep\n",
    "import pandas as pd\n",
    "from tqdm import tqdm  # tqdm 임포트\n",
    "import csv\n",
    "\n",
    "# WebDriver 설정\n",
    "driver = webdriver.Chrome(service=Service(ChromeDriverManager().install()))\n",
    "\n",
    "# 네이버 뉴스 사이트 열기\n",
    "url = \"https://news.naver.com/\"  # 예시 URL, 실제 URL로 수정 필요\n",
    "driver.get(url)\n",
    "\n",
    "# 잠시 대기 (페이지 로딩)\n",
    "sleep(2)\n",
    "\n",
    "try:\n",
    "    # class=\"cnf_news_title\" 요소 모두 찾기\n",
    "    titles = driver.find_elements(By.CLASS_NAME, \"cnf_news_title\")\n",
    "    \n",
    "    # 반복하며 텍스트 출력\n",
    "    for idx, title in enumerate(titles, start=1):\n",
    "        print(f\"{idx}. {title.text}\")\n",
    "finally:\n",
    "    input()"
   ]
  },
  {
   "cell_type": "code",
   "execution_count": null,
   "id": "db96520d-3c47-48cd-8227-8369ee04b2f4",
   "metadata": {},
   "outputs": [],
   "source": []
  }
 ],
 "metadata": {
  "kernelspec": {
   "display_name": "Python 3 (ipykernel)",
   "language": "python",
   "name": "python3"
  },
  "language_info": {
   "codemirror_mode": {
    "name": "ipython",
    "version": 3
   },
   "file_extension": ".py",
   "mimetype": "text/x-python",
   "name": "python",
   "nbconvert_exporter": "python",
   "pygments_lexer": "ipython3",
   "version": "3.12.7"
  }
 },
 "nbformat": 4,
 "nbformat_minor": 5
}
