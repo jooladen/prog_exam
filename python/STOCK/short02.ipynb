{
 "cells": [
  {
   "cell_type": "code",
   "execution_count": 12,
   "id": "045eaa75-4d94-443f-9fc6-ed2afd014911",
   "metadata": {},
   "outputs": [
    {
     "name": "stderr",
     "output_type": "stream",
     "text": [
      "[*********************100%***********************]  1 of 1 completed\n"
     ]
    },
    {
     "ename": "ValueError",
     "evalue": "Data must be 1-dimensional, got ndarray of shape (1229, 1) instead",
     "output_type": "error",
     "traceback": [
      "\u001b[1;31m---------------------------------------------------------------------------\u001b[0m",
      "\u001b[1;31mValueError\u001b[0m                                Traceback (most recent call last)",
      "Cell \u001b[1;32mIn[12], line 19\u001b[0m\n\u001b[0;32m     17\u001b[0m \u001b[38;5;66;03m# 2. 기술적 지표 계산\u001b[39;00m\n\u001b[0;32m     18\u001b[0m close_series \u001b[38;5;241m=\u001b[39m df[\u001b[38;5;124m\"\u001b[39m\u001b[38;5;124mClose\u001b[39m\u001b[38;5;124m\"\u001b[39m]\n\u001b[1;32m---> 19\u001b[0m df[\u001b[38;5;124m\"\u001b[39m\u001b[38;5;124mRSI\u001b[39m\u001b[38;5;124m\"\u001b[39m] \u001b[38;5;241m=\u001b[39m RSIIndicator(close\u001b[38;5;241m=\u001b[39mclose_series, window\u001b[38;5;241m=\u001b[39m\u001b[38;5;241m14\u001b[39m)\u001b[38;5;241m.\u001b[39mrsi()\n\u001b[0;32m     20\u001b[0m df[\u001b[38;5;124m\"\u001b[39m\u001b[38;5;124mVolume_Spike\u001b[39m\u001b[38;5;124m\"\u001b[39m] \u001b[38;5;241m=\u001b[39m df[\u001b[38;5;124m\"\u001b[39m\u001b[38;5;124mVolume\u001b[39m\u001b[38;5;124m\"\u001b[39m] \u001b[38;5;241m>\u001b[39m df[\u001b[38;5;124m\"\u001b[39m\u001b[38;5;124mVolume\u001b[39m\u001b[38;5;124m\"\u001b[39m]\u001b[38;5;241m.\u001b[39mrolling(\u001b[38;5;241m5\u001b[39m)\u001b[38;5;241m.\u001b[39mmean() \u001b[38;5;241m*\u001b[39m \u001b[38;5;241m2\u001b[39m\n\u001b[0;32m     21\u001b[0m df[\u001b[38;5;124m\"\u001b[39m\u001b[38;5;124mBullish_Candle\u001b[39m\u001b[38;5;124m\"\u001b[39m] \u001b[38;5;241m=\u001b[39m df[\u001b[38;5;124m\"\u001b[39m\u001b[38;5;124mClose\u001b[39m\u001b[38;5;124m\"\u001b[39m] \u001b[38;5;241m>\u001b[39m df[\u001b[38;5;124m\"\u001b[39m\u001b[38;5;124mOpen\u001b[39m\u001b[38;5;124m\"\u001b[39m]\n",
      "File \u001b[1;32mc:\\Users\\jooladen\\anaconda3\\Lib\\site-packages\\ta\\momentum.py:34\u001b[0m, in \u001b[0;36mRSIIndicator.__init__\u001b[1;34m(self, close, window, fillna)\u001b[0m\n\u001b[0;32m     32\u001b[0m \u001b[38;5;28mself\u001b[39m\u001b[38;5;241m.\u001b[39m_window \u001b[38;5;241m=\u001b[39m window\n\u001b[0;32m     33\u001b[0m \u001b[38;5;28mself\u001b[39m\u001b[38;5;241m.\u001b[39m_fillna \u001b[38;5;241m=\u001b[39m fillna\n\u001b[1;32m---> 34\u001b[0m \u001b[38;5;28mself\u001b[39m\u001b[38;5;241m.\u001b[39m_run()\n",
      "File \u001b[1;32mc:\\Users\\jooladen\\anaconda3\\Lib\\site-packages\\ta\\momentum.py:48\u001b[0m, in \u001b[0;36mRSIIndicator._run\u001b[1;34m(self)\u001b[0m\n\u001b[0;32m     44\u001b[0m emadn \u001b[38;5;241m=\u001b[39m down_direction\u001b[38;5;241m.\u001b[39mewm(\n\u001b[0;32m     45\u001b[0m     alpha\u001b[38;5;241m=\u001b[39m\u001b[38;5;241m1\u001b[39m \u001b[38;5;241m/\u001b[39m \u001b[38;5;28mself\u001b[39m\u001b[38;5;241m.\u001b[39m_window, min_periods\u001b[38;5;241m=\u001b[39mmin_periods, adjust\u001b[38;5;241m=\u001b[39m\u001b[38;5;28;01mFalse\u001b[39;00m\n\u001b[0;32m     46\u001b[0m )\u001b[38;5;241m.\u001b[39mmean()\n\u001b[0;32m     47\u001b[0m relative_strength \u001b[38;5;241m=\u001b[39m emaup \u001b[38;5;241m/\u001b[39m emadn\n\u001b[1;32m---> 48\u001b[0m \u001b[38;5;28mself\u001b[39m\u001b[38;5;241m.\u001b[39m_rsi \u001b[38;5;241m=\u001b[39m pd\u001b[38;5;241m.\u001b[39mSeries(\n\u001b[0;32m     49\u001b[0m     np\u001b[38;5;241m.\u001b[39mwhere(emadn \u001b[38;5;241m==\u001b[39m \u001b[38;5;241m0\u001b[39m, \u001b[38;5;241m100\u001b[39m, \u001b[38;5;241m100\u001b[39m \u001b[38;5;241m-\u001b[39m (\u001b[38;5;241m100\u001b[39m \u001b[38;5;241m/\u001b[39m (\u001b[38;5;241m1\u001b[39m \u001b[38;5;241m+\u001b[39m relative_strength))),\n\u001b[0;32m     50\u001b[0m     index\u001b[38;5;241m=\u001b[39m\u001b[38;5;28mself\u001b[39m\u001b[38;5;241m.\u001b[39m_close\u001b[38;5;241m.\u001b[39mindex,\n\u001b[0;32m     51\u001b[0m )\n",
      "File \u001b[1;32mc:\\Users\\jooladen\\anaconda3\\Lib\\site-packages\\pandas\\core\\series.py:584\u001b[0m, in \u001b[0;36mSeries.__init__\u001b[1;34m(self, data, index, dtype, name, copy, fastpath)\u001b[0m\n\u001b[0;32m    582\u001b[0m         data \u001b[38;5;241m=\u001b[39m data\u001b[38;5;241m.\u001b[39mcopy()\n\u001b[0;32m    583\u001b[0m \u001b[38;5;28;01melse\u001b[39;00m:\n\u001b[1;32m--> 584\u001b[0m     data \u001b[38;5;241m=\u001b[39m sanitize_array(data, index, dtype, copy)\n\u001b[0;32m    586\u001b[0m     manager \u001b[38;5;241m=\u001b[39m _get_option(\u001b[38;5;124m\"\u001b[39m\u001b[38;5;124mmode.data_manager\u001b[39m\u001b[38;5;124m\"\u001b[39m, silent\u001b[38;5;241m=\u001b[39m\u001b[38;5;28;01mTrue\u001b[39;00m)\n\u001b[0;32m    587\u001b[0m     \u001b[38;5;28;01mif\u001b[39;00m manager \u001b[38;5;241m==\u001b[39m \u001b[38;5;124m\"\u001b[39m\u001b[38;5;124mblock\u001b[39m\u001b[38;5;124m\"\u001b[39m:\n",
      "File \u001b[1;32mc:\\Users\\jooladen\\anaconda3\\Lib\\site-packages\\pandas\\core\\construction.py:659\u001b[0m, in \u001b[0;36msanitize_array\u001b[1;34m(data, index, dtype, copy, allow_2d)\u001b[0m\n\u001b[0;32m    656\u001b[0m             subarr \u001b[38;5;241m=\u001b[39m cast(np\u001b[38;5;241m.\u001b[39mndarray, subarr)\n\u001b[0;32m    657\u001b[0m             subarr \u001b[38;5;241m=\u001b[39m maybe_infer_to_datetimelike(subarr)\n\u001b[1;32m--> 659\u001b[0m subarr \u001b[38;5;241m=\u001b[39m _sanitize_ndim(subarr, data, dtype, index, allow_2d\u001b[38;5;241m=\u001b[39mallow_2d)\n\u001b[0;32m    661\u001b[0m \u001b[38;5;28;01mif\u001b[39;00m \u001b[38;5;28misinstance\u001b[39m(subarr, np\u001b[38;5;241m.\u001b[39mndarray):\n\u001b[0;32m    662\u001b[0m     \u001b[38;5;66;03m# at this point we should have dtype be None or subarr.dtype == dtype\u001b[39;00m\n\u001b[0;32m    663\u001b[0m     dtype \u001b[38;5;241m=\u001b[39m cast(np\u001b[38;5;241m.\u001b[39mdtype, dtype)\n",
      "File \u001b[1;32mc:\\Users\\jooladen\\anaconda3\\Lib\\site-packages\\pandas\\core\\construction.py:718\u001b[0m, in \u001b[0;36m_sanitize_ndim\u001b[1;34m(result, data, dtype, index, allow_2d)\u001b[0m\n\u001b[0;32m    716\u001b[0m     \u001b[38;5;28;01mif\u001b[39;00m allow_2d:\n\u001b[0;32m    717\u001b[0m         \u001b[38;5;28;01mreturn\u001b[39;00m result\n\u001b[1;32m--> 718\u001b[0m     \u001b[38;5;28;01mraise\u001b[39;00m \u001b[38;5;167;01mValueError\u001b[39;00m(\n\u001b[0;32m    719\u001b[0m         \u001b[38;5;124mf\u001b[39m\u001b[38;5;124m\"\u001b[39m\u001b[38;5;124mData must be 1-dimensional, got ndarray of shape \u001b[39m\u001b[38;5;132;01m{\u001b[39;00mdata\u001b[38;5;241m.\u001b[39mshape\u001b[38;5;132;01m}\u001b[39;00m\u001b[38;5;124m instead\u001b[39m\u001b[38;5;124m\"\u001b[39m\n\u001b[0;32m    720\u001b[0m     )\n\u001b[0;32m    721\u001b[0m \u001b[38;5;28;01mif\u001b[39;00m is_object_dtype(dtype) \u001b[38;5;129;01mand\u001b[39;00m \u001b[38;5;28misinstance\u001b[39m(dtype, ExtensionDtype):\n\u001b[0;32m    722\u001b[0m     \u001b[38;5;66;03m# i.e. NumpyEADtype(\"O\")\u001b[39;00m\n\u001b[0;32m    724\u001b[0m     result \u001b[38;5;241m=\u001b[39m com\u001b[38;5;241m.\u001b[39masarray_tuplesafe(data, dtype\u001b[38;5;241m=\u001b[39mnp\u001b[38;5;241m.\u001b[39mdtype(\u001b[38;5;124m\"\u001b[39m\u001b[38;5;124mobject\u001b[39m\u001b[38;5;124m\"\u001b[39m))\n",
      "\u001b[1;31mValueError\u001b[0m: Data must be 1-dimensional, got ndarray of shape (1229, 1) instead"
     ]
    }
   ],
   "source": [
    "# 필수 라이브러리 설치\n",
    "# pip install yfinance ta pandas matplotlib\n",
    "\n",
    "import yfinance as yf\n",
    "import pandas as pd\n",
    "import numpy as np\n",
    "import matplotlib.pyplot as plt\n",
    "from ta.momentum import RSIIndicator\n",
    "\n",
    "# 1. 데이터 불러오기\n",
    "ticker = \"005930.KS\"  # 삼성전자\n",
    "start_date = \"2020-01-01\"\n",
    "end_date = \"2024-12-31\"\n",
    "df = yf.download(ticker, start=start_date, end=end_date)\n",
    "df = df.dropna()\n",
    "\n",
    "# 2. 기술적 지표 계산\n",
    "close_series = df[\"Close\"]\n",
    "df[\"RSI\"] = RSIIndicator(close=close_series, window=14).rsi()\n",
    "df[\"Volume_Spike\"] = df[\"Volume\"] > df[\"Volume\"].rolling(5).mean() * 2\n",
    "df[\"Bullish_Candle\"] = df[\"Close\"] > df[\"Open\"]\n",
    "\n",
    "# 3. 공매도 지표 (임의 생성, 실제는 크롤링 필요)\n",
    "np.random.seed(42)\n",
    "df[\"공매도_비중\"] = np.random.uniform(0.5, 2.5, len(df))\n",
    "df[\"공매도_급증\"] = df[\"공매도_비중\"].diff() > 0.5\n",
    "df[\"업틱룰_발동\"] = np.random.choice([True, False], size=len(df), p=[0.1, 0.9])\n",
    "df[\"외인_순매수\"] = np.random.randint(-1000, 1000, size=len(df))\n",
    "df[\"기관_순매수\"] = np.random.randint(-1000, 1000, size=len(df))\n",
    "\n",
    "# 4. 시그널 생성\n",
    "df[\"Signal\"] = (\n",
    "    (df[\"공매도_비중\"] > 1.5) &\n",
    "    (df[\"공매도_급증\"]) &\n",
    "    (df[\"업틱룰_발동\"]) &\n",
    "    (df[\"RSI\"] < 30) &\n",
    "    (df[\"Bullish_Candle\"]) &\n",
    "    (df[\"Volume_Spike\"]) &\n",
    "    (df[\"외인_순매수\"] > 0) &\n",
    "    (df[\"기관_순매수\"] > 0)\n",
    ")\n",
    "\n",
    "# 5. 백테스트\n",
    "df = df.reset_index()\n",
    "trades = []\n",
    "\n",
    "for i in range(len(df) - 6):\n",
    "    signal = df.at[i, \"Signal\"]  # <-- 핵심 수정: at 사용 (스칼라 값 보장)\n",
    "    if pd.notna(signal) and signal == True:\n",
    "        entry_date = df.at[i + 1, \"Date\"]\n",
    "        entry_price = df.at[i + 1, \"Open\"]\n",
    "        exit_price = df.at[i + 6, \"Close\"]\n",
    "        ret = (exit_price - entry_price) / entry_price\n",
    "        trades.append({\n",
    "            \"Entry Date\": entry_date,\n",
    "            \"Entry Price\": entry_price,\n",
    "            \"Exit Price\": exit_price,\n",
    "            \"Return\": ret\n",
    "        })\n",
    "\n",
    "# 6. 결과 출력\n",
    "results_df = pd.DataFrame(trades)\n",
    "\n",
    "if not results_df.empty:\n",
    "    results_df[\"Cumulative Return\"] = (1 + results_df[\"Return\"]).cumprod()\n",
    "    print(results_df)\n",
    "\n",
    "    # 7. 그래프\n",
    "    results_df.plot(x=\"Entry Date\", y=\"Cumulative Return\", marker='o', title=\"공매도 기반 전략 수익률\")\n",
    "    plt.grid(True)\n",
    "    plt.show()\n",
    "else:\n",
    "    print(\"📭 신호 조건에 해당하는 매매가 발생하지 않았습니다.\")\n"
   ]
  },
  {
   "cell_type": "code",
   "execution_count": 13,
   "id": "76cb3524-4247-4144-8d35-7e5fb59ef84e",
   "metadata": {},
   "outputs": [
    {
     "name": "stdout",
     "output_type": "stream",
     "text": [
      "Requirement already satisfied: yfinance in c:\\users\\jooladen\\anaconda3\\lib\\site-packages (0.2.55)\n",
      "Requirement already satisfied: ta in c:\\users\\jooladen\\anaconda3\\lib\\site-packages (0.11.0)\n",
      "Requirement already satisfied: pandas in c:\\users\\jooladen\\anaconda3\\lib\\site-packages (2.2.2)\n",
      "Requirement already satisfied: matplotlib in c:\\users\\jooladen\\anaconda3\\lib\\site-packages (3.9.2)\n",
      "Requirement already satisfied: numpy>=1.16.5 in c:\\users\\jooladen\\anaconda3\\lib\\site-packages (from yfinance) (1.26.4)\n",
      "Requirement already satisfied: requests>=2.31 in c:\\users\\jooladen\\anaconda3\\lib\\site-packages (from yfinance) (2.32.3)\n",
      "Requirement already satisfied: multitasking>=0.0.7 in c:\\users\\jooladen\\anaconda3\\lib\\site-packages (from yfinance) (0.0.11)\n",
      "Requirement already satisfied: platformdirs>=2.0.0 in c:\\users\\jooladen\\anaconda3\\lib\\site-packages (from yfinance) (3.10.0)\n",
      "Requirement already satisfied: pytz>=2022.5 in c:\\users\\jooladen\\anaconda3\\lib\\site-packages (from yfinance) (2024.1)\n",
      "Requirement already satisfied: frozendict>=2.3.4 in c:\\users\\jooladen\\anaconda3\\lib\\site-packages (from yfinance) (2.4.2)\n",
      "Requirement already satisfied: peewee>=3.16.2 in c:\\users\\jooladen\\anaconda3\\lib\\site-packages (from yfinance) (3.17.9)\n",
      "Requirement already satisfied: beautifulsoup4>=4.11.1 in c:\\users\\jooladen\\anaconda3\\lib\\site-packages (from yfinance) (4.12.3)\n",
      "Requirement already satisfied: python-dateutil>=2.8.2 in c:\\users\\jooladen\\anaconda3\\lib\\site-packages (from pandas) (2.9.0.post0)\n",
      "Requirement already satisfied: tzdata>=2022.7 in c:\\users\\jooladen\\anaconda3\\lib\\site-packages (from pandas) (2023.3)\n",
      "Requirement already satisfied: contourpy>=1.0.1 in c:\\users\\jooladen\\anaconda3\\lib\\site-packages (from matplotlib) (1.2.0)\n",
      "Requirement already satisfied: cycler>=0.10 in c:\\users\\jooladen\\anaconda3\\lib\\site-packages (from matplotlib) (0.11.0)\n",
      "Requirement already satisfied: fonttools>=4.22.0 in c:\\users\\jooladen\\anaconda3\\lib\\site-packages (from matplotlib) (4.51.0)\n",
      "Requirement already satisfied: kiwisolver>=1.3.1 in c:\\users\\jooladen\\anaconda3\\lib\\site-packages (from matplotlib) (1.4.4)\n",
      "Requirement already satisfied: packaging>=20.0 in c:\\users\\jooladen\\anaconda3\\lib\\site-packages (from matplotlib) (24.1)\n",
      "Requirement already satisfied: pillow>=8 in c:\\users\\jooladen\\anaconda3\\lib\\site-packages (from matplotlib) (10.4.0)\n",
      "Requirement already satisfied: pyparsing>=2.3.1 in c:\\users\\jooladen\\anaconda3\\lib\\site-packages (from matplotlib) (3.1.2)\n",
      "Requirement already satisfied: soupsieve>1.2 in c:\\users\\jooladen\\anaconda3\\lib\\site-packages (from beautifulsoup4>=4.11.1->yfinance) (2.5)\n",
      "Requirement already satisfied: six>=1.5 in c:\\users\\jooladen\\anaconda3\\lib\\site-packages (from python-dateutil>=2.8.2->pandas) (1.16.0)\n",
      "Requirement already satisfied: charset-normalizer<4,>=2 in c:\\users\\jooladen\\anaconda3\\lib\\site-packages (from requests>=2.31->yfinance) (3.3.2)\n",
      "Requirement already satisfied: idna<4,>=2.5 in c:\\users\\jooladen\\anaconda3\\lib\\site-packages (from requests>=2.31->yfinance) (3.7)\n",
      "Requirement already satisfied: urllib3<3,>=1.21.1 in c:\\users\\jooladen\\anaconda3\\lib\\site-packages (from requests>=2.31->yfinance) (2.2.3)\n",
      "Requirement already satisfied: certifi>=2017.4.17 in c:\\users\\jooladen\\anaconda3\\lib\\site-packages (from requests>=2.31->yfinance) (2025.1.31)\n",
      "Note: you may need to restart the kernel to use updated packages.\n"
     ]
    }
   ],
   "source": [
    "%pip install yfinance ta pandas matplotlib"
   ]
  },
  {
   "cell_type": "code",
   "execution_count": null,
   "id": "f39fe48f",
   "metadata": {},
   "outputs": [],
   "source": []
  }
 ],
 "metadata": {
  "kernelspec": {
   "display_name": "base",
   "language": "python",
   "name": "python3"
  },
  "language_info": {
   "codemirror_mode": {
    "name": "ipython",
    "version": 3
   },
   "file_extension": ".py",
   "mimetype": "text/x-python",
   "name": "python",
   "nbconvert_exporter": "python",
   "pygments_lexer": "ipython3",
   "version": "3.12.7"
  }
 },
 "nbformat": 4,
 "nbformat_minor": 5
}
