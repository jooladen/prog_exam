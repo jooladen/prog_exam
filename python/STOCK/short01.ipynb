{
 "cells": [
  {
   "cell_type": "code",
   "execution_count": null,
   "metadata": {
    "vscode": {
     "languageId": "plaintext"
    }
   },
   "outputs": [],
   "source": [
    "# 필요한 패키지 설치 (최초 1회만 실행)\n",
    "# !pip install yfinance ta pandas matplotlib\n",
    "\n",
    "import pandas as pd\n",
    "import yfinance as yf\n",
    "import ta\n",
    "import numpy as np\n",
    "import matplotlib.pyplot as plt\n",
    "\n",
    "# 1. 데이터 수집 (삼성전자 예시)\n",
    "ticker = \"005930.KS\"\n",
    "start_date = \"2020-01-01\"\n",
    "end_date = \"2024-12-31\"\n",
    "\n",
    "df = yf.download(ticker, start=start_date, end=end_date)\n",
    "\n",
    "# 2. 기술적 지표 및 조건 계산\n",
    "df[\"RSI\"] = ta.momentum.RSIIndicator(df[\"Close\"]).rsi()\n",
    "df[\"Volume_Spike\"] = df[\"Volume\"] > df[\"Volume\"].rolling(5).mean() * 2\n",
    "df[\"Bullish_Candle\"] = df[\"Close\"] > df[\"Open\"]\n",
    "\n",
    "# 3. 공매도 관련 지표 (실제 연동 시 별도 크롤링 필요 – 여기선 임의 생성)\n",
    "np.random.seed(42)\n",
    "df[\"공매도_비중\"] = np.random.uniform(0.5, 2.5, len(df))  # 상위 5% 비중 설정\n",
    "df[\"공매도_급증\"] = df[\"공매도_비중\"].diff() > 0.5\n",
    "df[\"업틱룰_발동\"] = np.random.choice([True, False], size=len(df), p=[0.1, 0.9])\n",
    "df[\"외인_순매수\"] = np.random.randint(-1000, 1000, size=len(df))\n",
    "df[\"기관_순매수\"] = np.random.randint(-1000, 1000, size=len(df))\n",
    "\n",
    "# 4. 매수 시그널 조건 조합\n",
    "df[\"Signal\"] = (\n",
    "    (df[\"공매도_비중\"] > 1.5) &\n",
    "    (df[\"공매도_급증\"]) &\n",
    "    (df[\"업틱룰_발동\"]) &\n",
    "    (df[\"RSI\"] < 30) &\n",
    "    (df[\"Bullish_Candle\"]) &\n",
    "    (df[\"Volume_Spike\"]) &\n",
    "    (df[\"외인_순매수\"] > 0) &\n",
    "    (df[\"기관_순매수\"] > 0)\n",
    ")\n",
    "\n",
    "# 5. 백테스트: 매수 다음날 시가 → 5일 후 종가 매도\n",
    "df = df.reset_index()\n",
    "trades = []\n",
    "\n",
    "for i in range(len(df) - 6):\n",
    "    if df.loc[i, \"Signal\"]:\n",
    "        entry_date = df.loc[i + 1, \"Date\"]\n",
    "        entry_price = df.loc[i + 1, \"Open\"]\n",
    "        exit_price = df.loc[i + 6, \"Close\"]\n",
    "        ret = (exit_price - entry_price) / entry_price\n",
    "        trades.append({\n",
    "            \"Entry Date\": entry_date,\n",
    "            \"Entry Price\": entry_price,\n",
    "            \"Exit Price\": exit_price,\n",
    "            \"Return\": ret\n",
    "        })\n",
    "\n",
    "results_df = pd.DataFrame(trades)\n",
    "results_df[\"Cumulative Return\"] = (1 + results_df[\"Return\"]).cumprod()\n",
    "\n",
    "# 결과 출력\n",
    "print(results_df)\n",
    "results_df[[\"Entry Date\", \"Return\", \"Cumulative Return\"]].plot(x=\"Entry Date\", marker='o', title=\"공매도 기반 전략 수익률 추이\")\n",
    "plt.grid(True)\n",
    "plt.show()\n"
   ]
  },
  {
   "cell_type": "code",
   "execution_count": null,
   "metadata": {},
   "outputs": [],
   "source": []
  }
 ],
 "metadata": {
  "language_info": {
   "name": "python"
  }
 },
 "nbformat": 4,
 "nbformat_minor": 2
}
