{
 "cells": [
  {
   "cell_type": "code",
   "execution_count": 32,
   "metadata": {},
   "outputs": [
    {
     "name": "stdout",
     "output_type": "stream",
     "text": [
      "Type:  <class 'bs4.element.ResultSet'>\n",
      "Articles Found: 20\n",
      "뉴욕증시, CPI 발표 앞두고 혼조세…오라클 8%대 급락\n",
      "“내년 투자계획 이정도로 처참”…탄핵정국 불똥 튄 기업들, 목표는 일단 생존\n"
     ]
    }
   ],
   "source": [
    "import requests\n",
    "from bs4 import BeautifulSoup\n",
    "\n",
    "response = requests.get(\"https://finance.naver.com/news/mainnews.naver?date=2024-12-10\")\n",
    "html = response.text\n",
    "soup = BeautifulSoup(html, \"html.parser\")\n",
    "#10개가 있다면 select_one은 1개만 딱 가지고 온다\n",
    "\n",
    "articles = soup.select(\".block1\")\n",
    "print(\"Type: \", type(articles)) \n",
    "print(f\"Articles Found: {len(articles)}\")  # 찾은 article 수 확인\n",
    "\n",
    "for article in articles[:2]:\n",
    "    #print(f\"Debugging Article: {article}\")  # 전체 HTML 출력\n",
    "    title = article.select_one(\".articleSubject > a\").text\n",
    "    print(title)\n",
    "\n"
   ]
  },
  {
   "cell_type": "code",
   "execution_count": null,
   "metadata": {},
   "outputs": [],
   "source": []
  }
 ],
 "metadata": {
  "kernelspec": {
   "display_name": "base",
   "language": "python",
   "name": "python3"
  },
  "language_info": {
   "codemirror_mode": {
    "name": "ipython",
    "version": 3
   },
   "file_extension": ".py",
   "mimetype": "text/x-python",
   "name": "python",
   "nbconvert_exporter": "python",
   "pygments_lexer": "ipython3",
   "version": "3.12.7"
  }
 },
 "nbformat": 4,
 "nbformat_minor": 2
}
