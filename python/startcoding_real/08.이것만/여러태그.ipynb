{
 "cells": [
  {
   "cell_type": "code",
   "execution_count": 14,
   "metadata": {},
   "outputs": [],
   "source": [
    "from selenium import webdriver\n",
    "from selenium.webdriver.common.by import By\n",
    "from selenium.webdriver.chrome.service import Service\n",
    "from webdriver_manager.chrome import ChromeDriverManager\n",
    "import time \n",
    "from tqdm import tqdm  # tqdm 임포트\n",
    "\n",
    "# WebDriver 설정\n",
    "driver = webdriver.Chrome(service=Service(ChromeDriverManager().install()))\n",
    "\n",
    "# 페이지 열기 (여기에 페이지 URL을 넣으세요)\n",
    "url = \"https://startcoding.pythonanywhere.com/basic\"  # 예시 URL, 실제 URL로 수정 필요\n",
    "driver.get(url)\n",
    "\n",
    "# 페이지가 로드될 때까지 잠시 대기\n",
    "time.sleep(5)\n",
    "\n",
    "\n",
    "#labels = driver.find_elements(By.CSS_SELECTOR, '.input-checkbox > label')\n",
    "labels = driver.find_elements(By.CSS_SELECTOR, 'label[for]')\n",
    "#print(labels)\n",
    "\n",
    "for label in labels:\n",
    "    label.click()\n",
    "    time.sleep(1)\n",
    "\n"
   ]
  },
  {
   "cell_type": "code",
   "execution_count": null,
   "metadata": {},
   "outputs": [],
   "source": []
  }
 ],
 "metadata": {
  "kernelspec": {
   "display_name": "base",
   "language": "python",
   "name": "python3"
  },
  "language_info": {
   "codemirror_mode": {
    "name": "ipython",
    "version": 3
   },
   "file_extension": ".py",
   "mimetype": "text/x-python",
   "name": "python",
   "nbconvert_exporter": "python",
   "pygments_lexer": "ipython3",
   "version": "3.12.7"
  }
 },
 "nbformat": 4,
 "nbformat_minor": 2
}
