{
 "cells": [
  {
   "cell_type": "code",
   "execution_count": 4,
   "id": "b319e0be-ddf7-44c1-9513-0312df9ec95f",
   "metadata": {},
   "outputs": [
    {
     "name": "stdout",
     "output_type": "stream",
     "text": [
      "Requirement already satisfied: pyperclip in c:\\users\\jooladen\\miniconda3\\lib\\site-packages (1.9.0)\n",
      "기기 등록 '등록안함' 버튼을 찾을 수 없습니다.\n"
     ]
    }
   ],
   "source": [
    "#!pip install pyperclip\n",
    "import time\n",
    "import pyperclip\n",
    "from selenium.webdriver.support import expected_conditions as EC\n",
    "from selenium.webdriver import ActionChains, Keys\n",
    "from selenium.webdriver.common.by import By\n",
    "from selenium import webdriver\n",
    "from selenium.webdriver.chrome.service import Service as ChromeService\n",
    "from selenium.webdriver.support.ui import WebDriverWait\n",
    "from webdriver_manager.chrome import ChromeDriverManager\n",
    "\n",
    "\n",
    "class NaverLoginService():\n",
    "\n",
    "    def __init__(self):\n",
    "        self.driver = None\n",
    "\n",
    "    def open_web_mode(self):\n",
    "        self.driver = webdriver.Chrome(service=ChromeService(ChromeDriverManager().install()))\n",
    "        self.driver.set_page_load_timeout(10)\n",
    "\n",
    "    def close_browser(self):\n",
    "        if self.driver:\n",
    "            self.driver.quit()\n",
    "            self.driver = None\n",
    "\n",
    "    def login(self):\n",
    "        #self.driver.get(\"https://nid.naver.com/nidlogin.login\")\n",
    "        self.driver.get(\"https://nid.naver.com/nidlogin.login?mode=form&url=https://www.naver.com/\")\n",
    "        time.sleep(2)  # 페이지 로딩 대기\n",
    "\n",
    "        test_id = \"21thjojo\"\n",
    "        test_passwd = \"**\"\n",
    "\n",
    "        # 아이디 입력\n",
    "        id_input = self.driver.find_element(By.ID, \"id\")\n",
    "        id_input.click()\n",
    "        pyperclip.copy(test_id)\n",
    "        actions = ActionChains(self.driver)\n",
    "        actions.key_down(Keys.CONTROL).send_keys('v').key_up(Keys.CONTROL).perform()\n",
    "        time.sleep(1)  # 입력 후 잠시 대기\n",
    "\n",
    "        # 패스워드 입력\n",
    "        pw_input = self.driver.find_element(By.ID, \"pw\")\n",
    "        pw_input.click()\n",
    "        pyperclip.copy(test_passwd)\n",
    "        actions = ActionChains(self.driver)\n",
    "        actions.key_down(Keys.CONTROL).send_keys('v').key_up(Keys.CONTROL).perform()\n",
    "        time.sleep(1)  # 입력 후 잠시 대기\n",
    "\n",
    "        # 로그인 버튼 클릭\n",
    "        self.driver.find_element(By.ID, \"log.login\").click()\n",
    "\n",
    "        # 로그인 후 '새로운 환경' 알림에서 '등록안함' 버튼 클릭\n",
    "        try:\n",
    "            element = WebDriverWait(self.driver, 10).until(\n",
    "                EC.presence_of_element_located((By.CSS_SELECTOR, \"span.btn_cancel\"))\n",
    "            )\n",
    "            element.click()\n",
    "        except:\n",
    "            print(\"기기 등록 '등록안함' 버튼을 찾을 수 없습니다.\")\n",
    "\n",
    "\n",
    "if __name__ == \"__main__\":\n",
    "    naver_service = NaverLoginService()\n",
    "    naver_service.open_web_mode()\n",
    "    naver_service.login()\n",
    "    time.sleep(5)\n",
    "    naver_service.close_browser()"
   ]
  },
  {
   "cell_type": "code",
   "execution_count": null,
   "id": "11041bf3-225f-46e4-98c2-674ab7c06c47",
   "metadata": {},
   "outputs": [],
   "source": []
  }
 ],
 "metadata": {
  "kernelspec": {
   "display_name": "base",
   "language": "python",
   "name": "python3"
  },
  "language_info": {
   "codemirror_mode": {
    "name": "ipython",
    "version": 3
   },
   "file_extension": ".py",
   "mimetype": "text/x-python",
   "name": "python",
   "nbconvert_exporter": "python",
   "pygments_lexer": "ipython3",
   "version": "3.12.7"
  }
 },
 "nbformat": 4,
 "nbformat_minor": 5
}
